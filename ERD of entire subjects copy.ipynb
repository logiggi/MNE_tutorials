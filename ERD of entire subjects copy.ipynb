{
 "cells": [
  {
   "cell_type": "markdown",
   "metadata": {},
   "source": [
    "# 🧠 ERD of Entire Subjects 🖥️\n",
    "---"
   ]
  },
  {
   "cell_type": "markdown",
   "metadata": {},
   "source": [
    "* 52명의 피실험자의 뇌파 신호(C3, C4)의 평균을 구하여 ERD를 관찰"
   ]
  },
  {
   "cell_type": "code",
   "execution_count": null,
   "metadata": {},
   "outputs": [],
   "source": [
    "import mne\n",
    "import scipy.io\n",
    "import numpy as np\n",
    "import matplotlib.pyplot as plt"
   ]
  },
  {
   "cell_type": "markdown",
   "metadata": {},
   "source": [
    "### 🗂️s01 ~ s52 mat파일을 변수로 저장"
   ]
  },
  {
   "cell_type": "code",
   "execution_count": null,
   "metadata": {},
   "outputs": [],
   "source": [
    "slen = 52\n",
    "mat_list = []\n",
    "\n",
    "for i in range(0, slen):\n",
    "    # Fill the blank"
   ]
  },
  {
   "cell_type": "markdown",
   "metadata": {},
   "source": [
    "### 🎒```mat``` file을 ```Raw``` 객체로 변환"
   ]
  },
  {
   "cell_type": "code",
   "execution_count": null,
   "metadata": {},
   "outputs": [],
   "source": [
    "# info 매개변수 생성\n",
    "eeg_ch_names = [\n",
    "    \"Fp1\", \"AF7\", \"AF3\", \"F1\", \"F3\", \"F5\", \"F7\", \"FT7\", \"FC5\", \"FC3\", \"FC1\",\n",
    "    \"C1\", \"C3\", \"C5\", \"T7\", \"TP7\", \"CP5\", \"CP3\", \"CP1\", \"P1\", \"P3\", \"P5\", \"P7\",\n",
    "    \"P9\", \"PO7\", \"PO3\", \"O1\", \"Iz\", \"Oz\", \"POz\", \"Pz\", \"CPz\", \"Fpz\", \"Fp2\",\n",
    "    \"AF8\", \"AF4\", \"AFz\", \"Fz\", \"F2\", \"F4\", \"F6\", \"F8\", \"FT8\", \"FC6\", \"FC4\",\n",
    "    \"FC2\", \"FCz\", \"Cz\", \"C2\", \"C4\", \"C6\", \"T8\", \"TP8\", \"CP6\", \"CP4\", \"CP2\",\n",
    "    \"P2\", \"P4\", \"P6\", \"P8\", \"P10\", \"PO8\", \"PO4\", \"O2\",\n",
    "]\n",
    "emg_ch_names = [\"EMG1\", \"EMG2\", \"EMG3\", \"EMG4\"]\n",
    "ch_names = eeg_ch_names + emg_ch_names + [\"Stim\"]\n",
    "ch_types = [\"eeg\"] * 64 + [\"emg\"] * 4 + [\"stim\"]\n",
    "srate = mat_list[0]['eeg'][0]['srate'][0][0]\n",
    "\n",
    "# info 생성\n",
    "info = mne.create_info(ch_names=ch_names, sfreq=srate, ch_types=ch_types)\n",
    "\n",
    "# Stim channel 붙이기\n",
    "left = []\n",
    "right = []\n",
    "for i in range(0, slen):\n",
    "    # Fill the blank\n",
    "\n",
    "# Raw 생성\n",
    "lr = []\n",
    "rr = []\n",
    "for i in range(0, slen):\n",
    "    # Fill the blank\n",
    "raw = [lr, rr]"
   ]
  },
  {
   "cell_type": "code",
   "execution_count": null,
   "metadata": {},
   "outputs": [],
   "source": [
    "LEFT = 0\n",
    "RIGHT = 1"
   ]
  },
  {
   "cell_type": "markdown",
   "metadata": {},
   "source": [
    "### 🔖Rereference"
   ]
  },
  {
   "cell_type": "code",
   "execution_count": null,
   "metadata": {},
   "outputs": [],
   "source": [
    "for i in range(0, slen):\n",
    "    # Fill the blank"
   ]
  },
  {
   "cell_type": "markdown",
   "metadata": {},
   "source": [
    "### ✂️-2s ~ 5s Epoching"
   ]
  },
  {
   "cell_type": "code",
   "execution_count": null,
   "metadata": {},
   "outputs": [],
   "source": [
    "# events 생성\n",
    "le = []\n",
    "re = []\n",
    "for i in range(0, slen):\n",
    "    # Fill the blank\n",
    "events = [le, re]"
   ]
  },
  {
   "cell_type": "code",
   "execution_count": null,
   "metadata": {},
   "outputs": [],
   "source": [
    "# Epochs 생성\n",
    "le = []\n",
    "re = []\n",
    "for i in range(0, slen):\n",
    "    # Fill the blank\n",
    "epochs = [le, re]\n",
    "\n",
    "# Pick C3, C4\n",
    "for i in range(0, slen):\n",
    "    epochs[LEFT][i].load_data()\n",
    "    epochs[RIGHT][i].load_data()\n",
    "    \n",
    "    # Fill the blank\n",
    "\n",
    "raw = []"
   ]
  },
  {
   "cell_type": "markdown",
   "metadata": {},
   "source": [
    "### 🚪Bandpass Filtering(alpha band: 8Hz ~ 13Hz)"
   ]
  },
  {
   "cell_type": "code",
   "execution_count": null,
   "metadata": {},
   "outputs": [],
   "source": [
    "le = []\n",
    "re = []\n",
    "for i in range(0, slen):\n",
    "    sl = []\n",
    "    sr = []\n",
    "    for j in range(0, len(epochs[LEFT][0])):\n",
    "        # Fill the blank\n",
    "    le.append(sl)\n",
    "    re.append(sr)\n",
    "epochs = [le, re]"
   ]
  },
  {
   "cell_type": "markdown",
   "metadata": {},
   "source": [
    "### ✂️-1s ~ 3s Epoching"
   ]
  },
  {
   "cell_type": "code",
   "execution_count": null,
   "metadata": {},
   "outputs": [],
   "source": [
    "le = []\n",
    "re = []\n",
    "for i in range(0, slen):\n",
    "    sl = []\n",
    "    sr = []\n",
    "    for j in range(0, len(epochs[LEFT][0])):\n",
    "        # Fill the blank\n",
    "    le.append(sl)\n",
    "    re.append(sr)\n",
    "epochs = [le, re]"
   ]
  },
  {
   "cell_type": "markdown",
   "metadata": {},
   "source": [
    "### 🧮ERDs of each subject"
   ]
  },
  {
   "cell_type": "code",
   "execution_count": null,
   "metadata": {},
   "outputs": [],
   "source": [
    "ld = []\n",
    "rd = []\n",
    "for i in range(0, slen):\n",
    "    sl = []\n",
    "    sr = []\n",
    "    for j in range(0, len(epochs[LEFT][0])):\n",
    "        sl.append(epochs[LEFT][i][j].get_data()[0])\n",
    "        sr.append(epochs[RIGHT][i][j].get_data()[0])\n",
    "    ld.append(sl)\n",
    "    rd.append(sr)\n",
    "data = [ld, rd]     # [(52 * 100 * 2), (52 * 100 * 2)]"
   ]
  },
  {
   "cell_type": "code",
   "execution_count": null,
   "metadata": {},
   "outputs": [],
   "source": [
    "# abs\n",
    "data = # Fill the blank\n",
    "\n",
    "# mean\n",
    "data = # Fill the blank"
   ]
  },
  {
   "cell_type": "code",
   "execution_count": null,
   "metadata": {},
   "outputs": [],
   "source": [
    "l_erd = []\n",
    "r_erd = []\n",
    "for i in range(0, slen):\n",
    "    R = # Fill the blank\n",
    "    l_erd.append((data[LEFT][i] - R[LEFT]) / R[LEFT] * 100)\n",
    "    r_erd.append((data[RIGHT][i] - R[RIGHT]) / R[RIGHT] * 100)\n",
    "ERD = [l_erd, r_erd]    # [(52 * 2), (52 * 2)]"
   ]
  },
  {
   "cell_type": "code",
   "execution_count": null,
   "metadata": {},
   "outputs": [],
   "source": [
    "C3 = 0\n",
    "C4 = 1"
   ]
  },
  {
   "cell_type": "code",
   "execution_count": null,
   "metadata": {},
   "outputs": [],
   "source": [
    "# 예시 데이터 plot\n",
    "fig, axes = plt.subplots(nrows=3, ncols=1, figsize=(8, 15))\n",
    "\n",
    "axes[0].plot((np.arange(len(ERD[LEFT][0][C3])) - 512) / 512, ERD[LEFT][0][C3], label='C3')\n",
    "axes[0].plot((np.arange(len(ERD[LEFT][0][C4])) - 512) / 512, ERD[LEFT][0][C4], label='C4')\n",
    "axes[0].set_title(\"Left\")\n",
    "axes[0].set_xlabel(\"Times\")\n",
    "axes[0].set_ylabel(\"ERD%\")\n",
    "axes[0].legend()\n",
    "\n",
    "axes[1].plot((np.arange(len(ERD[RIGHT][0][C3])) - 512) / 512, ERD[RIGHT][0][C3], label='C3')\n",
    "axes[1].plot((np.arange(len(ERD[RIGHT][0][C4])) - 512) / 512, ERD[RIGHT][0][C4], label='C4')\n",
    "axes[1].set_title(\"Right\")\n",
    "axes[1].set_xlabel(\"Times\")\n",
    "axes[1].set_ylabel(\"ERD%\")\n",
    "axes[1].legend()\n",
    "\n",
    "axes[2].plot((np.arange(len(ERD[RIGHT][0][C3])) - 512) / 512, ERD[LEFT][0][C3] - ERD[RIGHT][0][C3], label='C3')\n",
    "axes[2].plot((np.arange(len(ERD[RIGHT][0][C3])) - 512) / 512, ERD[LEFT][0][C4] - ERD[RIGHT][0][C4], label='C4')\n",
    "axes[2].set_title(\"Left - Right\")\n",
    "axes[2].set_xlabel(\"Times\")\n",
    "axes[2].set_ylabel(\"ERD%\")\n",
    "axes[2].legend()\n",
    "\n",
    "for ax in axes:\n",
    "    ax.axvline(x=0, color='red', linestyle='--')\n",
    "\n",
    "plt.show()"
   ]
  },
  {
   "cell_type": "markdown",
   "metadata": {},
   "source": [
    "### 🧮Mean of ERD"
   ]
  },
  {
   "cell_type": "code",
   "execution_count": null,
   "metadata": {},
   "outputs": [],
   "source": [
    "ERD = # Fill the blank"
   ]
  },
  {
   "cell_type": "code",
   "execution_count": null,
   "metadata": {},
   "outputs": [],
   "source": [
    "# 예시 데이터 plot\n",
    "fig, axes = plt.subplots(nrows=3, ncols=1, figsize=(8, 15))\n",
    "\n",
    "axes[0].plot((np.arange(len(ERD[LEFT][C3])) - 512) / 512, ERD[LEFT][C3], label='C3')\n",
    "axes[0].plot((np.arange(len(ERD[LEFT][C4])) - 512) / 512, ERD[LEFT][C4], label='C4')\n",
    "axes[0].set_title(\"Left\")\n",
    "axes[0].set_xlabel(\"Times\")\n",
    "axes[0].set_ylabel(\"ERD%\")\n",
    "axes[0].legend()\n",
    "\n",
    "axes[1].plot((np.arange(len(ERD[RIGHT][C3])) - 512) / 512, ERD[RIGHT][C3], label='C3')\n",
    "axes[1].plot((np.arange(len(ERD[RIGHT][C4])) - 512) / 512, ERD[RIGHT][C4], label='C4')\n",
    "axes[1].set_title(\"Right\")\n",
    "axes[1].set_xlabel(\"Times\")\n",
    "axes[1].set_ylabel(\"ERD%\")\n",
    "axes[1].legend()\n",
    "\n",
    "axes[2].plot((np.arange(len(ERD[RIGHT][C3])) - 512) / 512, ERD[LEFT][C3] - ERD[RIGHT][C3], label='C3')\n",
    "axes[2].plot((np.arange(len(ERD[RIGHT][C3])) - 512) / 512, ERD[LEFT][C4] - ERD[RIGHT][C4], label='C4')\n",
    "axes[2].set_title(\"Left - Right\")\n",
    "axes[2].set_xlabel(\"Times\")\n",
    "axes[2].set_ylabel(\"ERD%\")\n",
    "axes[2].legend()\n",
    "\n",
    "for ax in axes:\n",
    "    ax.axvline(x=0, color='red', linestyle='--')\n",
    "\n",
    "plt.show()"
   ]
  },
  {
   "cell_type": "markdown",
   "metadata": {},
   "source": [
    "### 🛝Hilbert Transform "
   ]
  },
  {
   "cell_type": "code",
   "execution_count": null,
   "metadata": {},
   "outputs": [],
   "source": [
    "for i in range(0, len(epochs[LEFT])):\n",
    "    for j in range(0, len(epochs[LEFT][i])):\n",
    "        # Fill the blank\n",
    "\n",
    "ld = []\n",
    "rd = []\n",
    "for i in range(0, slen):\n",
    "    sl = []\n",
    "    sr = []\n",
    "    for j in range(0, len(epochs[LEFT][0])):\n",
    "        sl.append(epochs[LEFT][i][j].get_data()[0])\n",
    "        sr.append(epochs[RIGHT][i][j].get_data()[0])\n",
    "    ld.append(sl)\n",
    "    rd.append(sr)\n",
    "data = [ld, rd]     # [(52 * 100 * 2), (52 * 100 * 2)]\n",
    "\n",
    "# abs()\n",
    "data = # Fill the blank\n",
    "\n",
    "# mean\n",
    "data = # Fill the blank\n",
    "\n",
    "l_erd = []\n",
    "r_erd = []\n",
    "for i in range(0, slen):\n",
    "    R = # Fill the blank\n",
    "    l_erd.append((data[LEFT][i] - R[LEFT]) / R[LEFT] * 100)\n",
    "    r_erd.append((data[RIGHT][i] - R[RIGHT]) / R[RIGHT] * 100)\n",
    "ERD = [l_erd, r_erd] \n",
    "\n",
    "# mean of ERD\n",
    "ERD = # Fill the blank"
   ]
  },
  {
   "cell_type": "code",
   "execution_count": null,
   "metadata": {},
   "outputs": [],
   "source": [
    "# 예시 데이터 plot\n",
    "fig, axes = plt.subplots(nrows=3, ncols=1, figsize=(8, 15))\n",
    "\n",
    "axes[0].plot((np.arange(len(ERD[LEFT][C3])) - 512) / 512, ERD[LEFT][C3], label='C3')\n",
    "axes[0].plot((np.arange(len(ERD[LEFT][C4])) - 512) / 512, ERD[LEFT][C4], label='C4')\n",
    "axes[0].set_title(\"Left\")\n",
    "axes[0].set_xlabel(\"Times\")\n",
    "axes[0].set_ylabel(\"ERD%\")\n",
    "axes[0].legend()\n",
    "\n",
    "axes[1].plot((np.arange(len(ERD[RIGHT][C3])) - 512) / 512, ERD[RIGHT][C3], label='C3')\n",
    "axes[1].plot((np.arange(len(ERD[RIGHT][C4])) - 512) / 512, ERD[RIGHT][C4], label='C4')\n",
    "axes[1].set_title(\"Right\")\n",
    "axes[1].set_xlabel(\"Times\")\n",
    "axes[1].set_ylabel(\"ERD%\")\n",
    "axes[1].legend()\n",
    "\n",
    "axes[2].plot((np.arange(len(ERD[RIGHT][C3])) - 512) / 512, ERD[LEFT][C3] - ERD[RIGHT][C3], label='C3')\n",
    "axes[2].plot((np.arange(len(ERD[RIGHT][C3])) - 512) / 512, ERD[LEFT][C4] - ERD[RIGHT][C4], label='C4')\n",
    "axes[2].set_title(\"Left - Right\")\n",
    "axes[2].set_xlabel(\"Times\")\n",
    "axes[2].set_ylabel(\"ERD%\")\n",
    "axes[2].legend()\n",
    "\n",
    "for ax in axes:\n",
    "    ax.axvline(x=0, color='red', linestyle='--')\n",
    "\n",
    "plt.show()"
   ]
  }
 ],
 "metadata": {
  "kernelspec": {
   "display_name": "Python 3",
   "language": "python",
   "name": "python3"
  },
  "language_info": {
   "codemirror_mode": {
    "name": "ipython",
    "version": 3
   },
   "file_extension": ".py",
   "mimetype": "text/x-python",
   "name": "python",
   "nbconvert_exporter": "python",
   "pygments_lexer": "ipython3",
   "version": "3.10.11"
  },
  "orig_nbformat": 4
 },
 "nbformat": 4,
 "nbformat_minor": 2
}
