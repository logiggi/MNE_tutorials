{
 "cells": [
  {
   "cell_type": "markdown",
   "metadata": {},
   "source": [
    "# 🧠 Preprocessing for Classification 🛠️\n",
    "---"
   ]
  },
  {
   "cell_type": "markdown",
   "metadata": {},
   "source": [
    "* Classification을 위한 뇌파 데이터를 전처리 한다."
   ]
  },
  {
   "cell_type": "code",
   "execution_count": null,
   "metadata": {},
   "outputs": [],
   "source": [
    "import mne\n",
    "import scipy.io\n",
    "import numpy as np\n",
    "import matplotlib.pyplot as plt"
   ]
  },
  {
   "cell_type": "markdown",
   "metadata": {},
   "source": [
    "### 🗂️s01 ~ s52 mat파일을 변수로 저장"
   ]
  },
  {
   "cell_type": "code",
   "execution_count": null,
   "metadata": {},
   "outputs": [],
   "source": [
    "slen = 52\n",
    "mat_list = []\n",
    "\n",
    "for i in range(0, slen):\n",
    "    mat_list.append(scipy.io.loadmat(\"GIST_MI/s{:02}.mat\".format(i+1)))"
   ]
  },
  {
   "cell_type": "markdown",
   "metadata": {},
   "source": [
    "### 🎒```mat``` file을 ```Raw``` 객체로 변환"
   ]
  },
  {
   "cell_type": "code",
   "execution_count": null,
   "metadata": {},
   "outputs": [],
   "source": [
    "# info 매개변수 생성\n",
    "eeg_ch_names = [\n",
    "    \"Fp1\", \"AF7\", \"AF3\", \"F1\", \"F3\", \"F5\", \"F7\", \"FT7\", \"FC5\", \"FC3\", \"FC1\",\n",
    "    \"C1\", \"C3\", \"C5\", \"T7\", \"TP7\", \"CP5\", \"CP3\", \"CP1\", \"P1\", \"P3\", \"P5\", \"P7\",\n",
    "    \"P9\", \"PO7\", \"PO3\", \"O1\", \"Iz\", \"Oz\", \"POz\", \"Pz\", \"CPz\", \"Fpz\", \"Fp2\",\n",
    "    \"AF8\", \"AF4\", \"AFz\", \"Fz\", \"F2\", \"F4\", \"F6\", \"F8\", \"FT8\", \"FC6\", \"FC4\",\n",
    "    \"FC2\", \"FCz\", \"Cz\", \"C2\", \"C4\", \"C6\", \"T8\", \"TP8\", \"CP6\", \"CP4\", \"CP2\",\n",
    "    \"P2\", \"P4\", \"P6\", \"P8\", \"P10\", \"PO8\", \"PO4\", \"O2\",\n",
    "]\n",
    "emg_ch_names = [\"EMG1\", \"EMG2\", \"EMG3\", \"EMG4\"]\n",
    "ch_names = eeg_ch_names + emg_ch_names + [\"Stim\"]\n",
    "ch_types = [\"eeg\"] * 64 + [\"emg\"] * 4 + [\"stim\"]\n",
    "srate = mat_list[0]['eeg'][0]['srate'][0][0]\n",
    "\n",
    "# info 생성\n",
    "info = mne.create_info(ch_names=ch_names, sfreq=srate, ch_types=ch_types)\n",
    "\n",
    "# Stim channel 붙이기\n",
    "left = []\n",
    "right = []\n",
    "for i in range(0, slen):\n",
    "    left.append(np.vstack((mat_list[i]['eeg'][0]['imagery_left'][0], mat_list[i]['eeg'][0]['imagery_event'][0])))\n",
    "    right.append(np.vstack((mat_list[i]['eeg'][0]['imagery_right'][0], mat_list[i]['eeg'][0]['imagery_event'][0])))\n",
    "\n",
    "\n",
    "# Raw 생성\n",
    "lr = []\n",
    "rr = []\n",
    "for i in range(0, slen):\n",
    "    lr.append(mne.io.RawArray(left[i], info=info))\n",
    "    rr.append(mne.io.RawArray(right[i], info=info))\n",
    "raw = [lr, rr]"
   ]
  },
  {
   "cell_type": "code",
   "execution_count": null,
   "metadata": {},
   "outputs": [],
   "source": [
    "LEFT = 0\n",
    "RIGHT = 1"
   ]
  },
  {
   "cell_type": "markdown",
   "metadata": {},
   "source": [
    "### 🔖Reference"
   ]
  },
  {
   "cell_type": "code",
   "execution_count": null,
   "metadata": {},
   "outputs": [],
   "source": [
    "for i in range(0, slen):\n",
    "    mne.set_eeg_reference(raw[LEFT][i], ch_type='eeg')\n",
    "    mne.set_eeg_reference(raw[RIGHT][i], ch_type='eeg')"
   ]
  },
  {
   "cell_type": "markdown",
   "metadata": {},
   "source": [
    "### 🚪Bandpass Filtering(5Hz ~ 40Hz)"
   ]
  },
  {
   "cell_type": "code",
   "execution_count": null,
   "metadata": {},
   "outputs": [],
   "source": [
    "for i in range(0, slen):\n",
    "    raw[LEFT][i].filter(l_freq=5, h_freq=40, n_jobs=-1)\n",
    "    raw[RIGHT][i].filter(l_freq=5, h_freq=40, n_jobs=-1)"
   ]
  },
  {
   "cell_type": "markdown",
   "metadata": {},
   "source": [
    "### ✂️-500ms - 3000ms Epoching "
   ]
  },
  {
   "cell_type": "code",
   "execution_count": null,
   "metadata": {},
   "outputs": [],
   "source": [
    "# events 생성\n",
    "le = []\n",
    "re = []\n",
    "for i in range(0, slen):\n",
    "    le.append(mne.find_events(raw[LEFT][i], stim_channel='Stim'))\n",
    "    re.append(mne.find_events(raw[RIGHT][i], stim_channel='Stim'))\n",
    "events = [le, re]"
   ]
  },
  {
   "cell_type": "code",
   "execution_count": null,
   "metadata": {},
   "outputs": [],
   "source": [
    "# Epochs 생성\n",
    "le = []\n",
    "re = []\n",
    "for i in range(0, slen):\n",
    "    le.append(mne.Epochs(raw[LEFT][i], events[LEFT][i], tmin=-0.5, tmax=3, baseline=(-0.5, 0)))\n",
    "    re.append(mne.Epochs(raw[RIGHT][i], events[RIGHT][i], tmin=-0.5, tmax=3, baseline=(-0.5, 0)))\n",
    "epochs = [le, re]"
   ]
  },
  {
   "cell_type": "markdown",
   "metadata": {},
   "source": [
    "### ❓Question\n",
    "* 500ms ~ 3000ms 인지, -500ms ~ 3000ms 인지 ...\n",
    "    * 500ms ~ 3000ms 라면 baseline correction은 어딜 기준으로 해야 하는가?"
   ]
  },
  {
   "cell_type": "markdown",
   "metadata": {},
   "source": [
    "### ⭕Classification❌\n",
    "\n",
    "To be continue..."
   ]
  }
 ],
 "metadata": {
  "kernelspec": {
   "display_name": "Python 3",
   "language": "python",
   "name": "python3"
  },
  "language_info": {
   "name": "python",
   "version": "3.10.11"
  },
  "orig_nbformat": 4
 },
 "nbformat": 4,
 "nbformat_minor": 2
}
