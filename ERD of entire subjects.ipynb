{
 "cells": [
  {
   "cell_type": "markdown",
   "metadata": {},
   "source": [
    "# 🧠 ERD of Entire Subjects 🖥️\n",
    "---"
   ]
  },
  {
   "cell_type": "markdown",
   "metadata": {},
   "source": [
    "* 52명의 피실험자의 뇌파 신호(C3, C4)의 평균을 구하여 ERD를 관찰"
   ]
  },
  {
   "cell_type": "code",
   "execution_count": 1,
   "metadata": {},
   "outputs": [],
   "source": [
    "import mne\n",
    "import scipy.io\n",
    "import numpy as np\n",
    "import matplotlib.pyplot as plt"
   ]
  },
  {
   "cell_type": "markdown",
   "metadata": {},
   "source": [
    "### 🗂️s01 ~ s52 mat파일을 변수로 저장"
   ]
  },
  {
   "cell_type": "code",
   "execution_count": 2,
   "metadata": {},
   "outputs": [],
   "source": [
    "slen = 52\n",
    "mat_list = []\n",
    "\n",
    "for i in range(0, slen):\n",
    "    mat_list.append(scipy.io.loadmat(\"GIST_MI/s{:02}.mat\".format(i+1)))"
   ]
  },
  {
   "cell_type": "markdown",
   "metadata": {},
   "source": [
    "### 🎒```mat``` file을 ```Raw``` 객체로 변환"
   ]
  },
  {
   "cell_type": "code",
   "execution_count": 3,
   "metadata": {},
   "outputs": [
    {
     "name": "stdout",
     "output_type": "stream",
     "text": [
      "Creating RawArray with float64 data, n_channels=69, n_times=358400\n",
      "    Range : 0 ... 358399 =      0.000 ...   699.998 secs\n",
      "Ready.\n",
      "Creating RawArray with float64 data, n_channels=69, n_times=358400\n",
      "    Range : 0 ... 358399 =      0.000 ...   699.998 secs\n",
      "Ready.\n",
      "Creating RawArray with float64 data, n_channels=69, n_times=358400\n",
      "    Range : 0 ... 358399 =      0.000 ...   699.998 secs\n",
      "Ready.\n",
      "Creating RawArray with float64 data, n_channels=69, n_times=358400\n",
      "    Range : 0 ... 358399 =      0.000 ...   699.998 secs\n",
      "Ready.\n",
      "Creating RawArray with float64 data, n_channels=69, n_times=358400\n",
      "    Range : 0 ... 358399 =      0.000 ...   699.998 secs\n",
      "Ready.\n",
      "Creating RawArray with float64 data, n_channels=69, n_times=358400\n",
      "    Range : 0 ... 358399 =      0.000 ...   699.998 secs\n",
      "Ready.\n",
      "Creating RawArray with float64 data, n_channels=69, n_times=358400\n",
      "    Range : 0 ... 358399 =      0.000 ...   699.998 secs\n",
      "Ready.\n",
      "Creating RawArray with float64 data, n_channels=69, n_times=358400\n",
      "    Range : 0 ... 358399 =      0.000 ...   699.998 secs\n",
      "Ready.\n",
      "Creating RawArray with float64 data, n_channels=69, n_times=358400\n",
      "    Range : 0 ... 358399 =      0.000 ...   699.998 secs\n",
      "Ready.\n",
      "Creating RawArray with float64 data, n_channels=69, n_times=358400\n",
      "    Range : 0 ... 358399 =      0.000 ...   699.998 secs\n",
      "Ready.\n",
      "Creating RawArray with float64 data, n_channels=69, n_times=358400\n",
      "    Range : 0 ... 358399 =      0.000 ...   699.998 secs\n",
      "Ready.\n",
      "Creating RawArray with float64 data, n_channels=69, n_times=358400\n",
      "    Range : 0 ... 358399 =      0.000 ...   699.998 secs\n",
      "Ready.\n",
      "Creating RawArray with float64 data, n_channels=69, n_times=430080\n",
      "    Range : 0 ... 430079 =      0.000 ...   839.998 secs\n",
      "Ready.\n",
      "Creating RawArray with float64 data, n_channels=69, n_times=430080\n",
      "    Range : 0 ... 430079 =      0.000 ...   839.998 secs\n",
      "Ready.\n",
      "Creating RawArray with float64 data, n_channels=69, n_times=358400\n",
      "    Range : 0 ... 358399 =      0.000 ...   699.998 secs\n",
      "Ready.\n",
      "Creating RawArray with float64 data, n_channels=69, n_times=358400\n",
      "    Range : 0 ... 358399 =      0.000 ...   699.998 secs\n",
      "Ready.\n",
      "Creating RawArray with float64 data, n_channels=69, n_times=430080\n",
      "    Range : 0 ... 430079 =      0.000 ...   839.998 secs\n",
      "Ready.\n",
      "Creating RawArray with float64 data, n_channels=69, n_times=430080\n",
      "    Range : 0 ... 430079 =      0.000 ...   839.998 secs\n",
      "Ready.\n",
      "Creating RawArray with float64 data, n_channels=69, n_times=358400\n",
      "    Range : 0 ... 358399 =      0.000 ...   699.998 secs\n",
      "Ready.\n",
      "Creating RawArray with float64 data, n_channels=69, n_times=358400\n",
      "    Range : 0 ... 358399 =      0.000 ...   699.998 secs\n",
      "Ready.\n",
      "Creating RawArray with float64 data, n_channels=69, n_times=358400\n",
      "    Range : 0 ... 358399 =      0.000 ...   699.998 secs\n",
      "Ready.\n",
      "Creating RawArray with float64 data, n_channels=69, n_times=358400\n",
      "    Range : 0 ... 358399 =      0.000 ...   699.998 secs\n",
      "Ready.\n",
      "Creating RawArray with float64 data, n_channels=69, n_times=358400\n",
      "    Range : 0 ... 358399 =      0.000 ...   699.998 secs\n",
      "Ready.\n",
      "Creating RawArray with float64 data, n_channels=69, n_times=358400\n",
      "    Range : 0 ... 358399 =      0.000 ...   699.998 secs\n",
      "Ready.\n",
      "Creating RawArray with float64 data, n_channels=69, n_times=358400\n",
      "    Range : 0 ... 358399 =      0.000 ...   699.998 secs\n",
      "Ready.\n",
      "Creating RawArray with float64 data, n_channels=69, n_times=358400\n",
      "    Range : 0 ... 358399 =      0.000 ...   699.998 secs\n",
      "Ready.\n",
      "Creating RawArray with float64 data, n_channels=69, n_times=358400\n",
      "    Range : 0 ... 358399 =      0.000 ...   699.998 secs\n",
      "Ready.\n",
      "Creating RawArray with float64 data, n_channels=69, n_times=358400\n",
      "    Range : 0 ... 358399 =      0.000 ...   699.998 secs\n",
      "Ready.\n",
      "Creating RawArray with float64 data, n_channels=69, n_times=358400\n",
      "    Range : 0 ... 358399 =      0.000 ...   699.998 secs\n",
      "Ready.\n",
      "Creating RawArray with float64 data, n_channels=69, n_times=358400\n",
      "    Range : 0 ... 358399 =      0.000 ...   699.998 secs\n",
      "Ready.\n",
      "Creating RawArray with float64 data, n_channels=69, n_times=358400\n",
      "    Range : 0 ... 358399 =      0.000 ...   699.998 secs\n",
      "Ready.\n",
      "Creating RawArray with float64 data, n_channels=69, n_times=358400\n",
      "    Range : 0 ... 358399 =      0.000 ...   699.998 secs\n",
      "Ready.\n",
      "Creating RawArray with float64 data, n_channels=69, n_times=358400\n",
      "    Range : 0 ... 358399 =      0.000 ...   699.998 secs\n",
      "Ready.\n",
      "Creating RawArray with float64 data, n_channels=69, n_times=358400\n",
      "    Range : 0 ... 358399 =      0.000 ...   699.998 secs\n",
      "Ready.\n",
      "Creating RawArray with float64 data, n_channels=69, n_times=358400\n",
      "    Range : 0 ... 358399 =      0.000 ...   699.998 secs\n",
      "Ready.\n",
      "Creating RawArray with float64 data, n_channels=69, n_times=358400\n",
      "    Range : 0 ... 358399 =      0.000 ...   699.998 secs\n",
      "Ready.\n",
      "Creating RawArray with float64 data, n_channels=69, n_times=358400\n",
      "    Range : 0 ... 358399 =      0.000 ...   699.998 secs\n",
      "Ready.\n",
      "Creating RawArray with float64 data, n_channels=69, n_times=358400\n",
      "    Range : 0 ... 358399 =      0.000 ...   699.998 secs\n",
      "Ready.\n",
      "Creating RawArray with float64 data, n_channels=69, n_times=358400\n",
      "    Range : 0 ... 358399 =      0.000 ...   699.998 secs\n",
      "Ready.\n",
      "Creating RawArray with float64 data, n_channels=69, n_times=358400\n",
      "    Range : 0 ... 358399 =      0.000 ...   699.998 secs\n",
      "Ready.\n",
      "Creating RawArray with float64 data, n_channels=69, n_times=358400\n",
      "    Range : 0 ... 358399 =      0.000 ...   699.998 secs\n",
      "Ready.\n",
      "Creating RawArray with float64 data, n_channels=69, n_times=358400\n",
      "    Range : 0 ... 358399 =      0.000 ...   699.998 secs\n",
      "Ready.\n",
      "Creating RawArray with float64 data, n_channels=69, n_times=358400\n",
      "    Range : 0 ... 358399 =      0.000 ...   699.998 secs\n",
      "Ready.\n",
      "Creating RawArray with float64 data, n_channels=69, n_times=358400\n",
      "    Range : 0 ... 358399 =      0.000 ...   699.998 secs\n",
      "Ready.\n",
      "Creating RawArray with float64 data, n_channels=69, n_times=358400\n",
      "    Range : 0 ... 358399 =      0.000 ...   699.998 secs\n",
      "Ready.\n",
      "Creating RawArray with float64 data, n_channels=69, n_times=358400\n",
      "    Range : 0 ... 358399 =      0.000 ...   699.998 secs\n",
      "Ready.\n",
      "Creating RawArray with float64 data, n_channels=69, n_times=358400\n",
      "    Range : 0 ... 358399 =      0.000 ...   699.998 secs\n",
      "Ready.\n",
      "Creating RawArray with float64 data, n_channels=69, n_times=358400\n",
      "    Range : 0 ... 358399 =      0.000 ...   699.998 secs\n",
      "Ready.\n",
      "Creating RawArray with float64 data, n_channels=69, n_times=358400\n",
      "    Range : 0 ... 358399 =      0.000 ...   699.998 secs\n",
      "Ready.\n",
      "Creating RawArray with float64 data, n_channels=69, n_times=358400\n",
      "    Range : 0 ... 358399 =      0.000 ...   699.998 secs\n",
      "Ready.\n",
      "Creating RawArray with float64 data, n_channels=69, n_times=358400\n",
      "    Range : 0 ... 358399 =      0.000 ...   699.998 secs\n",
      "Ready.\n",
      "Creating RawArray with float64 data, n_channels=69, n_times=358400\n",
      "    Range : 0 ... 358399 =      0.000 ...   699.998 secs\n",
      "Ready.\n",
      "Creating RawArray with float64 data, n_channels=69, n_times=358400\n",
      "    Range : 0 ... 358399 =      0.000 ...   699.998 secs\n",
      "Ready.\n",
      "Creating RawArray with float64 data, n_channels=69, n_times=358400\n",
      "    Range : 0 ... 358399 =      0.000 ...   699.998 secs\n",
      "Ready.\n",
      "Creating RawArray with float64 data, n_channels=69, n_times=358400\n",
      "    Range : 0 ... 358399 =      0.000 ...   699.998 secs\n",
      "Ready.\n",
      "Creating RawArray with float64 data, n_channels=69, n_times=358400\n",
      "    Range : 0 ... 358399 =      0.000 ...   699.998 secs\n",
      "Ready.\n",
      "Creating RawArray with float64 data, n_channels=69, n_times=358400\n",
      "    Range : 0 ... 358399 =      0.000 ...   699.998 secs\n",
      "Ready.\n",
      "Creating RawArray with float64 data, n_channels=69, n_times=358400\n",
      "    Range : 0 ... 358399 =      0.000 ...   699.998 secs\n",
      "Ready.\n",
      "Creating RawArray with float64 data, n_channels=69, n_times=358400\n",
      "    Range : 0 ... 358399 =      0.000 ...   699.998 secs\n",
      "Ready.\n",
      "Creating RawArray with float64 data, n_channels=69, n_times=358400\n",
      "    Range : 0 ... 358399 =      0.000 ...   699.998 secs\n",
      "Ready.\n",
      "Creating RawArray with float64 data, n_channels=69, n_times=358400\n",
      "    Range : 0 ... 358399 =      0.000 ...   699.998 secs\n",
      "Ready.\n",
      "Creating RawArray with float64 data, n_channels=69, n_times=358400\n",
      "    Range : 0 ... 358399 =      0.000 ...   699.998 secs\n",
      "Ready.\n",
      "Creating RawArray with float64 data, n_channels=69, n_times=358400\n",
      "    Range : 0 ... 358399 =      0.000 ...   699.998 secs\n",
      "Ready.\n",
      "Creating RawArray with float64 data, n_channels=69, n_times=358400\n",
      "    Range : 0 ... 358399 =      0.000 ...   699.998 secs\n",
      "Ready.\n",
      "Creating RawArray with float64 data, n_channels=69, n_times=358400\n",
      "    Range : 0 ... 358399 =      0.000 ...   699.998 secs\n",
      "Ready.\n",
      "Creating RawArray with float64 data, n_channels=69, n_times=358400\n",
      "    Range : 0 ... 358399 =      0.000 ...   699.998 secs\n",
      "Ready.\n",
      "Creating RawArray with float64 data, n_channels=69, n_times=358400\n",
      "    Range : 0 ... 358399 =      0.000 ...   699.998 secs\n",
      "Ready.\n",
      "Creating RawArray with float64 data, n_channels=69, n_times=358400\n",
      "    Range : 0 ... 358399 =      0.000 ...   699.998 secs\n",
      "Ready.\n",
      "Creating RawArray with float64 data, n_channels=69, n_times=358400\n",
      "    Range : 0 ... 358399 =      0.000 ...   699.998 secs\n",
      "Ready.\n",
      "Creating RawArray with float64 data, n_channels=69, n_times=358400\n",
      "    Range : 0 ... 358399 =      0.000 ...   699.998 secs\n",
      "Ready.\n",
      "Creating RawArray with float64 data, n_channels=69, n_times=358400\n",
      "    Range : 0 ... 358399 =      0.000 ...   699.998 secs\n",
      "Ready.\n",
      "Creating RawArray with float64 data, n_channels=69, n_times=358400\n",
      "    Range : 0 ... 358399 =      0.000 ...   699.998 secs\n",
      "Ready.\n",
      "Creating RawArray with float64 data, n_channels=69, n_times=358400\n",
      "    Range : 0 ... 358399 =      0.000 ...   699.998 secs\n",
      "Ready.\n",
      "Creating RawArray with float64 data, n_channels=69, n_times=358400\n",
      "    Range : 0 ... 358399 =      0.000 ...   699.998 secs\n",
      "Ready.\n",
      "Creating RawArray with float64 data, n_channels=69, n_times=358400\n",
      "    Range : 0 ... 358399 =      0.000 ...   699.998 secs\n",
      "Ready.\n",
      "Creating RawArray with float64 data, n_channels=69, n_times=358400\n",
      "    Range : 0 ... 358399 =      0.000 ...   699.998 secs\n",
      "Ready.\n",
      "Creating RawArray with float64 data, n_channels=69, n_times=358400\n",
      "    Range : 0 ... 358399 =      0.000 ...   699.998 secs\n",
      "Ready.\n",
      "Creating RawArray with float64 data, n_channels=69, n_times=358400\n",
      "    Range : 0 ... 358399 =      0.000 ...   699.998 secs\n",
      "Ready.\n",
      "Creating RawArray with float64 data, n_channels=69, n_times=358400\n",
      "    Range : 0 ... 358399 =      0.000 ...   699.998 secs\n",
      "Ready.\n",
      "Creating RawArray with float64 data, n_channels=69, n_times=358400\n",
      "    Range : 0 ... 358399 =      0.000 ...   699.998 secs\n",
      "Ready.\n",
      "Creating RawArray with float64 data, n_channels=69, n_times=358400\n",
      "    Range : 0 ... 358399 =      0.000 ...   699.998 secs\n",
      "Ready.\n",
      "Creating RawArray with float64 data, n_channels=69, n_times=358400\n",
      "    Range : 0 ... 358399 =      0.000 ...   699.998 secs\n",
      "Ready.\n",
      "Creating RawArray with float64 data, n_channels=69, n_times=358400\n",
      "    Range : 0 ... 358399 =      0.000 ...   699.998 secs\n",
      "Ready.\n",
      "Creating RawArray with float64 data, n_channels=69, n_times=358400\n",
      "    Range : 0 ... 358399 =      0.000 ...   699.998 secs\n",
      "Ready.\n",
      "Creating RawArray with float64 data, n_channels=69, n_times=358400\n",
      "    Range : 0 ... 358399 =      0.000 ...   699.998 secs\n",
      "Ready.\n",
      "Creating RawArray with float64 data, n_channels=69, n_times=358400\n",
      "    Range : 0 ... 358399 =      0.000 ...   699.998 secs\n",
      "Ready.\n",
      "Creating RawArray with float64 data, n_channels=69, n_times=358400\n",
      "    Range : 0 ... 358399 =      0.000 ...   699.998 secs\n",
      "Ready.\n",
      "Creating RawArray with float64 data, n_channels=69, n_times=358400\n",
      "    Range : 0 ... 358399 =      0.000 ...   699.998 secs\n",
      "Ready.\n",
      "Creating RawArray with float64 data, n_channels=69, n_times=358400\n",
      "    Range : 0 ... 358399 =      0.000 ...   699.998 secs\n",
      "Ready.\n",
      "Creating RawArray with float64 data, n_channels=69, n_times=358400\n",
      "    Range : 0 ... 358399 =      0.000 ...   699.998 secs\n",
      "Ready.\n",
      "Creating RawArray with float64 data, n_channels=69, n_times=430080\n",
      "    Range : 0 ... 430079 =      0.000 ...   839.998 secs\n",
      "Ready.\n",
      "Creating RawArray with float64 data, n_channels=69, n_times=430080\n",
      "    Range : 0 ... 430079 =      0.000 ...   839.998 secs\n",
      "Ready.\n",
      "Creating RawArray with float64 data, n_channels=69, n_times=358400\n",
      "    Range : 0 ... 358399 =      0.000 ...   699.998 secs\n",
      "Ready.\n",
      "Creating RawArray with float64 data, n_channels=69, n_times=358400\n",
      "    Range : 0 ... 358399 =      0.000 ...   699.998 secs\n",
      "Ready.\n",
      "Creating RawArray with float64 data, n_channels=69, n_times=358400\n",
      "    Range : 0 ... 358399 =      0.000 ...   699.998 secs\n",
      "Ready.\n",
      "Creating RawArray with float64 data, n_channels=69, n_times=358400\n",
      "    Range : 0 ... 358399 =      0.000 ...   699.998 secs\n",
      "Ready.\n",
      "Creating RawArray with float64 data, n_channels=69, n_times=358400\n",
      "    Range : 0 ... 358399 =      0.000 ...   699.998 secs\n",
      "Ready.\n",
      "Creating RawArray with float64 data, n_channels=69, n_times=358400\n",
      "    Range : 0 ... 358399 =      0.000 ...   699.998 secs\n",
      "Ready.\n",
      "Creating RawArray with float64 data, n_channels=69, n_times=358400\n",
      "    Range : 0 ... 358399 =      0.000 ...   699.998 secs\n",
      "Ready.\n",
      "Creating RawArray with float64 data, n_channels=69, n_times=358400\n",
      "    Range : 0 ... 358399 =      0.000 ...   699.998 secs\n",
      "Ready.\n",
      "Creating RawArray with float64 data, n_channels=69, n_times=358400\n",
      "    Range : 0 ... 358399 =      0.000 ...   699.998 secs\n",
      "Ready.\n",
      "Creating RawArray with float64 data, n_channels=69, n_times=358400\n",
      "    Range : 0 ... 358399 =      0.000 ...   699.998 secs\n",
      "Ready.\n",
      "Creating RawArray with float64 data, n_channels=69, n_times=358400\n",
      "    Range : 0 ... 358399 =      0.000 ...   699.998 secs\n",
      "Ready.\n",
      "Creating RawArray with float64 data, n_channels=69, n_times=358400\n",
      "    Range : 0 ... 358399 =      0.000 ...   699.998 secs\n",
      "Ready.\n"
     ]
    }
   ],
   "source": [
    "# info 매개변수 생성\n",
    "eeg_ch_names = [\n",
    "    \"Fp1\", \"AF7\", \"AF3\", \"F1\", \"F3\", \"F5\", \"F7\", \"FT7\", \"FC5\", \"FC3\", \"FC1\",\n",
    "    \"C1\", \"C3\", \"C5\", \"T7\", \"TP7\", \"CP5\", \"CP3\", \"CP1\", \"P1\", \"P3\", \"P5\", \"P7\",\n",
    "    \"P9\", \"PO7\", \"PO3\", \"O1\", \"Iz\", \"Oz\", \"POz\", \"Pz\", \"CPz\", \"Fpz\", \"Fp2\",\n",
    "    \"AF8\", \"AF4\", \"AFz\", \"Fz\", \"F2\", \"F4\", \"F6\", \"F8\", \"FT8\", \"FC6\", \"FC4\",\n",
    "    \"FC2\", \"FCz\", \"Cz\", \"C2\", \"C4\", \"C6\", \"T8\", \"TP8\", \"CP6\", \"CP4\", \"CP2\",\n",
    "    \"P2\", \"P4\", \"P6\", \"P8\", \"P10\", \"PO8\", \"PO4\", \"O2\",\n",
    "]\n",
    "emg_ch_names = [\"EMG1\", \"EMG2\", \"EMG3\", \"EMG4\"]\n",
    "ch_names = eeg_ch_names + emg_ch_names + [\"Stim\"]\n",
    "ch_types = [\"eeg\"] * 64 + [\"emg\"] * 4 + [\"stim\"]\n",
    "srate = mat_list[0]['eeg'][0]['srate'][0][0]\n",
    "\n",
    "# info 생성\n",
    "info = mne.create_info(ch_names=ch_names, sfreq=srate, ch_types=ch_types)\n",
    "\n",
    "# Stim channel 붙이기\n",
    "left = []\n",
    "right = []\n",
    "for i in range(0, slen):\n",
    "    left.append(np.vstack((mat_list[i]['eeg'][0]['imagery_left'][0], mat_list[i]['eeg'][0]['imagery_event'][0])))\n",
    "    right.append(np.vstack((mat_list[i]['eeg'][0]['imagery_right'][0], mat_list[i]['eeg'][0]['imagery_event'][0])))\n",
    "\n",
    "\n",
    "# Raw 생성\n",
    "lr = []\n",
    "rr = []\n",
    "for i in range(0, slen):\n",
    "    lr.append(mne.io.RawArray(left[i], info=info))\n",
    "    rr.append(mne.io.RawArray(right[i], info=info))\n",
    "raw = [lr, rr]"
   ]
  },
  {
   "cell_type": "code",
   "execution_count": 4,
   "metadata": {},
   "outputs": [],
   "source": [
    "LEFT = 0\n",
    "RIGHT = 1"
   ]
  },
  {
   "cell_type": "markdown",
   "metadata": {},
   "source": [
    "### 🔖Reference"
   ]
  },
  {
   "cell_type": "code",
   "execution_count": 5,
   "metadata": {},
   "outputs": [
    {
     "name": "stdout",
     "output_type": "stream",
     "text": [
      "Applying average reference.\n",
      "Applying a custom ('EEG',) reference.\n",
      "Applying average reference.\n",
      "Applying a custom ('EEG',) reference.\n",
      "Applying average reference.\n",
      "Applying a custom ('EEG',) reference.\n",
      "Applying average reference.\n",
      "Applying a custom ('EEG',) reference.\n",
      "Applying average reference.\n",
      "Applying a custom ('EEG',) reference.\n",
      "Applying average reference.\n",
      "Applying a custom ('EEG',) reference.\n",
      "Applying average reference.\n",
      "Applying a custom ('EEG',) reference.\n",
      "Applying average reference.\n",
      "Applying a custom ('EEG',) reference.\n",
      "Applying average reference.\n",
      "Applying a custom ('EEG',) reference.\n",
      "Applying average reference.\n",
      "Applying a custom ('EEG',) reference.\n",
      "Applying average reference.\n",
      "Applying a custom ('EEG',) reference.\n",
      "Applying average reference.\n",
      "Applying a custom ('EEG',) reference.\n",
      "Applying average reference.\n",
      "Applying a custom ('EEG',) reference.\n",
      "Applying average reference.\n",
      "Applying a custom ('EEG',) reference.\n",
      "Applying average reference.\n",
      "Applying a custom ('EEG',) reference.\n",
      "Applying average reference.\n",
      "Applying a custom ('EEG',) reference.\n",
      "Applying average reference.\n",
      "Applying a custom ('EEG',) reference.\n",
      "Applying average reference.\n",
      "Applying a custom ('EEG',) reference.\n",
      "Applying average reference.\n",
      "Applying a custom ('EEG',) reference.\n",
      "Applying average reference.\n",
      "Applying a custom ('EEG',) reference.\n",
      "Applying average reference.\n",
      "Applying a custom ('EEG',) reference.\n",
      "Applying average reference.\n",
      "Applying a custom ('EEG',) reference.\n",
      "Applying average reference.\n",
      "Applying a custom ('EEG',) reference.\n",
      "Applying average reference.\n",
      "Applying a custom ('EEG',) reference.\n",
      "Applying average reference.\n",
      "Applying a custom ('EEG',) reference.\n",
      "Applying average reference.\n",
      "Applying a custom ('EEG',) reference.\n",
      "Applying average reference.\n",
      "Applying a custom ('EEG',) reference.\n",
      "Applying average reference.\n",
      "Applying a custom ('EEG',) reference.\n",
      "Applying average reference.\n",
      "Applying a custom ('EEG',) reference.\n",
      "Applying average reference.\n",
      "Applying a custom ('EEG',) reference.\n",
      "Applying average reference.\n",
      "Applying a custom ('EEG',) reference.\n",
      "Applying average reference.\n",
      "Applying a custom ('EEG',) reference.\n",
      "Applying average reference.\n",
      "Applying a custom ('EEG',) reference.\n",
      "Applying average reference.\n",
      "Applying a custom ('EEG',) reference.\n",
      "Applying average reference.\n",
      "Applying a custom ('EEG',) reference.\n",
      "Applying average reference.\n",
      "Applying a custom ('EEG',) reference.\n",
      "Applying average reference.\n",
      "Applying a custom ('EEG',) reference.\n",
      "Applying average reference.\n",
      "Applying a custom ('EEG',) reference.\n",
      "Applying average reference.\n",
      "Applying a custom ('EEG',) reference.\n",
      "Applying average reference.\n",
      "Applying a custom ('EEG',) reference.\n",
      "Applying average reference.\n",
      "Applying a custom ('EEG',) reference.\n",
      "Applying average reference.\n",
      "Applying a custom ('EEG',) reference.\n",
      "Applying average reference.\n",
      "Applying a custom ('EEG',) reference.\n",
      "Applying average reference.\n",
      "Applying a custom ('EEG',) reference.\n",
      "Applying average reference.\n",
      "Applying a custom ('EEG',) reference.\n",
      "Applying average reference.\n",
      "Applying a custom ('EEG',) reference.\n",
      "Applying average reference.\n",
      "Applying a custom ('EEG',) reference.\n",
      "Applying average reference.\n",
      "Applying a custom ('EEG',) reference.\n",
      "Applying average reference.\n",
      "Applying a custom ('EEG',) reference.\n",
      "Applying average reference.\n",
      "Applying a custom ('EEG',) reference.\n",
      "Applying average reference.\n",
      "Applying a custom ('EEG',) reference.\n",
      "Applying average reference.\n",
      "Applying a custom ('EEG',) reference.\n",
      "Applying average reference.\n",
      "Applying a custom ('EEG',) reference.\n",
      "Applying average reference.\n",
      "Applying a custom ('EEG',) reference.\n",
      "Applying average reference.\n",
      "Applying a custom ('EEG',) reference.\n",
      "Applying average reference.\n",
      "Applying a custom ('EEG',) reference.\n",
      "Applying average reference.\n",
      "Applying a custom ('EEG',) reference.\n",
      "Applying average reference.\n",
      "Applying a custom ('EEG',) reference.\n",
      "Applying average reference.\n",
      "Applying a custom ('EEG',) reference.\n",
      "Applying average reference.\n",
      "Applying a custom ('EEG',) reference.\n",
      "Applying average reference.\n",
      "Applying a custom ('EEG',) reference.\n",
      "Applying average reference.\n",
      "Applying a custom ('EEG',) reference.\n",
      "Applying average reference.\n",
      "Applying a custom ('EEG',) reference.\n",
      "Applying average reference.\n",
      "Applying a custom ('EEG',) reference.\n",
      "Applying average reference.\n",
      "Applying a custom ('EEG',) reference.\n",
      "Applying average reference.\n",
      "Applying a custom ('EEG',) reference.\n",
      "Applying average reference.\n",
      "Applying a custom ('EEG',) reference.\n",
      "Applying average reference.\n",
      "Applying a custom ('EEG',) reference.\n",
      "Applying average reference.\n",
      "Applying a custom ('EEG',) reference.\n",
      "Applying average reference.\n",
      "Applying a custom ('EEG',) reference.\n",
      "Applying average reference.\n",
      "Applying a custom ('EEG',) reference.\n",
      "Applying average reference.\n",
      "Applying a custom ('EEG',) reference.\n",
      "Applying average reference.\n",
      "Applying a custom ('EEG',) reference.\n",
      "Applying average reference.\n",
      "Applying a custom ('EEG',) reference.\n",
      "Applying average reference.\n",
      "Applying a custom ('EEG',) reference.\n",
      "Applying average reference.\n",
      "Applying a custom ('EEG',) reference.\n",
      "Applying average reference.\n",
      "Applying a custom ('EEG',) reference.\n",
      "Applying average reference.\n",
      "Applying a custom ('EEG',) reference.\n",
      "Applying average reference.\n",
      "Applying a custom ('EEG',) reference.\n",
      "Applying average reference.\n",
      "Applying a custom ('EEG',) reference.\n",
      "Applying average reference.\n",
      "Applying a custom ('EEG',) reference.\n",
      "Applying average reference.\n",
      "Applying a custom ('EEG',) reference.\n",
      "Applying average reference.\n",
      "Applying a custom ('EEG',) reference.\n",
      "Applying average reference.\n",
      "Applying a custom ('EEG',) reference.\n",
      "Applying average reference.\n",
      "Applying a custom ('EEG',) reference.\n",
      "Applying average reference.\n",
      "Applying a custom ('EEG',) reference.\n",
      "Applying average reference.\n",
      "Applying a custom ('EEG',) reference.\n",
      "Applying average reference.\n",
      "Applying a custom ('EEG',) reference.\n",
      "Applying average reference.\n",
      "Applying a custom ('EEG',) reference.\n",
      "Applying average reference.\n",
      "Applying a custom ('EEG',) reference.\n",
      "Applying average reference.\n",
      "Applying a custom ('EEG',) reference.\n",
      "Applying average reference.\n",
      "Applying a custom ('EEG',) reference.\n",
      "Applying average reference.\n",
      "Applying a custom ('EEG',) reference.\n",
      "Applying average reference.\n",
      "Applying a custom ('EEG',) reference.\n",
      "Applying average reference.\n",
      "Applying a custom ('EEG',) reference.\n",
      "Applying average reference.\n",
      "Applying a custom ('EEG',) reference.\n",
      "Applying average reference.\n",
      "Applying a custom ('EEG',) reference.\n",
      "Applying average reference.\n",
      "Applying a custom ('EEG',) reference.\n",
      "Applying average reference.\n",
      "Applying a custom ('EEG',) reference.\n",
      "Applying average reference.\n",
      "Applying a custom ('EEG',) reference.\n",
      "Applying average reference.\n",
      "Applying a custom ('EEG',) reference.\n",
      "Applying average reference.\n",
      "Applying a custom ('EEG',) reference.\n",
      "Applying average reference.\n",
      "Applying a custom ('EEG',) reference.\n",
      "Applying average reference.\n",
      "Applying a custom ('EEG',) reference.\n"
     ]
    }
   ],
   "source": [
    "for i in range(0, slen):\n",
    "    mne.set_eeg_reference(raw[LEFT][i], ch_type='eeg')\n",
    "    mne.set_eeg_reference(raw[RIGHT][i], ch_type='eeg')"
   ]
  },
  {
   "cell_type": "markdown",
   "metadata": {},
   "source": [
    "### 🚪Bandpass Filtering(alpha band: 8Hz ~ 13Hz)"
   ]
  },
  {
   "cell_type": "code",
   "execution_count": 6,
   "metadata": {},
   "outputs": [
    {
     "name": "stdout",
     "output_type": "stream",
     "text": [
      "Filtering raw data in 1 contiguous segment\n",
      "Setting up band-pass filter from 8 - 13 Hz\n",
      "\n",
      "FIR filter parameters\n",
      "---------------------\n",
      "Designing a one-pass, zero-phase, non-causal bandpass filter:\n",
      "- Windowed time-domain design (firwin) method\n",
      "- Hamming window with 0.0194 passband ripple and 53 dB stopband attenuation\n",
      "- Lower passband edge: 8.00\n",
      "- Lower transition bandwidth: 2.00 Hz (-6 dB cutoff frequency: 7.00 Hz)\n",
      "- Upper passband edge: 13.00 Hz\n",
      "- Upper transition bandwidth: 3.25 Hz (-6 dB cutoff frequency: 14.62 Hz)\n",
      "- Filter length: 845 samples (1.650 s)\n",
      "\n"
     ]
    },
    {
     "name": "stderr",
     "output_type": "stream",
     "text": [
      "[Parallel(n_jobs=-1)]: Using backend LokyBackend with 16 concurrent workers.\n",
      "[Parallel(n_jobs=-1)]: Done   2 tasks      | elapsed:    1.6s\n",
      "[Parallel(n_jobs=-1)]: Done  62 out of  64 | elapsed:    2.3s remaining:    0.0s\n",
      "[Parallel(n_jobs=-1)]: Done  64 out of  64 | elapsed:    2.3s finished\n"
     ]
    },
    {
     "name": "stdout",
     "output_type": "stream",
     "text": [
      "Filtering raw data in 1 contiguous segment\n",
      "Setting up band-pass filter from 8 - 13 Hz\n",
      "\n",
      "FIR filter parameters\n",
      "---------------------\n",
      "Designing a one-pass, zero-phase, non-causal bandpass filter:\n",
      "- Windowed time-domain design (firwin) method\n",
      "- Hamming window with 0.0194 passband ripple and 53 dB stopband attenuation\n",
      "- Lower passband edge: 8.00\n",
      "- Lower transition bandwidth: 2.00 Hz (-6 dB cutoff frequency: 7.00 Hz)\n",
      "- Upper passband edge: 13.00 Hz\n",
      "- Upper transition bandwidth: 3.25 Hz (-6 dB cutoff frequency: 14.62 Hz)\n",
      "- Filter length: 845 samples (1.650 s)\n",
      "\n"
     ]
    },
    {
     "name": "stderr",
     "output_type": "stream",
     "text": [
      "[Parallel(n_jobs=-1)]: Using backend LokyBackend with 16 concurrent workers.\n",
      "[Parallel(n_jobs=-1)]: Done   2 tasks      | elapsed:    0.3s\n",
      "[Parallel(n_jobs=-1)]: Done  62 out of  64 | elapsed:    1.0s remaining:    0.0s\n",
      "[Parallel(n_jobs=-1)]: Done  64 out of  64 | elapsed:    1.1s finished\n"
     ]
    },
    {
     "name": "stdout",
     "output_type": "stream",
     "text": [
      "Filtering raw data in 1 contiguous segment\n",
      "Setting up band-pass filter from 8 - 13 Hz\n",
      "\n",
      "FIR filter parameters\n",
      "---------------------\n",
      "Designing a one-pass, zero-phase, non-causal bandpass filter:\n",
      "- Windowed time-domain design (firwin) method\n",
      "- Hamming window with 0.0194 passband ripple and 53 dB stopband attenuation\n",
      "- Lower passband edge: 8.00\n",
      "- Lower transition bandwidth: 2.00 Hz (-6 dB cutoff frequency: 7.00 Hz)\n",
      "- Upper passband edge: 13.00 Hz\n",
      "- Upper transition bandwidth: 3.25 Hz (-6 dB cutoff frequency: 14.62 Hz)\n",
      "- Filter length: 845 samples (1.650 s)\n",
      "\n"
     ]
    },
    {
     "name": "stderr",
     "output_type": "stream",
     "text": [
      "[Parallel(n_jobs=-1)]: Using backend LokyBackend with 16 concurrent workers.\n",
      "[Parallel(n_jobs=-1)]: Done   2 tasks      | elapsed:    0.3s\n",
      "[Parallel(n_jobs=-1)]: Done  62 out of  64 | elapsed:    1.0s remaining:    0.0s\n",
      "[Parallel(n_jobs=-1)]: Done  64 out of  64 | elapsed:    1.0s finished\n"
     ]
    },
    {
     "name": "stdout",
     "output_type": "stream",
     "text": [
      "Filtering raw data in 1 contiguous segment\n",
      "Setting up band-pass filter from 8 - 13 Hz\n",
      "\n",
      "FIR filter parameters\n",
      "---------------------\n",
      "Designing a one-pass, zero-phase, non-causal bandpass filter:\n",
      "- Windowed time-domain design (firwin) method\n",
      "- Hamming window with 0.0194 passband ripple and 53 dB stopband attenuation\n",
      "- Lower passband edge: 8.00\n",
      "- Lower transition bandwidth: 2.00 Hz (-6 dB cutoff frequency: 7.00 Hz)\n",
      "- Upper passband edge: 13.00 Hz\n",
      "- Upper transition bandwidth: 3.25 Hz (-6 dB cutoff frequency: 14.62 Hz)\n",
      "- Filter length: 845 samples (1.650 s)\n",
      "\n"
     ]
    },
    {
     "name": "stderr",
     "output_type": "stream",
     "text": [
      "[Parallel(n_jobs=-1)]: Using backend LokyBackend with 16 concurrent workers.\n",
      "[Parallel(n_jobs=-1)]: Done   2 tasks      | elapsed:    0.3s\n",
      "[Parallel(n_jobs=-1)]: Done  62 out of  64 | elapsed:    1.0s remaining:    0.0s\n",
      "[Parallel(n_jobs=-1)]: Done  64 out of  64 | elapsed:    1.0s finished\n"
     ]
    },
    {
     "name": "stdout",
     "output_type": "stream",
     "text": [
      "Filtering raw data in 1 contiguous segment\n",
      "Setting up band-pass filter from 8 - 13 Hz\n",
      "\n",
      "FIR filter parameters\n",
      "---------------------\n",
      "Designing a one-pass, zero-phase, non-causal bandpass filter:\n",
      "- Windowed time-domain design (firwin) method\n",
      "- Hamming window with 0.0194 passband ripple and 53 dB stopband attenuation\n",
      "- Lower passband edge: 8.00\n",
      "- Lower transition bandwidth: 2.00 Hz (-6 dB cutoff frequency: 7.00 Hz)\n",
      "- Upper passband edge: 13.00 Hz\n",
      "- Upper transition bandwidth: 3.25 Hz (-6 dB cutoff frequency: 14.62 Hz)\n",
      "- Filter length: 845 samples (1.650 s)\n",
      "\n"
     ]
    },
    {
     "name": "stderr",
     "output_type": "stream",
     "text": [
      "[Parallel(n_jobs=-1)]: Using backend LokyBackend with 16 concurrent workers.\n",
      "[Parallel(n_jobs=-1)]: Done   2 tasks      | elapsed:    0.2s\n",
      "[Parallel(n_jobs=-1)]: Done  62 out of  64 | elapsed:    0.9s remaining:    0.0s\n",
      "[Parallel(n_jobs=-1)]: Done  64 out of  64 | elapsed:    1.0s finished\n"
     ]
    },
    {
     "name": "stdout",
     "output_type": "stream",
     "text": [
      "Filtering raw data in 1 contiguous segment\n",
      "Setting up band-pass filter from 8 - 13 Hz\n",
      "\n",
      "FIR filter parameters\n",
      "---------------------\n",
      "Designing a one-pass, zero-phase, non-causal bandpass filter:\n",
      "- Windowed time-domain design (firwin) method\n",
      "- Hamming window with 0.0194 passband ripple and 53 dB stopband attenuation\n",
      "- Lower passband edge: 8.00\n",
      "- Lower transition bandwidth: 2.00 Hz (-6 dB cutoff frequency: 7.00 Hz)\n",
      "- Upper passband edge: 13.00 Hz\n",
      "- Upper transition bandwidth: 3.25 Hz (-6 dB cutoff frequency: 14.62 Hz)\n",
      "- Filter length: 845 samples (1.650 s)\n",
      "\n"
     ]
    },
    {
     "name": "stderr",
     "output_type": "stream",
     "text": [
      "[Parallel(n_jobs=-1)]: Using backend LokyBackend with 16 concurrent workers.\n",
      "[Parallel(n_jobs=-1)]: Done   2 tasks      | elapsed:    0.3s\n",
      "[Parallel(n_jobs=-1)]: Done  62 out of  64 | elapsed:    0.9s remaining:    0.0s\n",
      "[Parallel(n_jobs=-1)]: Done  64 out of  64 | elapsed:    0.9s finished\n"
     ]
    },
    {
     "name": "stdout",
     "output_type": "stream",
     "text": [
      "Filtering raw data in 1 contiguous segment\n",
      "Setting up band-pass filter from 8 - 13 Hz\n",
      "\n",
      "FIR filter parameters\n",
      "---------------------\n",
      "Designing a one-pass, zero-phase, non-causal bandpass filter:\n",
      "- Windowed time-domain design (firwin) method\n",
      "- Hamming window with 0.0194 passband ripple and 53 dB stopband attenuation\n",
      "- Lower passband edge: 8.00\n",
      "- Lower transition bandwidth: 2.00 Hz (-6 dB cutoff frequency: 7.00 Hz)\n",
      "- Upper passband edge: 13.00 Hz\n",
      "- Upper transition bandwidth: 3.25 Hz (-6 dB cutoff frequency: 14.62 Hz)\n",
      "- Filter length: 845 samples (1.650 s)\n",
      "\n"
     ]
    },
    {
     "name": "stderr",
     "output_type": "stream",
     "text": [
      "[Parallel(n_jobs=-1)]: Using backend LokyBackend with 16 concurrent workers.\n",
      "[Parallel(n_jobs=-1)]: Done   2 tasks      | elapsed:    0.3s\n",
      "[Parallel(n_jobs=-1)]: Done  62 out of  64 | elapsed:    0.9s remaining:    0.0s\n",
      "[Parallel(n_jobs=-1)]: Done  64 out of  64 | elapsed:    0.9s finished\n"
     ]
    },
    {
     "name": "stdout",
     "output_type": "stream",
     "text": [
      "Filtering raw data in 1 contiguous segment\n",
      "Setting up band-pass filter from 8 - 13 Hz\n",
      "\n",
      "FIR filter parameters\n",
      "---------------------\n",
      "Designing a one-pass, zero-phase, non-causal bandpass filter:\n",
      "- Windowed time-domain design (firwin) method\n",
      "- Hamming window with 0.0194 passband ripple and 53 dB stopband attenuation\n",
      "- Lower passband edge: 8.00\n",
      "- Lower transition bandwidth: 2.00 Hz (-6 dB cutoff frequency: 7.00 Hz)\n",
      "- Upper passband edge: 13.00 Hz\n",
      "- Upper transition bandwidth: 3.25 Hz (-6 dB cutoff frequency: 14.62 Hz)\n",
      "- Filter length: 845 samples (1.650 s)\n",
      "\n"
     ]
    },
    {
     "name": "stderr",
     "output_type": "stream",
     "text": [
      "[Parallel(n_jobs=-1)]: Using backend LokyBackend with 16 concurrent workers.\n",
      "[Parallel(n_jobs=-1)]: Done   2 tasks      | elapsed:    0.3s\n",
      "[Parallel(n_jobs=-1)]: Done  62 out of  64 | elapsed:    1.0s remaining:    0.0s\n",
      "[Parallel(n_jobs=-1)]: Done  64 out of  64 | elapsed:    1.1s finished\n"
     ]
    },
    {
     "name": "stdout",
     "output_type": "stream",
     "text": [
      "Filtering raw data in 1 contiguous segment\n",
      "Setting up band-pass filter from 8 - 13 Hz\n",
      "\n",
      "FIR filter parameters\n",
      "---------------------\n",
      "Designing a one-pass, zero-phase, non-causal bandpass filter:\n",
      "- Windowed time-domain design (firwin) method\n",
      "- Hamming window with 0.0194 passband ripple and 53 dB stopband attenuation\n",
      "- Lower passband edge: 8.00\n",
      "- Lower transition bandwidth: 2.00 Hz (-6 dB cutoff frequency: 7.00 Hz)\n",
      "- Upper passband edge: 13.00 Hz\n",
      "- Upper transition bandwidth: 3.25 Hz (-6 dB cutoff frequency: 14.62 Hz)\n",
      "- Filter length: 845 samples (1.650 s)\n",
      "\n"
     ]
    },
    {
     "name": "stderr",
     "output_type": "stream",
     "text": [
      "[Parallel(n_jobs=-1)]: Using backend LokyBackend with 16 concurrent workers.\n",
      "[Parallel(n_jobs=-1)]: Done   2 tasks      | elapsed:    0.4s\n",
      "[Parallel(n_jobs=-1)]: Done  62 out of  64 | elapsed:    1.0s remaining:    0.0s\n",
      "[Parallel(n_jobs=-1)]: Done  64 out of  64 | elapsed:    1.0s finished\n"
     ]
    },
    {
     "name": "stdout",
     "output_type": "stream",
     "text": [
      "Filtering raw data in 1 contiguous segment\n",
      "Setting up band-pass filter from 8 - 13 Hz\n",
      "\n",
      "FIR filter parameters\n",
      "---------------------\n",
      "Designing a one-pass, zero-phase, non-causal bandpass filter:\n",
      "- Windowed time-domain design (firwin) method\n",
      "- Hamming window with 0.0194 passband ripple and 53 dB stopband attenuation\n",
      "- Lower passband edge: 8.00\n",
      "- Lower transition bandwidth: 2.00 Hz (-6 dB cutoff frequency: 7.00 Hz)\n",
      "- Upper passband edge: 13.00 Hz\n",
      "- Upper transition bandwidth: 3.25 Hz (-6 dB cutoff frequency: 14.62 Hz)\n",
      "- Filter length: 845 samples (1.650 s)\n",
      "\n"
     ]
    },
    {
     "name": "stderr",
     "output_type": "stream",
     "text": [
      "[Parallel(n_jobs=-1)]: Using backend LokyBackend with 16 concurrent workers.\n",
      "[Parallel(n_jobs=-1)]: Done   2 tasks      | elapsed:    0.3s\n",
      "[Parallel(n_jobs=-1)]: Done  62 out of  64 | elapsed:    1.0s remaining:    0.0s\n",
      "[Parallel(n_jobs=-1)]: Done  64 out of  64 | elapsed:    1.0s finished\n"
     ]
    },
    {
     "name": "stdout",
     "output_type": "stream",
     "text": [
      "Filtering raw data in 1 contiguous segment\n",
      "Setting up band-pass filter from 8 - 13 Hz\n",
      "\n",
      "FIR filter parameters\n",
      "---------------------\n",
      "Designing a one-pass, zero-phase, non-causal bandpass filter:\n",
      "- Windowed time-domain design (firwin) method\n",
      "- Hamming window with 0.0194 passband ripple and 53 dB stopband attenuation\n",
      "- Lower passband edge: 8.00\n",
      "- Lower transition bandwidth: 2.00 Hz (-6 dB cutoff frequency: 7.00 Hz)\n",
      "- Upper passband edge: 13.00 Hz\n",
      "- Upper transition bandwidth: 3.25 Hz (-6 dB cutoff frequency: 14.62 Hz)\n",
      "- Filter length: 845 samples (1.650 s)\n",
      "\n"
     ]
    },
    {
     "name": "stderr",
     "output_type": "stream",
     "text": [
      "[Parallel(n_jobs=-1)]: Using backend LokyBackend with 16 concurrent workers.\n",
      "[Parallel(n_jobs=-1)]: Done   2 tasks      | elapsed:    0.3s\n",
      "[Parallel(n_jobs=-1)]: Done  62 out of  64 | elapsed:    0.9s remaining:    0.0s\n",
      "[Parallel(n_jobs=-1)]: Done  64 out of  64 | elapsed:    0.9s finished\n"
     ]
    },
    {
     "name": "stdout",
     "output_type": "stream",
     "text": [
      "Filtering raw data in 1 contiguous segment\n",
      "Setting up band-pass filter from 8 - 13 Hz\n",
      "\n",
      "FIR filter parameters\n",
      "---------------------\n",
      "Designing a one-pass, zero-phase, non-causal bandpass filter:\n",
      "- Windowed time-domain design (firwin) method\n",
      "- Hamming window with 0.0194 passband ripple and 53 dB stopband attenuation\n",
      "- Lower passband edge: 8.00\n",
      "- Lower transition bandwidth: 2.00 Hz (-6 dB cutoff frequency: 7.00 Hz)\n",
      "- Upper passband edge: 13.00 Hz\n",
      "- Upper transition bandwidth: 3.25 Hz (-6 dB cutoff frequency: 14.62 Hz)\n",
      "- Filter length: 845 samples (1.650 s)\n",
      "\n"
     ]
    },
    {
     "name": "stderr",
     "output_type": "stream",
     "text": [
      "[Parallel(n_jobs=-1)]: Using backend LokyBackend with 16 concurrent workers.\n",
      "[Parallel(n_jobs=-1)]: Done   2 tasks      | elapsed:    0.3s\n",
      "[Parallel(n_jobs=-1)]: Done  62 out of  64 | elapsed:    1.0s remaining:    0.0s\n",
      "[Parallel(n_jobs=-1)]: Done  64 out of  64 | elapsed:    1.0s finished\n"
     ]
    },
    {
     "name": "stdout",
     "output_type": "stream",
     "text": [
      "Filtering raw data in 1 contiguous segment\n",
      "Setting up band-pass filter from 8 - 13 Hz\n",
      "\n",
      "FIR filter parameters\n",
      "---------------------\n",
      "Designing a one-pass, zero-phase, non-causal bandpass filter:\n",
      "- Windowed time-domain design (firwin) method\n",
      "- Hamming window with 0.0194 passband ripple and 53 dB stopband attenuation\n",
      "- Lower passband edge: 8.00\n",
      "- Lower transition bandwidth: 2.00 Hz (-6 dB cutoff frequency: 7.00 Hz)\n",
      "- Upper passband edge: 13.00 Hz\n",
      "- Upper transition bandwidth: 3.25 Hz (-6 dB cutoff frequency: 14.62 Hz)\n",
      "- Filter length: 845 samples (1.650 s)\n",
      "\n"
     ]
    },
    {
     "name": "stderr",
     "output_type": "stream",
     "text": [
      "[Parallel(n_jobs=-1)]: Using backend LokyBackend with 16 concurrent workers.\n",
      "[Parallel(n_jobs=-1)]: Done   2 tasks      | elapsed:    0.4s\n",
      "[Parallel(n_jobs=-1)]: Done  62 out of  64 | elapsed:    1.3s remaining:    0.0s\n",
      "[Parallel(n_jobs=-1)]: Done  64 out of  64 | elapsed:    1.3s finished\n"
     ]
    },
    {
     "name": "stdout",
     "output_type": "stream",
     "text": [
      "Filtering raw data in 1 contiguous segment\n",
      "Setting up band-pass filter from 8 - 13 Hz\n",
      "\n",
      "FIR filter parameters\n",
      "---------------------\n",
      "Designing a one-pass, zero-phase, non-causal bandpass filter:\n",
      "- Windowed time-domain design (firwin) method\n",
      "- Hamming window with 0.0194 passband ripple and 53 dB stopband attenuation\n",
      "- Lower passband edge: 8.00\n",
      "- Lower transition bandwidth: 2.00 Hz (-6 dB cutoff frequency: 7.00 Hz)\n",
      "- Upper passband edge: 13.00 Hz\n",
      "- Upper transition bandwidth: 3.25 Hz (-6 dB cutoff frequency: 14.62 Hz)\n",
      "- Filter length: 845 samples (1.650 s)\n",
      "\n"
     ]
    },
    {
     "name": "stderr",
     "output_type": "stream",
     "text": [
      "[Parallel(n_jobs=-1)]: Using backend LokyBackend with 16 concurrent workers.\n",
      "[Parallel(n_jobs=-1)]: Done   2 tasks      | elapsed:    0.3s\n",
      "[Parallel(n_jobs=-1)]: Done  62 out of  64 | elapsed:    1.2s remaining:    0.0s\n",
      "[Parallel(n_jobs=-1)]: Done  64 out of  64 | elapsed:    1.2s finished\n"
     ]
    },
    {
     "name": "stdout",
     "output_type": "stream",
     "text": [
      "Filtering raw data in 1 contiguous segment\n",
      "Setting up band-pass filter from 8 - 13 Hz\n",
      "\n",
      "FIR filter parameters\n",
      "---------------------\n",
      "Designing a one-pass, zero-phase, non-causal bandpass filter:\n",
      "- Windowed time-domain design (firwin) method\n",
      "- Hamming window with 0.0194 passband ripple and 53 dB stopband attenuation\n",
      "- Lower passband edge: 8.00\n",
      "- Lower transition bandwidth: 2.00 Hz (-6 dB cutoff frequency: 7.00 Hz)\n",
      "- Upper passband edge: 13.00 Hz\n",
      "- Upper transition bandwidth: 3.25 Hz (-6 dB cutoff frequency: 14.62 Hz)\n",
      "- Filter length: 845 samples (1.650 s)\n",
      "\n"
     ]
    },
    {
     "name": "stderr",
     "output_type": "stream",
     "text": [
      "[Parallel(n_jobs=-1)]: Using backend LokyBackend with 16 concurrent workers.\n",
      "[Parallel(n_jobs=-1)]: Done   2 tasks      | elapsed:    0.3s\n",
      "[Parallel(n_jobs=-1)]: Done  62 out of  64 | elapsed:    0.9s remaining:    0.0s\n",
      "[Parallel(n_jobs=-1)]: Done  64 out of  64 | elapsed:    1.0s finished\n"
     ]
    },
    {
     "name": "stdout",
     "output_type": "stream",
     "text": [
      "Filtering raw data in 1 contiguous segment\n",
      "Setting up band-pass filter from 8 - 13 Hz\n",
      "\n",
      "FIR filter parameters\n",
      "---------------------\n",
      "Designing a one-pass, zero-phase, non-causal bandpass filter:\n",
      "- Windowed time-domain design (firwin) method\n",
      "- Hamming window with 0.0194 passband ripple and 53 dB stopband attenuation\n",
      "- Lower passband edge: 8.00\n",
      "- Lower transition bandwidth: 2.00 Hz (-6 dB cutoff frequency: 7.00 Hz)\n",
      "- Upper passband edge: 13.00 Hz\n",
      "- Upper transition bandwidth: 3.25 Hz (-6 dB cutoff frequency: 14.62 Hz)\n",
      "- Filter length: 845 samples (1.650 s)\n",
      "\n"
     ]
    },
    {
     "name": "stderr",
     "output_type": "stream",
     "text": [
      "[Parallel(n_jobs=-1)]: Using backend LokyBackend with 16 concurrent workers.\n",
      "[Parallel(n_jobs=-1)]: Done   2 tasks      | elapsed:    0.2s\n",
      "[Parallel(n_jobs=-1)]: Done  62 out of  64 | elapsed:    0.9s remaining:    0.0s\n",
      "[Parallel(n_jobs=-1)]: Done  64 out of  64 | elapsed:    0.9s finished\n"
     ]
    },
    {
     "name": "stdout",
     "output_type": "stream",
     "text": [
      "Filtering raw data in 1 contiguous segment\n",
      "Setting up band-pass filter from 8 - 13 Hz\n",
      "\n",
      "FIR filter parameters\n",
      "---------------------\n",
      "Designing a one-pass, zero-phase, non-causal bandpass filter:\n",
      "- Windowed time-domain design (firwin) method\n",
      "- Hamming window with 0.0194 passband ripple and 53 dB stopband attenuation\n",
      "- Lower passband edge: 8.00\n",
      "- Lower transition bandwidth: 2.00 Hz (-6 dB cutoff frequency: 7.00 Hz)\n",
      "- Upper passband edge: 13.00 Hz\n",
      "- Upper transition bandwidth: 3.25 Hz (-6 dB cutoff frequency: 14.62 Hz)\n",
      "- Filter length: 845 samples (1.650 s)\n",
      "\n"
     ]
    },
    {
     "name": "stderr",
     "output_type": "stream",
     "text": [
      "[Parallel(n_jobs=-1)]: Using backend LokyBackend with 16 concurrent workers.\n",
      "[Parallel(n_jobs=-1)]: Done   2 tasks      | elapsed:    0.3s\n",
      "[Parallel(n_jobs=-1)]: Done  62 out of  64 | elapsed:    1.3s remaining:    0.0s\n",
      "[Parallel(n_jobs=-1)]: Done  64 out of  64 | elapsed:    1.3s finished\n"
     ]
    },
    {
     "name": "stdout",
     "output_type": "stream",
     "text": [
      "Filtering raw data in 1 contiguous segment\n",
      "Setting up band-pass filter from 8 - 13 Hz\n",
      "\n",
      "FIR filter parameters\n",
      "---------------------\n",
      "Designing a one-pass, zero-phase, non-causal bandpass filter:\n",
      "- Windowed time-domain design (firwin) method\n",
      "- Hamming window with 0.0194 passband ripple and 53 dB stopband attenuation\n",
      "- Lower passband edge: 8.00\n",
      "- Lower transition bandwidth: 2.00 Hz (-6 dB cutoff frequency: 7.00 Hz)\n",
      "- Upper passband edge: 13.00 Hz\n",
      "- Upper transition bandwidth: 3.25 Hz (-6 dB cutoff frequency: 14.62 Hz)\n",
      "- Filter length: 845 samples (1.650 s)\n",
      "\n"
     ]
    },
    {
     "name": "stderr",
     "output_type": "stream",
     "text": [
      "[Parallel(n_jobs=-1)]: Using backend LokyBackend with 16 concurrent workers.\n",
      "[Parallel(n_jobs=-1)]: Done   2 tasks      | elapsed:    0.3s\n",
      "[Parallel(n_jobs=-1)]: Done  62 out of  64 | elapsed:    1.2s remaining:    0.0s\n",
      "[Parallel(n_jobs=-1)]: Done  64 out of  64 | elapsed:    1.2s finished\n"
     ]
    },
    {
     "name": "stdout",
     "output_type": "stream",
     "text": [
      "Filtering raw data in 1 contiguous segment\n",
      "Setting up band-pass filter from 8 - 13 Hz\n",
      "\n",
      "FIR filter parameters\n",
      "---------------------\n",
      "Designing a one-pass, zero-phase, non-causal bandpass filter:\n",
      "- Windowed time-domain design (firwin) method\n",
      "- Hamming window with 0.0194 passband ripple and 53 dB stopband attenuation\n",
      "- Lower passband edge: 8.00\n",
      "- Lower transition bandwidth: 2.00 Hz (-6 dB cutoff frequency: 7.00 Hz)\n",
      "- Upper passband edge: 13.00 Hz\n",
      "- Upper transition bandwidth: 3.25 Hz (-6 dB cutoff frequency: 14.62 Hz)\n",
      "- Filter length: 845 samples (1.650 s)\n",
      "\n"
     ]
    },
    {
     "name": "stderr",
     "output_type": "stream",
     "text": [
      "[Parallel(n_jobs=-1)]: Using backend LokyBackend with 16 concurrent workers.\n",
      "[Parallel(n_jobs=-1)]: Done   2 tasks      | elapsed:    0.2s\n",
      "[Parallel(n_jobs=-1)]: Done  62 out of  64 | elapsed:    0.8s remaining:    0.0s\n",
      "[Parallel(n_jobs=-1)]: Done  64 out of  64 | elapsed:    0.8s finished\n"
     ]
    },
    {
     "name": "stdout",
     "output_type": "stream",
     "text": [
      "Filtering raw data in 1 contiguous segment\n",
      "Setting up band-pass filter from 8 - 13 Hz\n",
      "\n",
      "FIR filter parameters\n",
      "---------------------\n",
      "Designing a one-pass, zero-phase, non-causal bandpass filter:\n",
      "- Windowed time-domain design (firwin) method\n",
      "- Hamming window with 0.0194 passband ripple and 53 dB stopband attenuation\n",
      "- Lower passband edge: 8.00\n",
      "- Lower transition bandwidth: 2.00 Hz (-6 dB cutoff frequency: 7.00 Hz)\n",
      "- Upper passband edge: 13.00 Hz\n",
      "- Upper transition bandwidth: 3.25 Hz (-6 dB cutoff frequency: 14.62 Hz)\n",
      "- Filter length: 845 samples (1.650 s)\n",
      "\n"
     ]
    },
    {
     "name": "stderr",
     "output_type": "stream",
     "text": [
      "[Parallel(n_jobs=-1)]: Using backend LokyBackend with 16 concurrent workers.\n",
      "[Parallel(n_jobs=-1)]: Done   2 tasks      | elapsed:    0.2s\n",
      "[Parallel(n_jobs=-1)]: Done  62 out of  64 | elapsed:    0.8s remaining:    0.0s\n",
      "[Parallel(n_jobs=-1)]: Done  64 out of  64 | elapsed:    0.8s finished\n"
     ]
    },
    {
     "name": "stdout",
     "output_type": "stream",
     "text": [
      "Filtering raw data in 1 contiguous segment\n",
      "Setting up band-pass filter from 8 - 13 Hz\n",
      "\n",
      "FIR filter parameters\n",
      "---------------------\n",
      "Designing a one-pass, zero-phase, non-causal bandpass filter:\n",
      "- Windowed time-domain design (firwin) method\n",
      "- Hamming window with 0.0194 passband ripple and 53 dB stopband attenuation\n",
      "- Lower passband edge: 8.00\n",
      "- Lower transition bandwidth: 2.00 Hz (-6 dB cutoff frequency: 7.00 Hz)\n",
      "- Upper passband edge: 13.00 Hz\n",
      "- Upper transition bandwidth: 3.25 Hz (-6 dB cutoff frequency: 14.62 Hz)\n",
      "- Filter length: 845 samples (1.650 s)\n",
      "\n"
     ]
    },
    {
     "name": "stderr",
     "output_type": "stream",
     "text": [
      "[Parallel(n_jobs=-1)]: Using backend LokyBackend with 16 concurrent workers.\n",
      "[Parallel(n_jobs=-1)]: Done   2 tasks      | elapsed:    0.3s\n",
      "[Parallel(n_jobs=-1)]: Done  62 out of  64 | elapsed:    0.9s remaining:    0.0s\n",
      "[Parallel(n_jobs=-1)]: Done  64 out of  64 | elapsed:    0.9s finished\n"
     ]
    },
    {
     "name": "stdout",
     "output_type": "stream",
     "text": [
      "Filtering raw data in 1 contiguous segment\n",
      "Setting up band-pass filter from 8 - 13 Hz\n",
      "\n",
      "FIR filter parameters\n",
      "---------------------\n",
      "Designing a one-pass, zero-phase, non-causal bandpass filter:\n",
      "- Windowed time-domain design (firwin) method\n",
      "- Hamming window with 0.0194 passband ripple and 53 dB stopband attenuation\n",
      "- Lower passband edge: 8.00\n",
      "- Lower transition bandwidth: 2.00 Hz (-6 dB cutoff frequency: 7.00 Hz)\n",
      "- Upper passband edge: 13.00 Hz\n",
      "- Upper transition bandwidth: 3.25 Hz (-6 dB cutoff frequency: 14.62 Hz)\n",
      "- Filter length: 845 samples (1.650 s)\n",
      "\n"
     ]
    },
    {
     "name": "stderr",
     "output_type": "stream",
     "text": [
      "[Parallel(n_jobs=-1)]: Using backend LokyBackend with 16 concurrent workers.\n",
      "[Parallel(n_jobs=-1)]: Done   2 tasks      | elapsed:    0.3s\n",
      "[Parallel(n_jobs=-1)]: Done  62 out of  64 | elapsed:    1.1s remaining:    0.0s\n",
      "[Parallel(n_jobs=-1)]: Done  64 out of  64 | elapsed:    1.1s finished\n"
     ]
    },
    {
     "name": "stdout",
     "output_type": "stream",
     "text": [
      "Filtering raw data in 1 contiguous segment\n",
      "Setting up band-pass filter from 8 - 13 Hz\n",
      "\n",
      "FIR filter parameters\n",
      "---------------------\n",
      "Designing a one-pass, zero-phase, non-causal bandpass filter:\n",
      "- Windowed time-domain design (firwin) method\n",
      "- Hamming window with 0.0194 passband ripple and 53 dB stopband attenuation\n",
      "- Lower passband edge: 8.00\n",
      "- Lower transition bandwidth: 2.00 Hz (-6 dB cutoff frequency: 7.00 Hz)\n",
      "- Upper passband edge: 13.00 Hz\n",
      "- Upper transition bandwidth: 3.25 Hz (-6 dB cutoff frequency: 14.62 Hz)\n",
      "- Filter length: 845 samples (1.650 s)\n",
      "\n"
     ]
    },
    {
     "name": "stderr",
     "output_type": "stream",
     "text": [
      "[Parallel(n_jobs=-1)]: Using backend LokyBackend with 16 concurrent workers.\n",
      "[Parallel(n_jobs=-1)]: Done   2 tasks      | elapsed:    0.3s\n",
      "[Parallel(n_jobs=-1)]: Done  62 out of  64 | elapsed:    1.0s remaining:    0.0s\n",
      "[Parallel(n_jobs=-1)]: Done  64 out of  64 | elapsed:    1.0s finished\n"
     ]
    },
    {
     "name": "stdout",
     "output_type": "stream",
     "text": [
      "Filtering raw data in 1 contiguous segment\n",
      "Setting up band-pass filter from 8 - 13 Hz\n",
      "\n",
      "FIR filter parameters\n",
      "---------------------\n",
      "Designing a one-pass, zero-phase, non-causal bandpass filter:\n",
      "- Windowed time-domain design (firwin) method\n",
      "- Hamming window with 0.0194 passband ripple and 53 dB stopband attenuation\n",
      "- Lower passband edge: 8.00\n",
      "- Lower transition bandwidth: 2.00 Hz (-6 dB cutoff frequency: 7.00 Hz)\n",
      "- Upper passband edge: 13.00 Hz\n",
      "- Upper transition bandwidth: 3.25 Hz (-6 dB cutoff frequency: 14.62 Hz)\n",
      "- Filter length: 845 samples (1.650 s)\n",
      "\n"
     ]
    },
    {
     "name": "stderr",
     "output_type": "stream",
     "text": [
      "[Parallel(n_jobs=-1)]: Using backend LokyBackend with 16 concurrent workers.\n",
      "[Parallel(n_jobs=-1)]: Done   2 tasks      | elapsed:    0.3s\n",
      "[Parallel(n_jobs=-1)]: Done  62 out of  64 | elapsed:    1.1s remaining:    0.0s\n",
      "[Parallel(n_jobs=-1)]: Done  64 out of  64 | elapsed:    1.1s finished\n"
     ]
    },
    {
     "name": "stdout",
     "output_type": "stream",
     "text": [
      "Filtering raw data in 1 contiguous segment\n",
      "Setting up band-pass filter from 8 - 13 Hz\n",
      "\n",
      "FIR filter parameters\n",
      "---------------------\n",
      "Designing a one-pass, zero-phase, non-causal bandpass filter:\n",
      "- Windowed time-domain design (firwin) method\n",
      "- Hamming window with 0.0194 passband ripple and 53 dB stopband attenuation\n",
      "- Lower passband edge: 8.00\n",
      "- Lower transition bandwidth: 2.00 Hz (-6 dB cutoff frequency: 7.00 Hz)\n",
      "- Upper passband edge: 13.00 Hz\n",
      "- Upper transition bandwidth: 3.25 Hz (-6 dB cutoff frequency: 14.62 Hz)\n",
      "- Filter length: 845 samples (1.650 s)\n",
      "\n"
     ]
    },
    {
     "name": "stderr",
     "output_type": "stream",
     "text": [
      "[Parallel(n_jobs=-1)]: Using backend LokyBackend with 16 concurrent workers.\n",
      "[Parallel(n_jobs=-1)]: Done   2 tasks      | elapsed:    0.4s\n",
      "[Parallel(n_jobs=-1)]: Done  62 out of  64 | elapsed:    1.0s remaining:    0.0s\n",
      "[Parallel(n_jobs=-1)]: Done  64 out of  64 | elapsed:    1.0s finished\n"
     ]
    },
    {
     "name": "stdout",
     "output_type": "stream",
     "text": [
      "Filtering raw data in 1 contiguous segment\n",
      "Setting up band-pass filter from 8 - 13 Hz\n",
      "\n",
      "FIR filter parameters\n",
      "---------------------\n",
      "Designing a one-pass, zero-phase, non-causal bandpass filter:\n",
      "- Windowed time-domain design (firwin) method\n",
      "- Hamming window with 0.0194 passband ripple and 53 dB stopband attenuation\n",
      "- Lower passband edge: 8.00\n",
      "- Lower transition bandwidth: 2.00 Hz (-6 dB cutoff frequency: 7.00 Hz)\n",
      "- Upper passband edge: 13.00 Hz\n",
      "- Upper transition bandwidth: 3.25 Hz (-6 dB cutoff frequency: 14.62 Hz)\n",
      "- Filter length: 845 samples (1.650 s)\n",
      "\n"
     ]
    },
    {
     "name": "stderr",
     "output_type": "stream",
     "text": [
      "[Parallel(n_jobs=-1)]: Using backend LokyBackend with 16 concurrent workers.\n",
      "[Parallel(n_jobs=-1)]: Done   2 tasks      | elapsed:    0.3s\n",
      "[Parallel(n_jobs=-1)]: Done  62 out of  64 | elapsed:    1.0s remaining:    0.0s\n",
      "[Parallel(n_jobs=-1)]: Done  64 out of  64 | elapsed:    1.0s finished\n"
     ]
    },
    {
     "name": "stdout",
     "output_type": "stream",
     "text": [
      "Filtering raw data in 1 contiguous segment\n",
      "Setting up band-pass filter from 8 - 13 Hz\n",
      "\n",
      "FIR filter parameters\n",
      "---------------------\n",
      "Designing a one-pass, zero-phase, non-causal bandpass filter:\n",
      "- Windowed time-domain design (firwin) method\n",
      "- Hamming window with 0.0194 passband ripple and 53 dB stopband attenuation\n",
      "- Lower passband edge: 8.00\n",
      "- Lower transition bandwidth: 2.00 Hz (-6 dB cutoff frequency: 7.00 Hz)\n",
      "- Upper passband edge: 13.00 Hz\n",
      "- Upper transition bandwidth: 3.25 Hz (-6 dB cutoff frequency: 14.62 Hz)\n",
      "- Filter length: 845 samples (1.650 s)\n",
      "\n"
     ]
    },
    {
     "name": "stderr",
     "output_type": "stream",
     "text": [
      "[Parallel(n_jobs=-1)]: Using backend LokyBackend with 16 concurrent workers.\n",
      "[Parallel(n_jobs=-1)]: Done   2 tasks      | elapsed:    0.3s\n",
      "[Parallel(n_jobs=-1)]: Done  62 out of  64 | elapsed:    1.0s remaining:    0.0s\n",
      "[Parallel(n_jobs=-1)]: Done  64 out of  64 | elapsed:    1.0s finished\n"
     ]
    },
    {
     "name": "stdout",
     "output_type": "stream",
     "text": [
      "Filtering raw data in 1 contiguous segment\n",
      "Setting up band-pass filter from 8 - 13 Hz\n",
      "\n",
      "FIR filter parameters\n",
      "---------------------\n",
      "Designing a one-pass, zero-phase, non-causal bandpass filter:\n",
      "- Windowed time-domain design (firwin) method\n",
      "- Hamming window with 0.0194 passband ripple and 53 dB stopband attenuation\n",
      "- Lower passband edge: 8.00\n",
      "- Lower transition bandwidth: 2.00 Hz (-6 dB cutoff frequency: 7.00 Hz)\n",
      "- Upper passband edge: 13.00 Hz\n",
      "- Upper transition bandwidth: 3.25 Hz (-6 dB cutoff frequency: 14.62 Hz)\n",
      "- Filter length: 845 samples (1.650 s)\n",
      "\n"
     ]
    },
    {
     "name": "stderr",
     "output_type": "stream",
     "text": [
      "[Parallel(n_jobs=-1)]: Using backend LokyBackend with 16 concurrent workers.\n",
      "[Parallel(n_jobs=-1)]: Done   2 tasks      | elapsed:    0.3s\n",
      "[Parallel(n_jobs=-1)]: Done  62 out of  64 | elapsed:    1.0s remaining:    0.0s\n",
      "[Parallel(n_jobs=-1)]: Done  64 out of  64 | elapsed:    1.0s finished\n"
     ]
    },
    {
     "name": "stdout",
     "output_type": "stream",
     "text": [
      "Filtering raw data in 1 contiguous segment\n",
      "Setting up band-pass filter from 8 - 13 Hz\n",
      "\n",
      "FIR filter parameters\n",
      "---------------------\n",
      "Designing a one-pass, zero-phase, non-causal bandpass filter:\n",
      "- Windowed time-domain design (firwin) method\n",
      "- Hamming window with 0.0194 passband ripple and 53 dB stopband attenuation\n",
      "- Lower passband edge: 8.00\n",
      "- Lower transition bandwidth: 2.00 Hz (-6 dB cutoff frequency: 7.00 Hz)\n",
      "- Upper passband edge: 13.00 Hz\n",
      "- Upper transition bandwidth: 3.25 Hz (-6 dB cutoff frequency: 14.62 Hz)\n",
      "- Filter length: 845 samples (1.650 s)\n",
      "\n"
     ]
    },
    {
     "name": "stderr",
     "output_type": "stream",
     "text": [
      "[Parallel(n_jobs=-1)]: Using backend LokyBackend with 16 concurrent workers.\n",
      "[Parallel(n_jobs=-1)]: Done   2 tasks      | elapsed:    0.2s\n",
      "[Parallel(n_jobs=-1)]: Done  62 out of  64 | elapsed:    0.8s remaining:    0.0s\n",
      "[Parallel(n_jobs=-1)]: Done  64 out of  64 | elapsed:    0.8s finished\n"
     ]
    },
    {
     "name": "stdout",
     "output_type": "stream",
     "text": [
      "Filtering raw data in 1 contiguous segment\n",
      "Setting up band-pass filter from 8 - 13 Hz\n",
      "\n",
      "FIR filter parameters\n",
      "---------------------\n",
      "Designing a one-pass, zero-phase, non-causal bandpass filter:\n",
      "- Windowed time-domain design (firwin) method\n",
      "- Hamming window with 0.0194 passband ripple and 53 dB stopband attenuation\n",
      "- Lower passband edge: 8.00\n",
      "- Lower transition bandwidth: 2.00 Hz (-6 dB cutoff frequency: 7.00 Hz)\n",
      "- Upper passband edge: 13.00 Hz\n",
      "- Upper transition bandwidth: 3.25 Hz (-6 dB cutoff frequency: 14.62 Hz)\n",
      "- Filter length: 845 samples (1.650 s)\n",
      "\n"
     ]
    },
    {
     "name": "stderr",
     "output_type": "stream",
     "text": [
      "[Parallel(n_jobs=-1)]: Using backend LokyBackend with 16 concurrent workers.\n",
      "[Parallel(n_jobs=-1)]: Done   2 tasks      | elapsed:    0.1s\n",
      "[Parallel(n_jobs=-1)]: Done  62 out of  64 | elapsed:    0.8s remaining:    0.0s\n",
      "[Parallel(n_jobs=-1)]: Done  64 out of  64 | elapsed:    0.8s finished\n"
     ]
    },
    {
     "name": "stdout",
     "output_type": "stream",
     "text": [
      "Filtering raw data in 1 contiguous segment\n",
      "Setting up band-pass filter from 8 - 13 Hz\n",
      "\n",
      "FIR filter parameters\n",
      "---------------------\n",
      "Designing a one-pass, zero-phase, non-causal bandpass filter:\n",
      "- Windowed time-domain design (firwin) method\n",
      "- Hamming window with 0.0194 passband ripple and 53 dB stopband attenuation\n",
      "- Lower passband edge: 8.00\n",
      "- Lower transition bandwidth: 2.00 Hz (-6 dB cutoff frequency: 7.00 Hz)\n",
      "- Upper passband edge: 13.00 Hz\n",
      "- Upper transition bandwidth: 3.25 Hz (-6 dB cutoff frequency: 14.62 Hz)\n",
      "- Filter length: 845 samples (1.650 s)\n",
      "\n"
     ]
    },
    {
     "name": "stderr",
     "output_type": "stream",
     "text": [
      "[Parallel(n_jobs=-1)]: Using backend LokyBackend with 16 concurrent workers.\n",
      "[Parallel(n_jobs=-1)]: Done   2 tasks      | elapsed:    0.3s\n",
      "[Parallel(n_jobs=-1)]: Done  62 out of  64 | elapsed:    1.0s remaining:    0.0s\n",
      "[Parallel(n_jobs=-1)]: Done  64 out of  64 | elapsed:    1.0s finished\n"
     ]
    },
    {
     "name": "stdout",
     "output_type": "stream",
     "text": [
      "Filtering raw data in 1 contiguous segment\n",
      "Setting up band-pass filter from 8 - 13 Hz\n",
      "\n",
      "FIR filter parameters\n",
      "---------------------\n",
      "Designing a one-pass, zero-phase, non-causal bandpass filter:\n",
      "- Windowed time-domain design (firwin) method\n",
      "- Hamming window with 0.0194 passband ripple and 53 dB stopband attenuation\n",
      "- Lower passband edge: 8.00\n",
      "- Lower transition bandwidth: 2.00 Hz (-6 dB cutoff frequency: 7.00 Hz)\n",
      "- Upper passband edge: 13.00 Hz\n",
      "- Upper transition bandwidth: 3.25 Hz (-6 dB cutoff frequency: 14.62 Hz)\n",
      "- Filter length: 845 samples (1.650 s)\n",
      "\n"
     ]
    },
    {
     "name": "stderr",
     "output_type": "stream",
     "text": [
      "[Parallel(n_jobs=-1)]: Using backend LokyBackend with 16 concurrent workers.\n",
      "[Parallel(n_jobs=-1)]: Done   2 tasks      | elapsed:    0.3s\n",
      "[Parallel(n_jobs=-1)]: Done  62 out of  64 | elapsed:    1.0s remaining:    0.0s\n",
      "[Parallel(n_jobs=-1)]: Done  64 out of  64 | elapsed:    1.0s finished\n"
     ]
    },
    {
     "name": "stdout",
     "output_type": "stream",
     "text": [
      "Filtering raw data in 1 contiguous segment\n",
      "Setting up band-pass filter from 8 - 13 Hz\n",
      "\n",
      "FIR filter parameters\n",
      "---------------------\n",
      "Designing a one-pass, zero-phase, non-causal bandpass filter:\n",
      "- Windowed time-domain design (firwin) method\n",
      "- Hamming window with 0.0194 passband ripple and 53 dB stopband attenuation\n",
      "- Lower passband edge: 8.00\n",
      "- Lower transition bandwidth: 2.00 Hz (-6 dB cutoff frequency: 7.00 Hz)\n",
      "- Upper passband edge: 13.00 Hz\n",
      "- Upper transition bandwidth: 3.25 Hz (-6 dB cutoff frequency: 14.62 Hz)\n",
      "- Filter length: 845 samples (1.650 s)\n",
      "\n"
     ]
    },
    {
     "name": "stderr",
     "output_type": "stream",
     "text": [
      "[Parallel(n_jobs=-1)]: Using backend LokyBackend with 16 concurrent workers.\n",
      "[Parallel(n_jobs=-1)]: Done   2 tasks      | elapsed:    0.2s\n",
      "[Parallel(n_jobs=-1)]: Done  62 out of  64 | elapsed:    0.9s remaining:    0.0s\n",
      "[Parallel(n_jobs=-1)]: Done  64 out of  64 | elapsed:    0.9s finished\n"
     ]
    },
    {
     "name": "stdout",
     "output_type": "stream",
     "text": [
      "Filtering raw data in 1 contiguous segment\n",
      "Setting up band-pass filter from 8 - 13 Hz\n",
      "\n",
      "FIR filter parameters\n",
      "---------------------\n",
      "Designing a one-pass, zero-phase, non-causal bandpass filter:\n",
      "- Windowed time-domain design (firwin) method\n",
      "- Hamming window with 0.0194 passband ripple and 53 dB stopband attenuation\n",
      "- Lower passband edge: 8.00\n",
      "- Lower transition bandwidth: 2.00 Hz (-6 dB cutoff frequency: 7.00 Hz)\n",
      "- Upper passband edge: 13.00 Hz\n",
      "- Upper transition bandwidth: 3.25 Hz (-6 dB cutoff frequency: 14.62 Hz)\n",
      "- Filter length: 845 samples (1.650 s)\n",
      "\n"
     ]
    },
    {
     "name": "stderr",
     "output_type": "stream",
     "text": [
      "[Parallel(n_jobs=-1)]: Using backend LokyBackend with 16 concurrent workers.\n",
      "[Parallel(n_jobs=-1)]: Done   2 tasks      | elapsed:    0.2s\n",
      "[Parallel(n_jobs=-1)]: Done  62 out of  64 | elapsed:    0.8s remaining:    0.0s\n",
      "[Parallel(n_jobs=-1)]: Done  64 out of  64 | elapsed:    0.8s finished\n"
     ]
    },
    {
     "name": "stdout",
     "output_type": "stream",
     "text": [
      "Filtering raw data in 1 contiguous segment\n",
      "Setting up band-pass filter from 8 - 13 Hz\n",
      "\n",
      "FIR filter parameters\n",
      "---------------------\n",
      "Designing a one-pass, zero-phase, non-causal bandpass filter:\n",
      "- Windowed time-domain design (firwin) method\n",
      "- Hamming window with 0.0194 passband ripple and 53 dB stopband attenuation\n",
      "- Lower passband edge: 8.00\n",
      "- Lower transition bandwidth: 2.00 Hz (-6 dB cutoff frequency: 7.00 Hz)\n",
      "- Upper passband edge: 13.00 Hz\n",
      "- Upper transition bandwidth: 3.25 Hz (-6 dB cutoff frequency: 14.62 Hz)\n",
      "- Filter length: 845 samples (1.650 s)\n",
      "\n"
     ]
    },
    {
     "name": "stderr",
     "output_type": "stream",
     "text": [
      "[Parallel(n_jobs=-1)]: Using backend LokyBackend with 16 concurrent workers.\n",
      "[Parallel(n_jobs=-1)]: Done   2 tasks      | elapsed:    0.2s\n",
      "[Parallel(n_jobs=-1)]: Done  62 out of  64 | elapsed:    1.0s remaining:    0.0s\n",
      "[Parallel(n_jobs=-1)]: Done  64 out of  64 | elapsed:    1.0s finished\n"
     ]
    },
    {
     "name": "stdout",
     "output_type": "stream",
     "text": [
      "Filtering raw data in 1 contiguous segment\n",
      "Setting up band-pass filter from 8 - 13 Hz\n",
      "\n",
      "FIR filter parameters\n",
      "---------------------\n",
      "Designing a one-pass, zero-phase, non-causal bandpass filter:\n",
      "- Windowed time-domain design (firwin) method\n",
      "- Hamming window with 0.0194 passband ripple and 53 dB stopband attenuation\n",
      "- Lower passband edge: 8.00\n",
      "- Lower transition bandwidth: 2.00 Hz (-6 dB cutoff frequency: 7.00 Hz)\n",
      "- Upper passband edge: 13.00 Hz\n",
      "- Upper transition bandwidth: 3.25 Hz (-6 dB cutoff frequency: 14.62 Hz)\n",
      "- Filter length: 845 samples (1.650 s)\n",
      "\n"
     ]
    },
    {
     "name": "stderr",
     "output_type": "stream",
     "text": [
      "[Parallel(n_jobs=-1)]: Using backend LokyBackend with 16 concurrent workers.\n",
      "[Parallel(n_jobs=-1)]: Done   2 tasks      | elapsed:    0.3s\n",
      "[Parallel(n_jobs=-1)]: Done  62 out of  64 | elapsed:    1.0s remaining:    0.0s\n",
      "[Parallel(n_jobs=-1)]: Done  64 out of  64 | elapsed:    1.0s finished\n"
     ]
    },
    {
     "name": "stdout",
     "output_type": "stream",
     "text": [
      "Filtering raw data in 1 contiguous segment\n",
      "Setting up band-pass filter from 8 - 13 Hz\n",
      "\n",
      "FIR filter parameters\n",
      "---------------------\n",
      "Designing a one-pass, zero-phase, non-causal bandpass filter:\n",
      "- Windowed time-domain design (firwin) method\n",
      "- Hamming window with 0.0194 passband ripple and 53 dB stopband attenuation\n",
      "- Lower passband edge: 8.00\n",
      "- Lower transition bandwidth: 2.00 Hz (-6 dB cutoff frequency: 7.00 Hz)\n",
      "- Upper passband edge: 13.00 Hz\n",
      "- Upper transition bandwidth: 3.25 Hz (-6 dB cutoff frequency: 14.62 Hz)\n",
      "- Filter length: 845 samples (1.650 s)\n",
      "\n"
     ]
    },
    {
     "name": "stderr",
     "output_type": "stream",
     "text": [
      "[Parallel(n_jobs=-1)]: Using backend LokyBackend with 16 concurrent workers.\n",
      "[Parallel(n_jobs=-1)]: Done   2 tasks      | elapsed:    0.3s\n",
      "[Parallel(n_jobs=-1)]: Done  62 out of  64 | elapsed:    0.9s remaining:    0.0s\n",
      "[Parallel(n_jobs=-1)]: Done  64 out of  64 | elapsed:    0.9s finished\n"
     ]
    },
    {
     "name": "stdout",
     "output_type": "stream",
     "text": [
      "Filtering raw data in 1 contiguous segment\n",
      "Setting up band-pass filter from 8 - 13 Hz\n",
      "\n",
      "FIR filter parameters\n",
      "---------------------\n",
      "Designing a one-pass, zero-phase, non-causal bandpass filter:\n",
      "- Windowed time-domain design (firwin) method\n",
      "- Hamming window with 0.0194 passband ripple and 53 dB stopband attenuation\n",
      "- Lower passband edge: 8.00\n",
      "- Lower transition bandwidth: 2.00 Hz (-6 dB cutoff frequency: 7.00 Hz)\n",
      "- Upper passband edge: 13.00 Hz\n",
      "- Upper transition bandwidth: 3.25 Hz (-6 dB cutoff frequency: 14.62 Hz)\n",
      "- Filter length: 845 samples (1.650 s)\n",
      "\n"
     ]
    },
    {
     "name": "stderr",
     "output_type": "stream",
     "text": [
      "[Parallel(n_jobs=-1)]: Using backend LokyBackend with 16 concurrent workers.\n",
      "[Parallel(n_jobs=-1)]: Done   2 tasks      | elapsed:    0.2s\n",
      "[Parallel(n_jobs=-1)]: Done  62 out of  64 | elapsed:    0.9s remaining:    0.0s\n",
      "[Parallel(n_jobs=-1)]: Done  64 out of  64 | elapsed:    0.9s finished\n"
     ]
    },
    {
     "name": "stdout",
     "output_type": "stream",
     "text": [
      "Filtering raw data in 1 contiguous segment\n",
      "Setting up band-pass filter from 8 - 13 Hz\n",
      "\n",
      "FIR filter parameters\n",
      "---------------------\n",
      "Designing a one-pass, zero-phase, non-causal bandpass filter:\n",
      "- Windowed time-domain design (firwin) method\n",
      "- Hamming window with 0.0194 passband ripple and 53 dB stopband attenuation\n",
      "- Lower passband edge: 8.00\n",
      "- Lower transition bandwidth: 2.00 Hz (-6 dB cutoff frequency: 7.00 Hz)\n",
      "- Upper passband edge: 13.00 Hz\n",
      "- Upper transition bandwidth: 3.25 Hz (-6 dB cutoff frequency: 14.62 Hz)\n",
      "- Filter length: 845 samples (1.650 s)\n",
      "\n"
     ]
    },
    {
     "name": "stderr",
     "output_type": "stream",
     "text": [
      "[Parallel(n_jobs=-1)]: Using backend LokyBackend with 16 concurrent workers.\n",
      "[Parallel(n_jobs=-1)]: Done   2 tasks      | elapsed:    0.3s\n",
      "[Parallel(n_jobs=-1)]: Done  62 out of  64 | elapsed:    0.9s remaining:    0.0s\n",
      "[Parallel(n_jobs=-1)]: Done  64 out of  64 | elapsed:    0.9s finished\n"
     ]
    },
    {
     "name": "stdout",
     "output_type": "stream",
     "text": [
      "Filtering raw data in 1 contiguous segment\n",
      "Setting up band-pass filter from 8 - 13 Hz\n",
      "\n",
      "FIR filter parameters\n",
      "---------------------\n",
      "Designing a one-pass, zero-phase, non-causal bandpass filter:\n",
      "- Windowed time-domain design (firwin) method\n",
      "- Hamming window with 0.0194 passband ripple and 53 dB stopband attenuation\n",
      "- Lower passband edge: 8.00\n",
      "- Lower transition bandwidth: 2.00 Hz (-6 dB cutoff frequency: 7.00 Hz)\n",
      "- Upper passband edge: 13.00 Hz\n",
      "- Upper transition bandwidth: 3.25 Hz (-6 dB cutoff frequency: 14.62 Hz)\n",
      "- Filter length: 845 samples (1.650 s)\n",
      "\n"
     ]
    },
    {
     "name": "stderr",
     "output_type": "stream",
     "text": [
      "[Parallel(n_jobs=-1)]: Using backend LokyBackend with 16 concurrent workers.\n",
      "[Parallel(n_jobs=-1)]: Done   2 tasks      | elapsed:    0.3s\n",
      "[Parallel(n_jobs=-1)]: Done  62 out of  64 | elapsed:    0.9s remaining:    0.0s\n",
      "[Parallel(n_jobs=-1)]: Done  64 out of  64 | elapsed:    0.9s finished\n"
     ]
    },
    {
     "name": "stdout",
     "output_type": "stream",
     "text": [
      "Filtering raw data in 1 contiguous segment\n",
      "Setting up band-pass filter from 8 - 13 Hz\n",
      "\n",
      "FIR filter parameters\n",
      "---------------------\n",
      "Designing a one-pass, zero-phase, non-causal bandpass filter:\n",
      "- Windowed time-domain design (firwin) method\n",
      "- Hamming window with 0.0194 passband ripple and 53 dB stopband attenuation\n",
      "- Lower passband edge: 8.00\n",
      "- Lower transition bandwidth: 2.00 Hz (-6 dB cutoff frequency: 7.00 Hz)\n",
      "- Upper passband edge: 13.00 Hz\n",
      "- Upper transition bandwidth: 3.25 Hz (-6 dB cutoff frequency: 14.62 Hz)\n",
      "- Filter length: 845 samples (1.650 s)\n",
      "\n"
     ]
    },
    {
     "name": "stderr",
     "output_type": "stream",
     "text": [
      "[Parallel(n_jobs=-1)]: Using backend LokyBackend with 16 concurrent workers.\n",
      "[Parallel(n_jobs=-1)]: Done   2 tasks      | elapsed:    0.3s\n",
      "[Parallel(n_jobs=-1)]: Done  62 out of  64 | elapsed:    1.0s remaining:    0.0s\n",
      "[Parallel(n_jobs=-1)]: Done  64 out of  64 | elapsed:    1.0s finished\n"
     ]
    },
    {
     "name": "stdout",
     "output_type": "stream",
     "text": [
      "Filtering raw data in 1 contiguous segment\n",
      "Setting up band-pass filter from 8 - 13 Hz\n",
      "\n",
      "FIR filter parameters\n",
      "---------------------\n",
      "Designing a one-pass, zero-phase, non-causal bandpass filter:\n",
      "- Windowed time-domain design (firwin) method\n",
      "- Hamming window with 0.0194 passband ripple and 53 dB stopband attenuation\n",
      "- Lower passband edge: 8.00\n",
      "- Lower transition bandwidth: 2.00 Hz (-6 dB cutoff frequency: 7.00 Hz)\n",
      "- Upper passband edge: 13.00 Hz\n",
      "- Upper transition bandwidth: 3.25 Hz (-6 dB cutoff frequency: 14.62 Hz)\n",
      "- Filter length: 845 samples (1.650 s)\n",
      "\n"
     ]
    },
    {
     "name": "stderr",
     "output_type": "stream",
     "text": [
      "[Parallel(n_jobs=-1)]: Using backend LokyBackend with 16 concurrent workers.\n",
      "[Parallel(n_jobs=-1)]: Done   2 tasks      | elapsed:    0.3s\n",
      "[Parallel(n_jobs=-1)]: Done  62 out of  64 | elapsed:    1.0s remaining:    0.0s\n",
      "[Parallel(n_jobs=-1)]: Done  64 out of  64 | elapsed:    1.0s finished\n"
     ]
    },
    {
     "name": "stdout",
     "output_type": "stream",
     "text": [
      "Filtering raw data in 1 contiguous segment\n",
      "Setting up band-pass filter from 8 - 13 Hz\n",
      "\n",
      "FIR filter parameters\n",
      "---------------------\n",
      "Designing a one-pass, zero-phase, non-causal bandpass filter:\n",
      "- Windowed time-domain design (firwin) method\n",
      "- Hamming window with 0.0194 passband ripple and 53 dB stopband attenuation\n",
      "- Lower passband edge: 8.00\n",
      "- Lower transition bandwidth: 2.00 Hz (-6 dB cutoff frequency: 7.00 Hz)\n",
      "- Upper passband edge: 13.00 Hz\n",
      "- Upper transition bandwidth: 3.25 Hz (-6 dB cutoff frequency: 14.62 Hz)\n",
      "- Filter length: 845 samples (1.650 s)\n",
      "\n"
     ]
    },
    {
     "name": "stderr",
     "output_type": "stream",
     "text": [
      "[Parallel(n_jobs=-1)]: Using backend LokyBackend with 16 concurrent workers.\n",
      "[Parallel(n_jobs=-1)]: Done   2 tasks      | elapsed:    0.3s\n",
      "[Parallel(n_jobs=-1)]: Done  62 out of  64 | elapsed:    0.9s remaining:    0.0s\n",
      "[Parallel(n_jobs=-1)]: Done  64 out of  64 | elapsed:    0.9s finished\n"
     ]
    },
    {
     "name": "stdout",
     "output_type": "stream",
     "text": [
      "Filtering raw data in 1 contiguous segment\n",
      "Setting up band-pass filter from 8 - 13 Hz\n",
      "\n",
      "FIR filter parameters\n",
      "---------------------\n",
      "Designing a one-pass, zero-phase, non-causal bandpass filter:\n",
      "- Windowed time-domain design (firwin) method\n",
      "- Hamming window with 0.0194 passband ripple and 53 dB stopband attenuation\n",
      "- Lower passband edge: 8.00\n",
      "- Lower transition bandwidth: 2.00 Hz (-6 dB cutoff frequency: 7.00 Hz)\n",
      "- Upper passband edge: 13.00 Hz\n",
      "- Upper transition bandwidth: 3.25 Hz (-6 dB cutoff frequency: 14.62 Hz)\n",
      "- Filter length: 845 samples (1.650 s)\n",
      "\n"
     ]
    },
    {
     "name": "stderr",
     "output_type": "stream",
     "text": [
      "[Parallel(n_jobs=-1)]: Using backend LokyBackend with 16 concurrent workers.\n",
      "[Parallel(n_jobs=-1)]: Done   2 tasks      | elapsed:    0.3s\n",
      "[Parallel(n_jobs=-1)]: Done  62 out of  64 | elapsed:    0.9s remaining:    0.0s\n",
      "[Parallel(n_jobs=-1)]: Done  64 out of  64 | elapsed:    0.9s finished\n"
     ]
    },
    {
     "name": "stdout",
     "output_type": "stream",
     "text": [
      "Filtering raw data in 1 contiguous segment\n",
      "Setting up band-pass filter from 8 - 13 Hz\n",
      "\n",
      "FIR filter parameters\n",
      "---------------------\n",
      "Designing a one-pass, zero-phase, non-causal bandpass filter:\n",
      "- Windowed time-domain design (firwin) method\n",
      "- Hamming window with 0.0194 passband ripple and 53 dB stopband attenuation\n",
      "- Lower passband edge: 8.00\n",
      "- Lower transition bandwidth: 2.00 Hz (-6 dB cutoff frequency: 7.00 Hz)\n",
      "- Upper passband edge: 13.00 Hz\n",
      "- Upper transition bandwidth: 3.25 Hz (-6 dB cutoff frequency: 14.62 Hz)\n",
      "- Filter length: 845 samples (1.650 s)\n",
      "\n"
     ]
    },
    {
     "name": "stderr",
     "output_type": "stream",
     "text": [
      "[Parallel(n_jobs=-1)]: Using backend LokyBackend with 16 concurrent workers.\n",
      "[Parallel(n_jobs=-1)]: Done   2 tasks      | elapsed:    0.3s\n",
      "[Parallel(n_jobs=-1)]: Done  62 out of  64 | elapsed:    0.9s remaining:    0.0s\n",
      "[Parallel(n_jobs=-1)]: Done  64 out of  64 | elapsed:    0.9s finished\n"
     ]
    },
    {
     "name": "stdout",
     "output_type": "stream",
     "text": [
      "Filtering raw data in 1 contiguous segment\n",
      "Setting up band-pass filter from 8 - 13 Hz\n",
      "\n",
      "FIR filter parameters\n",
      "---------------------\n",
      "Designing a one-pass, zero-phase, non-causal bandpass filter:\n",
      "- Windowed time-domain design (firwin) method\n",
      "- Hamming window with 0.0194 passband ripple and 53 dB stopband attenuation\n",
      "- Lower passband edge: 8.00\n",
      "- Lower transition bandwidth: 2.00 Hz (-6 dB cutoff frequency: 7.00 Hz)\n",
      "- Upper passband edge: 13.00 Hz\n",
      "- Upper transition bandwidth: 3.25 Hz (-6 dB cutoff frequency: 14.62 Hz)\n",
      "- Filter length: 845 samples (1.650 s)\n",
      "\n"
     ]
    },
    {
     "name": "stderr",
     "output_type": "stream",
     "text": [
      "[Parallel(n_jobs=-1)]: Using backend LokyBackend with 16 concurrent workers.\n",
      "[Parallel(n_jobs=-1)]: Done   2 tasks      | elapsed:    0.3s\n",
      "[Parallel(n_jobs=-1)]: Done  62 out of  64 | elapsed:    0.9s remaining:    0.0s\n",
      "[Parallel(n_jobs=-1)]: Done  64 out of  64 | elapsed:    0.9s finished\n"
     ]
    },
    {
     "name": "stdout",
     "output_type": "stream",
     "text": [
      "Filtering raw data in 1 contiguous segment\n",
      "Setting up band-pass filter from 8 - 13 Hz\n",
      "\n",
      "FIR filter parameters\n",
      "---------------------\n",
      "Designing a one-pass, zero-phase, non-causal bandpass filter:\n",
      "- Windowed time-domain design (firwin) method\n",
      "- Hamming window with 0.0194 passband ripple and 53 dB stopband attenuation\n",
      "- Lower passband edge: 8.00\n",
      "- Lower transition bandwidth: 2.00 Hz (-6 dB cutoff frequency: 7.00 Hz)\n",
      "- Upper passband edge: 13.00 Hz\n",
      "- Upper transition bandwidth: 3.25 Hz (-6 dB cutoff frequency: 14.62 Hz)\n",
      "- Filter length: 845 samples (1.650 s)\n",
      "\n"
     ]
    },
    {
     "name": "stderr",
     "output_type": "stream",
     "text": [
      "[Parallel(n_jobs=-1)]: Using backend LokyBackend with 16 concurrent workers.\n",
      "[Parallel(n_jobs=-1)]: Done   2 tasks      | elapsed:    0.3s\n",
      "[Parallel(n_jobs=-1)]: Done  62 out of  64 | elapsed:    1.0s remaining:    0.0s\n",
      "[Parallel(n_jobs=-1)]: Done  64 out of  64 | elapsed:    1.0s finished\n"
     ]
    },
    {
     "name": "stdout",
     "output_type": "stream",
     "text": [
      "Filtering raw data in 1 contiguous segment\n",
      "Setting up band-pass filter from 8 - 13 Hz\n",
      "\n",
      "FIR filter parameters\n",
      "---------------------\n",
      "Designing a one-pass, zero-phase, non-causal bandpass filter:\n",
      "- Windowed time-domain design (firwin) method\n",
      "- Hamming window with 0.0194 passband ripple and 53 dB stopband attenuation\n",
      "- Lower passband edge: 8.00\n",
      "- Lower transition bandwidth: 2.00 Hz (-6 dB cutoff frequency: 7.00 Hz)\n",
      "- Upper passband edge: 13.00 Hz\n",
      "- Upper transition bandwidth: 3.25 Hz (-6 dB cutoff frequency: 14.62 Hz)\n",
      "- Filter length: 845 samples (1.650 s)\n",
      "\n"
     ]
    },
    {
     "name": "stderr",
     "output_type": "stream",
     "text": [
      "[Parallel(n_jobs=-1)]: Using backend LokyBackend with 16 concurrent workers.\n",
      "[Parallel(n_jobs=-1)]: Done   2 tasks      | elapsed:    0.3s\n",
      "[Parallel(n_jobs=-1)]: Done  62 out of  64 | elapsed:    1.0s remaining:    0.0s\n",
      "[Parallel(n_jobs=-1)]: Done  64 out of  64 | elapsed:    1.0s finished\n"
     ]
    },
    {
     "name": "stdout",
     "output_type": "stream",
     "text": [
      "Filtering raw data in 1 contiguous segment\n",
      "Setting up band-pass filter from 8 - 13 Hz\n",
      "\n",
      "FIR filter parameters\n",
      "---------------------\n",
      "Designing a one-pass, zero-phase, non-causal bandpass filter:\n",
      "- Windowed time-domain design (firwin) method\n",
      "- Hamming window with 0.0194 passband ripple and 53 dB stopband attenuation\n",
      "- Lower passband edge: 8.00\n",
      "- Lower transition bandwidth: 2.00 Hz (-6 dB cutoff frequency: 7.00 Hz)\n",
      "- Upper passband edge: 13.00 Hz\n",
      "- Upper transition bandwidth: 3.25 Hz (-6 dB cutoff frequency: 14.62 Hz)\n",
      "- Filter length: 845 samples (1.650 s)\n",
      "\n"
     ]
    },
    {
     "name": "stderr",
     "output_type": "stream",
     "text": [
      "[Parallel(n_jobs=-1)]: Using backend LokyBackend with 16 concurrent workers.\n",
      "[Parallel(n_jobs=-1)]: Done   2 tasks      | elapsed:    0.3s\n",
      "[Parallel(n_jobs=-1)]: Done  62 out of  64 | elapsed:    1.0s remaining:    0.0s\n",
      "[Parallel(n_jobs=-1)]: Done  64 out of  64 | elapsed:    1.0s finished\n"
     ]
    },
    {
     "name": "stdout",
     "output_type": "stream",
     "text": [
      "Filtering raw data in 1 contiguous segment\n",
      "Setting up band-pass filter from 8 - 13 Hz\n",
      "\n",
      "FIR filter parameters\n",
      "---------------------\n",
      "Designing a one-pass, zero-phase, non-causal bandpass filter:\n",
      "- Windowed time-domain design (firwin) method\n",
      "- Hamming window with 0.0194 passband ripple and 53 dB stopband attenuation\n",
      "- Lower passband edge: 8.00\n",
      "- Lower transition bandwidth: 2.00 Hz (-6 dB cutoff frequency: 7.00 Hz)\n",
      "- Upper passband edge: 13.00 Hz\n",
      "- Upper transition bandwidth: 3.25 Hz (-6 dB cutoff frequency: 14.62 Hz)\n",
      "- Filter length: 845 samples (1.650 s)\n",
      "\n"
     ]
    },
    {
     "name": "stderr",
     "output_type": "stream",
     "text": [
      "[Parallel(n_jobs=-1)]: Using backend LokyBackend with 16 concurrent workers.\n",
      "[Parallel(n_jobs=-1)]: Done   2 tasks      | elapsed:    0.3s\n",
      "[Parallel(n_jobs=-1)]: Done  62 out of  64 | elapsed:    1.1s remaining:    0.0s\n",
      "[Parallel(n_jobs=-1)]: Done  64 out of  64 | elapsed:    1.1s finished\n"
     ]
    },
    {
     "name": "stdout",
     "output_type": "stream",
     "text": [
      "Filtering raw data in 1 contiguous segment\n",
      "Setting up band-pass filter from 8 - 13 Hz\n",
      "\n",
      "FIR filter parameters\n",
      "---------------------\n",
      "Designing a one-pass, zero-phase, non-causal bandpass filter:\n",
      "- Windowed time-domain design (firwin) method\n",
      "- Hamming window with 0.0194 passband ripple and 53 dB stopband attenuation\n",
      "- Lower passband edge: 8.00\n",
      "- Lower transition bandwidth: 2.00 Hz (-6 dB cutoff frequency: 7.00 Hz)\n",
      "- Upper passband edge: 13.00 Hz\n",
      "- Upper transition bandwidth: 3.25 Hz (-6 dB cutoff frequency: 14.62 Hz)\n",
      "- Filter length: 845 samples (1.650 s)\n",
      "\n"
     ]
    },
    {
     "name": "stderr",
     "output_type": "stream",
     "text": [
      "[Parallel(n_jobs=-1)]: Using backend LokyBackend with 16 concurrent workers.\n",
      "[Parallel(n_jobs=-1)]: Done   2 tasks      | elapsed:    0.3s\n",
      "[Parallel(n_jobs=-1)]: Done  62 out of  64 | elapsed:    1.0s remaining:    0.0s\n",
      "[Parallel(n_jobs=-1)]: Done  64 out of  64 | elapsed:    1.0s finished\n"
     ]
    },
    {
     "name": "stdout",
     "output_type": "stream",
     "text": [
      "Filtering raw data in 1 contiguous segment\n",
      "Setting up band-pass filter from 8 - 13 Hz\n",
      "\n",
      "FIR filter parameters\n",
      "---------------------\n",
      "Designing a one-pass, zero-phase, non-causal bandpass filter:\n",
      "- Windowed time-domain design (firwin) method\n",
      "- Hamming window with 0.0194 passband ripple and 53 dB stopband attenuation\n",
      "- Lower passband edge: 8.00\n",
      "- Lower transition bandwidth: 2.00 Hz (-6 dB cutoff frequency: 7.00 Hz)\n",
      "- Upper passband edge: 13.00 Hz\n",
      "- Upper transition bandwidth: 3.25 Hz (-6 dB cutoff frequency: 14.62 Hz)\n",
      "- Filter length: 845 samples (1.650 s)\n",
      "\n"
     ]
    },
    {
     "name": "stderr",
     "output_type": "stream",
     "text": [
      "[Parallel(n_jobs=-1)]: Using backend LokyBackend with 16 concurrent workers.\n",
      "[Parallel(n_jobs=-1)]: Done   2 tasks      | elapsed:    0.3s\n"
     ]
    },
    {
     "name": "stdout",
     "output_type": "stream",
     "text": [
      "Filtering raw data in 1 contiguous segment\n"
     ]
    },
    {
     "name": "stderr",
     "output_type": "stream",
     "text": [
      "[Parallel(n_jobs=-1)]: Done  62 out of  64 | elapsed:    1.4s remaining:    0.0s\n",
      "[Parallel(n_jobs=-1)]: Done  64 out of  64 | elapsed:    1.4s finished\n"
     ]
    },
    {
     "name": "stdout",
     "output_type": "stream",
     "text": [
      "Setting up band-pass filter from 8 - 13 Hz\n",
      "\n",
      "FIR filter parameters\n",
      "---------------------\n",
      "Designing a one-pass, zero-phase, non-causal bandpass filter:\n",
      "- Windowed time-domain design (firwin) method\n",
      "- Hamming window with 0.0194 passband ripple and 53 dB stopband attenuation\n",
      "- Lower passband edge: 8.00\n",
      "- Lower transition bandwidth: 2.00 Hz (-6 dB cutoff frequency: 7.00 Hz)\n",
      "- Upper passband edge: 13.00 Hz\n",
      "- Upper transition bandwidth: 3.25 Hz (-6 dB cutoff frequency: 14.62 Hz)\n",
      "- Filter length: 845 samples (1.650 s)\n",
      "\n"
     ]
    },
    {
     "name": "stderr",
     "output_type": "stream",
     "text": [
      "[Parallel(n_jobs=-1)]: Using backend LokyBackend with 16 concurrent workers.\n",
      "[Parallel(n_jobs=-1)]: Done   2 tasks      | elapsed:    0.3s\n",
      "[Parallel(n_jobs=-1)]: Done  62 out of  64 | elapsed:    1.0s remaining:    0.0s\n",
      "[Parallel(n_jobs=-1)]: Done  64 out of  64 | elapsed:    1.0s finished\n"
     ]
    },
    {
     "name": "stdout",
     "output_type": "stream",
     "text": [
      "Filtering raw data in 1 contiguous segment\n",
      "Setting up band-pass filter from 8 - 13 Hz\n",
      "\n",
      "FIR filter parameters\n",
      "---------------------\n",
      "Designing a one-pass, zero-phase, non-causal bandpass filter:\n",
      "- Windowed time-domain design (firwin) method\n",
      "- Hamming window with 0.0194 passband ripple and 53 dB stopband attenuation\n",
      "- Lower passband edge: 8.00\n",
      "- Lower transition bandwidth: 2.00 Hz (-6 dB cutoff frequency: 7.00 Hz)\n",
      "- Upper passband edge: 13.00 Hz\n",
      "- Upper transition bandwidth: 3.25 Hz (-6 dB cutoff frequency: 14.62 Hz)\n",
      "- Filter length: 845 samples (1.650 s)\n",
      "\n"
     ]
    },
    {
     "name": "stderr",
     "output_type": "stream",
     "text": [
      "[Parallel(n_jobs=-1)]: Using backend LokyBackend with 16 concurrent workers.\n",
      "[Parallel(n_jobs=-1)]: Done   2 tasks      | elapsed:    0.3s\n",
      "[Parallel(n_jobs=-1)]: Done  62 out of  64 | elapsed:    1.0s remaining:    0.0s\n",
      "[Parallel(n_jobs=-1)]: Done  64 out of  64 | elapsed:    1.0s finished\n"
     ]
    },
    {
     "name": "stdout",
     "output_type": "stream",
     "text": [
      "Filtering raw data in 1 contiguous segment\n",
      "Setting up band-pass filter from 8 - 13 Hz\n",
      "\n",
      "FIR filter parameters\n",
      "---------------------\n",
      "Designing a one-pass, zero-phase, non-causal bandpass filter:\n",
      "- Windowed time-domain design (firwin) method\n",
      "- Hamming window with 0.0194 passband ripple and 53 dB stopband attenuation\n",
      "- Lower passband edge: 8.00\n",
      "- Lower transition bandwidth: 2.00 Hz (-6 dB cutoff frequency: 7.00 Hz)\n",
      "- Upper passband edge: 13.00 Hz\n",
      "- Upper transition bandwidth: 3.25 Hz (-6 dB cutoff frequency: 14.62 Hz)\n",
      "- Filter length: 845 samples (1.650 s)\n",
      "\n"
     ]
    },
    {
     "name": "stderr",
     "output_type": "stream",
     "text": [
      "[Parallel(n_jobs=-1)]: Using backend LokyBackend with 16 concurrent workers.\n",
      "[Parallel(n_jobs=-1)]: Done   2 tasks      | elapsed:    0.3s\n",
      "[Parallel(n_jobs=-1)]: Done  62 out of  64 | elapsed:    1.0s remaining:    0.0s\n",
      "[Parallel(n_jobs=-1)]: Done  64 out of  64 | elapsed:    1.0s finished\n"
     ]
    },
    {
     "name": "stdout",
     "output_type": "stream",
     "text": [
      "Filtering raw data in 1 contiguous segment\n",
      "Setting up band-pass filter from 8 - 13 Hz\n",
      "\n",
      "FIR filter parameters\n",
      "---------------------\n",
      "Designing a one-pass, zero-phase, non-causal bandpass filter:\n",
      "- Windowed time-domain design (firwin) method\n",
      "- Hamming window with 0.0194 passband ripple and 53 dB stopband attenuation\n",
      "- Lower passband edge: 8.00\n",
      "- Lower transition bandwidth: 2.00 Hz (-6 dB cutoff frequency: 7.00 Hz)\n",
      "- Upper passband edge: 13.00 Hz\n",
      "- Upper transition bandwidth: 3.25 Hz (-6 dB cutoff frequency: 14.62 Hz)\n",
      "- Filter length: 845 samples (1.650 s)\n",
      "\n"
     ]
    },
    {
     "name": "stderr",
     "output_type": "stream",
     "text": [
      "[Parallel(n_jobs=-1)]: Using backend LokyBackend with 16 concurrent workers.\n",
      "[Parallel(n_jobs=-1)]: Done   2 tasks      | elapsed:    0.3s\n",
      "[Parallel(n_jobs=-1)]: Done  62 out of  64 | elapsed:    1.0s remaining:    0.0s\n",
      "[Parallel(n_jobs=-1)]: Done  64 out of  64 | elapsed:    1.1s finished\n"
     ]
    },
    {
     "name": "stdout",
     "output_type": "stream",
     "text": [
      "Filtering raw data in 1 contiguous segment\n",
      "Setting up band-pass filter from 8 - 13 Hz\n",
      "\n",
      "FIR filter parameters\n",
      "---------------------\n",
      "Designing a one-pass, zero-phase, non-causal bandpass filter:\n",
      "- Windowed time-domain design (firwin) method\n",
      "- Hamming window with 0.0194 passband ripple and 53 dB stopband attenuation\n",
      "- Lower passband edge: 8.00\n",
      "- Lower transition bandwidth: 2.00 Hz (-6 dB cutoff frequency: 7.00 Hz)\n",
      "- Upper passband edge: 13.00 Hz\n",
      "- Upper transition bandwidth: 3.25 Hz (-6 dB cutoff frequency: 14.62 Hz)\n",
      "- Filter length: 845 samples (1.650 s)\n",
      "\n"
     ]
    },
    {
     "name": "stderr",
     "output_type": "stream",
     "text": [
      "[Parallel(n_jobs=-1)]: Using backend LokyBackend with 16 concurrent workers.\n",
      "[Parallel(n_jobs=-1)]: Done   2 tasks      | elapsed:    0.3s\n",
      "[Parallel(n_jobs=-1)]: Done  62 out of  64 | elapsed:    1.0s remaining:    0.0s\n",
      "[Parallel(n_jobs=-1)]: Done  64 out of  64 | elapsed:    1.1s finished\n"
     ]
    },
    {
     "name": "stdout",
     "output_type": "stream",
     "text": [
      "Filtering raw data in 1 contiguous segment\n",
      "Setting up band-pass filter from 8 - 13 Hz\n",
      "\n",
      "FIR filter parameters\n",
      "---------------------\n",
      "Designing a one-pass, zero-phase, non-causal bandpass filter:\n",
      "- Windowed time-domain design (firwin) method\n",
      "- Hamming window with 0.0194 passband ripple and 53 dB stopband attenuation\n",
      "- Lower passband edge: 8.00\n",
      "- Lower transition bandwidth: 2.00 Hz (-6 dB cutoff frequency: 7.00 Hz)\n",
      "- Upper passband edge: 13.00 Hz\n",
      "- Upper transition bandwidth: 3.25 Hz (-6 dB cutoff frequency: 14.62 Hz)\n",
      "- Filter length: 845 samples (1.650 s)\n",
      "\n"
     ]
    },
    {
     "name": "stderr",
     "output_type": "stream",
     "text": [
      "[Parallel(n_jobs=-1)]: Using backend LokyBackend with 16 concurrent workers.\n",
      "[Parallel(n_jobs=-1)]: Done   2 tasks      | elapsed:    0.3s\n",
      "[Parallel(n_jobs=-1)]: Done  62 out of  64 | elapsed:    0.9s remaining:    0.0s\n",
      "[Parallel(n_jobs=-1)]: Done  64 out of  64 | elapsed:    0.9s finished\n"
     ]
    },
    {
     "name": "stdout",
     "output_type": "stream",
     "text": [
      "Filtering raw data in 1 contiguous segment\n",
      "Setting up band-pass filter from 8 - 13 Hz\n",
      "\n",
      "FIR filter parameters\n",
      "---------------------\n",
      "Designing a one-pass, zero-phase, non-causal bandpass filter:\n",
      "- Windowed time-domain design (firwin) method\n",
      "- Hamming window with 0.0194 passband ripple and 53 dB stopband attenuation\n",
      "- Lower passband edge: 8.00\n",
      "- Lower transition bandwidth: 2.00 Hz (-6 dB cutoff frequency: 7.00 Hz)\n",
      "- Upper passband edge: 13.00 Hz\n",
      "- Upper transition bandwidth: 3.25 Hz (-6 dB cutoff frequency: 14.62 Hz)\n",
      "- Filter length: 845 samples (1.650 s)\n",
      "\n"
     ]
    },
    {
     "name": "stderr",
     "output_type": "stream",
     "text": [
      "[Parallel(n_jobs=-1)]: Using backend LokyBackend with 16 concurrent workers.\n",
      "[Parallel(n_jobs=-1)]: Done   2 tasks      | elapsed:    0.3s\n",
      "[Parallel(n_jobs=-1)]: Done  62 out of  64 | elapsed:    1.0s remaining:    0.0s\n",
      "[Parallel(n_jobs=-1)]: Done  64 out of  64 | elapsed:    1.0s finished\n"
     ]
    },
    {
     "name": "stdout",
     "output_type": "stream",
     "text": [
      "Filtering raw data in 1 contiguous segment\n",
      "Setting up band-pass filter from 8 - 13 Hz\n",
      "\n",
      "FIR filter parameters\n",
      "---------------------\n",
      "Designing a one-pass, zero-phase, non-causal bandpass filter:\n",
      "- Windowed time-domain design (firwin) method\n",
      "- Hamming window with 0.0194 passband ripple and 53 dB stopband attenuation\n",
      "- Lower passband edge: 8.00\n",
      "- Lower transition bandwidth: 2.00 Hz (-6 dB cutoff frequency: 7.00 Hz)\n",
      "- Upper passband edge: 13.00 Hz\n",
      "- Upper transition bandwidth: 3.25 Hz (-6 dB cutoff frequency: 14.62 Hz)\n",
      "- Filter length: 845 samples (1.650 s)\n",
      "\n"
     ]
    },
    {
     "name": "stderr",
     "output_type": "stream",
     "text": [
      "[Parallel(n_jobs=-1)]: Using backend LokyBackend with 16 concurrent workers.\n",
      "[Parallel(n_jobs=-1)]: Done   2 tasks      | elapsed:    0.3s\n",
      "[Parallel(n_jobs=-1)]: Done  62 out of  64 | elapsed:    1.6s remaining:    0.0s\n",
      "[Parallel(n_jobs=-1)]: Done  64 out of  64 | elapsed:    1.6s finished\n"
     ]
    },
    {
     "name": "stdout",
     "output_type": "stream",
     "text": [
      "Filtering raw data in 1 contiguous segment\n",
      "Setting up band-pass filter from 8 - 13 Hz\n",
      "\n",
      "FIR filter parameters\n",
      "---------------------\n",
      "Designing a one-pass, zero-phase, non-causal bandpass filter:\n",
      "- Windowed time-domain design (firwin) method\n",
      "- Hamming window with 0.0194 passband ripple and 53 dB stopband attenuation\n",
      "- Lower passband edge: 8.00\n",
      "- Lower transition bandwidth: 2.00 Hz (-6 dB cutoff frequency: 7.00 Hz)\n",
      "- Upper passband edge: 13.00 Hz\n",
      "- Upper transition bandwidth: 3.25 Hz (-6 dB cutoff frequency: 14.62 Hz)\n",
      "- Filter length: 845 samples (1.650 s)\n",
      "\n"
     ]
    },
    {
     "name": "stderr",
     "output_type": "stream",
     "text": [
      "[Parallel(n_jobs=-1)]: Using backend LokyBackend with 16 concurrent workers.\n",
      "[Parallel(n_jobs=-1)]: Done   2 tasks      | elapsed:    0.3s\n",
      "[Parallel(n_jobs=-1)]: Done  62 out of  64 | elapsed:    1.1s remaining:    0.0s\n",
      "[Parallel(n_jobs=-1)]: Done  64 out of  64 | elapsed:    1.1s finished\n"
     ]
    },
    {
     "name": "stdout",
     "output_type": "stream",
     "text": [
      "Filtering raw data in 1 contiguous segment\n",
      "Setting up band-pass filter from 8 - 13 Hz\n",
      "\n",
      "FIR filter parameters\n",
      "---------------------\n",
      "Designing a one-pass, zero-phase, non-causal bandpass filter:\n",
      "- Windowed time-domain design (firwin) method\n",
      "- Hamming window with 0.0194 passband ripple and 53 dB stopband attenuation\n",
      "- Lower passband edge: 8.00\n",
      "- Lower transition bandwidth: 2.00 Hz (-6 dB cutoff frequency: 7.00 Hz)\n",
      "- Upper passband edge: 13.00 Hz\n",
      "- Upper transition bandwidth: 3.25 Hz (-6 dB cutoff frequency: 14.62 Hz)\n",
      "- Filter length: 845 samples (1.650 s)\n",
      "\n"
     ]
    },
    {
     "name": "stderr",
     "output_type": "stream",
     "text": [
      "[Parallel(n_jobs=-1)]: Using backend LokyBackend with 16 concurrent workers.\n",
      "[Parallel(n_jobs=-1)]: Done   2 tasks      | elapsed:    0.3s\n",
      "[Parallel(n_jobs=-1)]: Done  62 out of  64 | elapsed:    1.0s remaining:    0.0s\n",
      "[Parallel(n_jobs=-1)]: Done  64 out of  64 | elapsed:    1.0s finished\n"
     ]
    },
    {
     "name": "stdout",
     "output_type": "stream",
     "text": [
      "Filtering raw data in 1 contiguous segment\n",
      "Setting up band-pass filter from 8 - 13 Hz\n",
      "\n",
      "FIR filter parameters\n",
      "---------------------\n",
      "Designing a one-pass, zero-phase, non-causal bandpass filter:\n",
      "- Windowed time-domain design (firwin) method\n",
      "- Hamming window with 0.0194 passband ripple and 53 dB stopband attenuation\n",
      "- Lower passband edge: 8.00\n",
      "- Lower transition bandwidth: 2.00 Hz (-6 dB cutoff frequency: 7.00 Hz)\n",
      "- Upper passband edge: 13.00 Hz\n",
      "- Upper transition bandwidth: 3.25 Hz (-6 dB cutoff frequency: 14.62 Hz)\n",
      "- Filter length: 845 samples (1.650 s)\n",
      "\n"
     ]
    },
    {
     "name": "stderr",
     "output_type": "stream",
     "text": [
      "[Parallel(n_jobs=-1)]: Using backend LokyBackend with 16 concurrent workers.\n",
      "[Parallel(n_jobs=-1)]: Done   2 tasks      | elapsed:    0.3s\n",
      "[Parallel(n_jobs=-1)]: Done  62 out of  64 | elapsed:    1.0s remaining:    0.0s\n",
      "[Parallel(n_jobs=-1)]: Done  64 out of  64 | elapsed:    1.0s finished\n"
     ]
    },
    {
     "name": "stdout",
     "output_type": "stream",
     "text": [
      "Filtering raw data in 1 contiguous segment\n",
      "Setting up band-pass filter from 8 - 13 Hz\n",
      "\n",
      "FIR filter parameters\n",
      "---------------------\n",
      "Designing a one-pass, zero-phase, non-causal bandpass filter:\n",
      "- Windowed time-domain design (firwin) method\n",
      "- Hamming window with 0.0194 passband ripple and 53 dB stopband attenuation\n",
      "- Lower passband edge: 8.00\n",
      "- Lower transition bandwidth: 2.00 Hz (-6 dB cutoff frequency: 7.00 Hz)\n",
      "- Upper passband edge: 13.00 Hz\n",
      "- Upper transition bandwidth: 3.25 Hz (-6 dB cutoff frequency: 14.62 Hz)\n",
      "- Filter length: 845 samples (1.650 s)\n",
      "\n"
     ]
    },
    {
     "name": "stderr",
     "output_type": "stream",
     "text": [
      "[Parallel(n_jobs=-1)]: Using backend LokyBackend with 16 concurrent workers.\n",
      "[Parallel(n_jobs=-1)]: Done   2 tasks      | elapsed:    0.3s\n",
      "[Parallel(n_jobs=-1)]: Done  62 out of  64 | elapsed:    1.4s remaining:    0.0s\n",
      "[Parallel(n_jobs=-1)]: Done  64 out of  64 | elapsed:    1.5s finished\n"
     ]
    },
    {
     "name": "stdout",
     "output_type": "stream",
     "text": [
      "Filtering raw data in 1 contiguous segment\n",
      "Setting up band-pass filter from 8 - 13 Hz\n",
      "\n",
      "FIR filter parameters\n",
      "---------------------\n",
      "Designing a one-pass, zero-phase, non-causal bandpass filter:\n",
      "- Windowed time-domain design (firwin) method\n",
      "- Hamming window with 0.0194 passband ripple and 53 dB stopband attenuation\n",
      "- Lower passband edge: 8.00\n",
      "- Lower transition bandwidth: 2.00 Hz (-6 dB cutoff frequency: 7.00 Hz)\n",
      "- Upper passband edge: 13.00 Hz\n",
      "- Upper transition bandwidth: 3.25 Hz (-6 dB cutoff frequency: 14.62 Hz)\n",
      "- Filter length: 845 samples (1.650 s)\n",
      "\n"
     ]
    },
    {
     "name": "stderr",
     "output_type": "stream",
     "text": [
      "[Parallel(n_jobs=-1)]: Using backend LokyBackend with 16 concurrent workers.\n",
      "[Parallel(n_jobs=-1)]: Done   2 tasks      | elapsed:    0.3s\n",
      "[Parallel(n_jobs=-1)]: Done  62 out of  64 | elapsed:    1.0s remaining:    0.0s\n",
      "[Parallel(n_jobs=-1)]: Done  64 out of  64 | elapsed:    1.0s finished\n"
     ]
    },
    {
     "name": "stdout",
     "output_type": "stream",
     "text": [
      "Filtering raw data in 1 contiguous segment\n",
      "Setting up band-pass filter from 8 - 13 Hz\n",
      "\n",
      "FIR filter parameters\n",
      "---------------------\n",
      "Designing a one-pass, zero-phase, non-causal bandpass filter:\n",
      "- Windowed time-domain design (firwin) method\n",
      "- Hamming window with 0.0194 passband ripple and 53 dB stopband attenuation\n",
      "- Lower passband edge: 8.00\n",
      "- Lower transition bandwidth: 2.00 Hz (-6 dB cutoff frequency: 7.00 Hz)\n",
      "- Upper passband edge: 13.00 Hz\n",
      "- Upper transition bandwidth: 3.25 Hz (-6 dB cutoff frequency: 14.62 Hz)\n",
      "- Filter length: 845 samples (1.650 s)\n",
      "\n"
     ]
    },
    {
     "name": "stderr",
     "output_type": "stream",
     "text": [
      "[Parallel(n_jobs=-1)]: Using backend LokyBackend with 16 concurrent workers.\n",
      "[Parallel(n_jobs=-1)]: Done   2 tasks      | elapsed:    0.3s\n",
      "[Parallel(n_jobs=-1)]: Done  62 out of  64 | elapsed:    0.9s remaining:    0.0s\n",
      "[Parallel(n_jobs=-1)]: Done  64 out of  64 | elapsed:    0.9s finished\n"
     ]
    },
    {
     "name": "stdout",
     "output_type": "stream",
     "text": [
      "Filtering raw data in 1 contiguous segment\n",
      "Setting up band-pass filter from 8 - 13 Hz\n",
      "\n",
      "FIR filter parameters\n",
      "---------------------\n",
      "Designing a one-pass, zero-phase, non-causal bandpass filter:\n",
      "- Windowed time-domain design (firwin) method\n",
      "- Hamming window with 0.0194 passband ripple and 53 dB stopband attenuation\n",
      "- Lower passband edge: 8.00\n",
      "- Lower transition bandwidth: 2.00 Hz (-6 dB cutoff frequency: 7.00 Hz)\n",
      "- Upper passband edge: 13.00 Hz\n",
      "- Upper transition bandwidth: 3.25 Hz (-6 dB cutoff frequency: 14.62 Hz)\n",
      "- Filter length: 845 samples (1.650 s)\n",
      "\n"
     ]
    },
    {
     "name": "stderr",
     "output_type": "stream",
     "text": [
      "[Parallel(n_jobs=-1)]: Using backend LokyBackend with 16 concurrent workers.\n",
      "[Parallel(n_jobs=-1)]: Done   2 tasks      | elapsed:    0.3s\n",
      "[Parallel(n_jobs=-1)]: Done  62 out of  64 | elapsed:    0.9s remaining:    0.0s\n",
      "[Parallel(n_jobs=-1)]: Done  64 out of  64 | elapsed:    0.9s finished\n"
     ]
    },
    {
     "name": "stdout",
     "output_type": "stream",
     "text": [
      "Filtering raw data in 1 contiguous segment\n",
      "Setting up band-pass filter from 8 - 13 Hz\n",
      "\n",
      "FIR filter parameters\n",
      "---------------------\n",
      "Designing a one-pass, zero-phase, non-causal bandpass filter:\n",
      "- Windowed time-domain design (firwin) method\n",
      "- Hamming window with 0.0194 passband ripple and 53 dB stopband attenuation\n",
      "- Lower passband edge: 8.00\n",
      "- Lower transition bandwidth: 2.00 Hz (-6 dB cutoff frequency: 7.00 Hz)\n",
      "- Upper passband edge: 13.00 Hz\n",
      "- Upper transition bandwidth: 3.25 Hz (-6 dB cutoff frequency: 14.62 Hz)\n",
      "- Filter length: 845 samples (1.650 s)\n",
      "\n"
     ]
    },
    {
     "name": "stderr",
     "output_type": "stream",
     "text": [
      "[Parallel(n_jobs=-1)]: Using backend LokyBackend with 16 concurrent workers.\n",
      "[Parallel(n_jobs=-1)]: Done   2 tasks      | elapsed:    0.3s\n",
      "[Parallel(n_jobs=-1)]: Done  62 out of  64 | elapsed:    0.9s remaining:    0.0s\n",
      "[Parallel(n_jobs=-1)]: Done  64 out of  64 | elapsed:    0.9s finished\n"
     ]
    },
    {
     "name": "stdout",
     "output_type": "stream",
     "text": [
      "Filtering raw data in 1 contiguous segment\n",
      "Setting up band-pass filter from 8 - 13 Hz\n",
      "\n",
      "FIR filter parameters\n",
      "---------------------\n",
      "Designing a one-pass, zero-phase, non-causal bandpass filter:\n",
      "- Windowed time-domain design (firwin) method\n",
      "- Hamming window with 0.0194 passband ripple and 53 dB stopband attenuation\n",
      "- Lower passband edge: 8.00\n",
      "- Lower transition bandwidth: 2.00 Hz (-6 dB cutoff frequency: 7.00 Hz)\n",
      "- Upper passband edge: 13.00 Hz\n",
      "- Upper transition bandwidth: 3.25 Hz (-6 dB cutoff frequency: 14.62 Hz)\n",
      "- Filter length: 845 samples (1.650 s)\n",
      "\n"
     ]
    },
    {
     "name": "stderr",
     "output_type": "stream",
     "text": [
      "[Parallel(n_jobs=-1)]: Using backend LokyBackend with 16 concurrent workers.\n",
      "[Parallel(n_jobs=-1)]: Done   2 tasks      | elapsed:    0.3s\n",
      "[Parallel(n_jobs=-1)]: Done  62 out of  64 | elapsed:    1.0s remaining:    0.0s\n",
      "[Parallel(n_jobs=-1)]: Done  64 out of  64 | elapsed:    1.0s finished\n"
     ]
    },
    {
     "name": "stdout",
     "output_type": "stream",
     "text": [
      "Filtering raw data in 1 contiguous segment\n",
      "Setting up band-pass filter from 8 - 13 Hz\n",
      "\n",
      "FIR filter parameters\n",
      "---------------------\n",
      "Designing a one-pass, zero-phase, non-causal bandpass filter:\n",
      "- Windowed time-domain design (firwin) method\n",
      "- Hamming window with 0.0194 passband ripple and 53 dB stopband attenuation\n",
      "- Lower passband edge: 8.00\n",
      "- Lower transition bandwidth: 2.00 Hz (-6 dB cutoff frequency: 7.00 Hz)\n",
      "- Upper passband edge: 13.00 Hz\n",
      "- Upper transition bandwidth: 3.25 Hz (-6 dB cutoff frequency: 14.62 Hz)\n",
      "- Filter length: 845 samples (1.650 s)\n",
      "\n"
     ]
    },
    {
     "name": "stderr",
     "output_type": "stream",
     "text": [
      "[Parallel(n_jobs=-1)]: Using backend LokyBackend with 16 concurrent workers.\n",
      "[Parallel(n_jobs=-1)]: Done   2 tasks      | elapsed:    0.3s\n",
      "[Parallel(n_jobs=-1)]: Done  62 out of  64 | elapsed:    1.0s remaining:    0.0s\n",
      "[Parallel(n_jobs=-1)]: Done  64 out of  64 | elapsed:    1.0s finished\n"
     ]
    },
    {
     "name": "stdout",
     "output_type": "stream",
     "text": [
      "Filtering raw data in 1 contiguous segment\n",
      "Setting up band-pass filter from 8 - 13 Hz\n",
      "\n",
      "FIR filter parameters\n",
      "---------------------\n",
      "Designing a one-pass, zero-phase, non-causal bandpass filter:\n",
      "- Windowed time-domain design (firwin) method\n",
      "- Hamming window with 0.0194 passband ripple and 53 dB stopband attenuation\n",
      "- Lower passband edge: 8.00\n",
      "- Lower transition bandwidth: 2.00 Hz (-6 dB cutoff frequency: 7.00 Hz)\n",
      "- Upper passband edge: 13.00 Hz\n",
      "- Upper transition bandwidth: 3.25 Hz (-6 dB cutoff frequency: 14.62 Hz)\n",
      "- Filter length: 845 samples (1.650 s)\n",
      "\n"
     ]
    },
    {
     "name": "stderr",
     "output_type": "stream",
     "text": [
      "[Parallel(n_jobs=-1)]: Using backend LokyBackend with 16 concurrent workers.\n",
      "[Parallel(n_jobs=-1)]: Done   2 tasks      | elapsed:    0.3s\n",
      "[Parallel(n_jobs=-1)]: Done  62 out of  64 | elapsed:    1.0s remaining:    0.0s\n",
      "[Parallel(n_jobs=-1)]: Done  64 out of  64 | elapsed:    1.0s finished\n"
     ]
    },
    {
     "name": "stdout",
     "output_type": "stream",
     "text": [
      "Filtering raw data in 1 contiguous segment\n",
      "Setting up band-pass filter from 8 - 13 Hz\n",
      "\n",
      "FIR filter parameters\n",
      "---------------------\n",
      "Designing a one-pass, zero-phase, non-causal bandpass filter:\n",
      "- Windowed time-domain design (firwin) method\n",
      "- Hamming window with 0.0194 passband ripple and 53 dB stopband attenuation\n",
      "- Lower passband edge: 8.00\n",
      "- Lower transition bandwidth: 2.00 Hz (-6 dB cutoff frequency: 7.00 Hz)\n",
      "- Upper passband edge: 13.00 Hz\n",
      "- Upper transition bandwidth: 3.25 Hz (-6 dB cutoff frequency: 14.62 Hz)\n",
      "- Filter length: 845 samples (1.650 s)\n",
      "\n"
     ]
    },
    {
     "name": "stderr",
     "output_type": "stream",
     "text": [
      "[Parallel(n_jobs=-1)]: Using backend LokyBackend with 16 concurrent workers.\n",
      "[Parallel(n_jobs=-1)]: Done   2 tasks      | elapsed:    0.3s\n",
      "[Parallel(n_jobs=-1)]: Done  62 out of  64 | elapsed:    1.0s remaining:    0.0s\n",
      "[Parallel(n_jobs=-1)]: Done  64 out of  64 | elapsed:    1.0s finished\n"
     ]
    },
    {
     "name": "stdout",
     "output_type": "stream",
     "text": [
      "Filtering raw data in 1 contiguous segment\n",
      "Setting up band-pass filter from 8 - 13 Hz\n",
      "\n",
      "FIR filter parameters\n",
      "---------------------\n",
      "Designing a one-pass, zero-phase, non-causal bandpass filter:\n",
      "- Windowed time-domain design (firwin) method\n",
      "- Hamming window with 0.0194 passband ripple and 53 dB stopband attenuation\n",
      "- Lower passband edge: 8.00\n",
      "- Lower transition bandwidth: 2.00 Hz (-6 dB cutoff frequency: 7.00 Hz)\n",
      "- Upper passband edge: 13.00 Hz\n",
      "- Upper transition bandwidth: 3.25 Hz (-6 dB cutoff frequency: 14.62 Hz)\n",
      "- Filter length: 845 samples (1.650 s)\n",
      "\n"
     ]
    },
    {
     "name": "stderr",
     "output_type": "stream",
     "text": [
      "[Parallel(n_jobs=-1)]: Using backend LokyBackend with 16 concurrent workers.\n",
      "[Parallel(n_jobs=-1)]: Done   2 tasks      | elapsed:    0.3s\n",
      "[Parallel(n_jobs=-1)]: Done  62 out of  64 | elapsed:    1.0s remaining:    0.0s\n",
      "[Parallel(n_jobs=-1)]: Done  64 out of  64 | elapsed:    1.0s finished\n"
     ]
    },
    {
     "name": "stdout",
     "output_type": "stream",
     "text": [
      "Filtering raw data in 1 contiguous segment\n",
      "Setting up band-pass filter from 8 - 13 Hz\n",
      "\n",
      "FIR filter parameters\n",
      "---------------------\n",
      "Designing a one-pass, zero-phase, non-causal bandpass filter:\n",
      "- Windowed time-domain design (firwin) method\n",
      "- Hamming window with 0.0194 passband ripple and 53 dB stopband attenuation\n",
      "- Lower passband edge: 8.00\n",
      "- Lower transition bandwidth: 2.00 Hz (-6 dB cutoff frequency: 7.00 Hz)\n",
      "- Upper passband edge: 13.00 Hz\n",
      "- Upper transition bandwidth: 3.25 Hz (-6 dB cutoff frequency: 14.62 Hz)\n",
      "- Filter length: 845 samples (1.650 s)\n",
      "\n"
     ]
    },
    {
     "name": "stderr",
     "output_type": "stream",
     "text": [
      "[Parallel(n_jobs=-1)]: Using backend LokyBackend with 16 concurrent workers.\n",
      "[Parallel(n_jobs=-1)]: Done   2 tasks      | elapsed:    0.3s\n",
      "[Parallel(n_jobs=-1)]: Done  62 out of  64 | elapsed:    1.0s remaining:    0.0s\n",
      "[Parallel(n_jobs=-1)]: Done  64 out of  64 | elapsed:    1.0s finished\n"
     ]
    },
    {
     "name": "stdout",
     "output_type": "stream",
     "text": [
      "Filtering raw data in 1 contiguous segment\n",
      "Setting up band-pass filter from 8 - 13 Hz\n",
      "\n",
      "FIR filter parameters\n",
      "---------------------\n",
      "Designing a one-pass, zero-phase, non-causal bandpass filter:\n",
      "- Windowed time-domain design (firwin) method\n",
      "- Hamming window with 0.0194 passband ripple and 53 dB stopband attenuation\n",
      "- Lower passband edge: 8.00\n",
      "- Lower transition bandwidth: 2.00 Hz (-6 dB cutoff frequency: 7.00 Hz)\n",
      "- Upper passband edge: 13.00 Hz\n",
      "- Upper transition bandwidth: 3.25 Hz (-6 dB cutoff frequency: 14.62 Hz)\n",
      "- Filter length: 845 samples (1.650 s)\n",
      "\n"
     ]
    },
    {
     "name": "stderr",
     "output_type": "stream",
     "text": [
      "[Parallel(n_jobs=-1)]: Using backend LokyBackend with 16 concurrent workers.\n",
      "[Parallel(n_jobs=-1)]: Done   2 tasks      | elapsed:    0.3s\n",
      "[Parallel(n_jobs=-1)]: Done  62 out of  64 | elapsed:    1.0s remaining:    0.0s\n",
      "[Parallel(n_jobs=-1)]: Done  64 out of  64 | elapsed:    1.0s finished\n"
     ]
    },
    {
     "name": "stdout",
     "output_type": "stream",
     "text": [
      "Filtering raw data in 1 contiguous segment\n",
      "Setting up band-pass filter from 8 - 13 Hz\n",
      "\n",
      "FIR filter parameters\n",
      "---------------------\n",
      "Designing a one-pass, zero-phase, non-causal bandpass filter:\n",
      "- Windowed time-domain design (firwin) method\n",
      "- Hamming window with 0.0194 passband ripple and 53 dB stopband attenuation\n",
      "- Lower passband edge: 8.00\n",
      "- Lower transition bandwidth: 2.00 Hz (-6 dB cutoff frequency: 7.00 Hz)\n",
      "- Upper passband edge: 13.00 Hz\n",
      "- Upper transition bandwidth: 3.25 Hz (-6 dB cutoff frequency: 14.62 Hz)\n",
      "- Filter length: 845 samples (1.650 s)\n",
      "\n"
     ]
    },
    {
     "name": "stderr",
     "output_type": "stream",
     "text": [
      "[Parallel(n_jobs=-1)]: Using backend LokyBackend with 16 concurrent workers.\n",
      "[Parallel(n_jobs=-1)]: Done   2 tasks      | elapsed:    0.3s\n",
      "[Parallel(n_jobs=-1)]: Done  62 out of  64 | elapsed:    1.0s remaining:    0.0s\n",
      "[Parallel(n_jobs=-1)]: Done  64 out of  64 | elapsed:    1.0s finished\n"
     ]
    },
    {
     "name": "stdout",
     "output_type": "stream",
     "text": [
      "Filtering raw data in 1 contiguous segment\n",
      "Setting up band-pass filter from 8 - 13 Hz\n",
      "\n",
      "FIR filter parameters\n",
      "---------------------\n",
      "Designing a one-pass, zero-phase, non-causal bandpass filter:\n",
      "- Windowed time-domain design (firwin) method\n",
      "- Hamming window with 0.0194 passband ripple and 53 dB stopband attenuation\n",
      "- Lower passband edge: 8.00\n",
      "- Lower transition bandwidth: 2.00 Hz (-6 dB cutoff frequency: 7.00 Hz)\n",
      "- Upper passband edge: 13.00 Hz\n",
      "- Upper transition bandwidth: 3.25 Hz (-6 dB cutoff frequency: 14.62 Hz)\n",
      "- Filter length: 845 samples (1.650 s)\n",
      "\n"
     ]
    },
    {
     "name": "stderr",
     "output_type": "stream",
     "text": [
      "[Parallel(n_jobs=-1)]: Using backend LokyBackend with 16 concurrent workers.\n",
      "[Parallel(n_jobs=-1)]: Done   2 tasks      | elapsed:    0.3s\n",
      "[Parallel(n_jobs=-1)]: Done  62 out of  64 | elapsed:    1.0s remaining:    0.0s\n",
      "[Parallel(n_jobs=-1)]: Done  64 out of  64 | elapsed:    1.0s finished\n"
     ]
    },
    {
     "name": "stdout",
     "output_type": "stream",
     "text": [
      "Filtering raw data in 1 contiguous segment\n",
      "Setting up band-pass filter from 8 - 13 Hz\n",
      "\n",
      "FIR filter parameters\n",
      "---------------------\n",
      "Designing a one-pass, zero-phase, non-causal bandpass filter:\n",
      "- Windowed time-domain design (firwin) method\n",
      "- Hamming window with 0.0194 passband ripple and 53 dB stopband attenuation\n",
      "- Lower passband edge: 8.00\n",
      "- Lower transition bandwidth: 2.00 Hz (-6 dB cutoff frequency: 7.00 Hz)\n",
      "- Upper passband edge: 13.00 Hz\n",
      "- Upper transition bandwidth: 3.25 Hz (-6 dB cutoff frequency: 14.62 Hz)\n",
      "- Filter length: 845 samples (1.650 s)\n",
      "\n"
     ]
    },
    {
     "name": "stderr",
     "output_type": "stream",
     "text": [
      "[Parallel(n_jobs=-1)]: Using backend LokyBackend with 16 concurrent workers.\n",
      "[Parallel(n_jobs=-1)]: Done   2 tasks      | elapsed:    0.3s\n",
      "[Parallel(n_jobs=-1)]: Done  62 out of  64 | elapsed:    1.0s remaining:    0.0s\n",
      "[Parallel(n_jobs=-1)]: Done  64 out of  64 | elapsed:    1.0s finished\n"
     ]
    },
    {
     "name": "stdout",
     "output_type": "stream",
     "text": [
      "Filtering raw data in 1 contiguous segment\n",
      "Setting up band-pass filter from 8 - 13 Hz\n",
      "\n",
      "FIR filter parameters\n",
      "---------------------\n",
      "Designing a one-pass, zero-phase, non-causal bandpass filter:\n",
      "- Windowed time-domain design (firwin) method\n",
      "- Hamming window with 0.0194 passband ripple and 53 dB stopband attenuation\n",
      "- Lower passband edge: 8.00\n",
      "- Lower transition bandwidth: 2.00 Hz (-6 dB cutoff frequency: 7.00 Hz)\n",
      "- Upper passband edge: 13.00 Hz\n",
      "- Upper transition bandwidth: 3.25 Hz (-6 dB cutoff frequency: 14.62 Hz)\n",
      "- Filter length: 845 samples (1.650 s)\n",
      "\n"
     ]
    },
    {
     "name": "stderr",
     "output_type": "stream",
     "text": [
      "[Parallel(n_jobs=-1)]: Using backend LokyBackend with 16 concurrent workers.\n",
      "[Parallel(n_jobs=-1)]: Done   2 tasks      | elapsed:    0.3s\n",
      "[Parallel(n_jobs=-1)]: Done  62 out of  64 | elapsed:    1.0s remaining:    0.0s\n",
      "[Parallel(n_jobs=-1)]: Done  64 out of  64 | elapsed:    1.0s finished\n"
     ]
    },
    {
     "name": "stdout",
     "output_type": "stream",
     "text": [
      "Filtering raw data in 1 contiguous segment\n",
      "Setting up band-pass filter from 8 - 13 Hz\n",
      "\n",
      "FIR filter parameters\n",
      "---------------------\n",
      "Designing a one-pass, zero-phase, non-causal bandpass filter:\n",
      "- Windowed time-domain design (firwin) method\n",
      "- Hamming window with 0.0194 passband ripple and 53 dB stopband attenuation\n",
      "- Lower passband edge: 8.00\n",
      "- Lower transition bandwidth: 2.00 Hz (-6 dB cutoff frequency: 7.00 Hz)\n",
      "- Upper passband edge: 13.00 Hz\n",
      "- Upper transition bandwidth: 3.25 Hz (-6 dB cutoff frequency: 14.62 Hz)\n",
      "- Filter length: 845 samples (1.650 s)\n",
      "\n"
     ]
    },
    {
     "name": "stderr",
     "output_type": "stream",
     "text": [
      "[Parallel(n_jobs=-1)]: Using backend LokyBackend with 16 concurrent workers.\n",
      "[Parallel(n_jobs=-1)]: Done   2 tasks      | elapsed:    0.3s\n",
      "[Parallel(n_jobs=-1)]: Done  36 out of  64 | elapsed:    0.9s remaining:    0.6s\n",
      "[Parallel(n_jobs=-1)]: Done  62 out of  64 | elapsed:    0.9s remaining:    0.0s\n",
      "[Parallel(n_jobs=-1)]: Done  64 out of  64 | elapsed:    0.9s finished\n"
     ]
    },
    {
     "name": "stdout",
     "output_type": "stream",
     "text": [
      "Filtering raw data in 1 contiguous segment\n",
      "Setting up band-pass filter from 8 - 13 Hz\n",
      "\n",
      "FIR filter parameters\n",
      "---------------------\n",
      "Designing a one-pass, zero-phase, non-causal bandpass filter:\n",
      "- Windowed time-domain design (firwin) method\n",
      "- Hamming window with 0.0194 passband ripple and 53 dB stopband attenuation\n",
      "- Lower passband edge: 8.00\n",
      "- Lower transition bandwidth: 2.00 Hz (-6 dB cutoff frequency: 7.00 Hz)\n",
      "- Upper passband edge: 13.00 Hz\n",
      "- Upper transition bandwidth: 3.25 Hz (-6 dB cutoff frequency: 14.62 Hz)\n",
      "- Filter length: 845 samples (1.650 s)\n",
      "\n"
     ]
    },
    {
     "name": "stderr",
     "output_type": "stream",
     "text": [
      "[Parallel(n_jobs=-1)]: Using backend LokyBackend with 16 concurrent workers.\n",
      "[Parallel(n_jobs=-1)]: Done   2 tasks      | elapsed:    0.3s\n",
      "[Parallel(n_jobs=-1)]: Done  62 out of  64 | elapsed:    0.8s remaining:    0.0s\n",
      "[Parallel(n_jobs=-1)]: Done  64 out of  64 | elapsed:    0.8s finished\n"
     ]
    },
    {
     "name": "stdout",
     "output_type": "stream",
     "text": [
      "Filtering raw data in 1 contiguous segment\n",
      "Setting up band-pass filter from 8 - 13 Hz\n",
      "\n",
      "FIR filter parameters\n",
      "---------------------\n",
      "Designing a one-pass, zero-phase, non-causal bandpass filter:\n",
      "- Windowed time-domain design (firwin) method\n",
      "- Hamming window with 0.0194 passband ripple and 53 dB stopband attenuation\n",
      "- Lower passband edge: 8.00\n",
      "- Lower transition bandwidth: 2.00 Hz (-6 dB cutoff frequency: 7.00 Hz)\n",
      "- Upper passband edge: 13.00 Hz\n",
      "- Upper transition bandwidth: 3.25 Hz (-6 dB cutoff frequency: 14.62 Hz)\n",
      "- Filter length: 845 samples (1.650 s)\n",
      "\n"
     ]
    },
    {
     "name": "stderr",
     "output_type": "stream",
     "text": [
      "[Parallel(n_jobs=-1)]: Using backend LokyBackend with 16 concurrent workers.\n",
      "[Parallel(n_jobs=-1)]: Done   2 tasks      | elapsed:    0.3s\n",
      "[Parallel(n_jobs=-1)]: Done  62 out of  64 | elapsed:    0.9s remaining:    0.0s\n",
      "[Parallel(n_jobs=-1)]: Done  64 out of  64 | elapsed:    0.9s finished\n"
     ]
    },
    {
     "name": "stdout",
     "output_type": "stream",
     "text": [
      "Filtering raw data in 1 contiguous segment\n",
      "Setting up band-pass filter from 8 - 13 Hz\n",
      "\n",
      "FIR filter parameters\n",
      "---------------------\n",
      "Designing a one-pass, zero-phase, non-causal bandpass filter:\n",
      "- Windowed time-domain design (firwin) method\n",
      "- Hamming window with 0.0194 passband ripple and 53 dB stopband attenuation\n",
      "- Lower passband edge: 8.00\n",
      "- Lower transition bandwidth: 2.00 Hz (-6 dB cutoff frequency: 7.00 Hz)\n",
      "- Upper passband edge: 13.00 Hz\n",
      "- Upper transition bandwidth: 3.25 Hz (-6 dB cutoff frequency: 14.62 Hz)\n",
      "- Filter length: 845 samples (1.650 s)\n",
      "\n"
     ]
    },
    {
     "name": "stderr",
     "output_type": "stream",
     "text": [
      "[Parallel(n_jobs=-1)]: Using backend LokyBackend with 16 concurrent workers.\n",
      "[Parallel(n_jobs=-1)]: Done   2 tasks      | elapsed:    0.3s\n",
      "[Parallel(n_jobs=-1)]: Done  62 out of  64 | elapsed:    0.9s remaining:    0.0s\n",
      "[Parallel(n_jobs=-1)]: Done  64 out of  64 | elapsed:    0.9s finished\n"
     ]
    },
    {
     "name": "stdout",
     "output_type": "stream",
     "text": [
      "Filtering raw data in 1 contiguous segment\n",
      "Setting up band-pass filter from 8 - 13 Hz\n",
      "\n",
      "FIR filter parameters\n",
      "---------------------\n",
      "Designing a one-pass, zero-phase, non-causal bandpass filter:\n",
      "- Windowed time-domain design (firwin) method\n",
      "- Hamming window with 0.0194 passband ripple and 53 dB stopband attenuation\n",
      "- Lower passband edge: 8.00\n",
      "- Lower transition bandwidth: 2.00 Hz (-6 dB cutoff frequency: 7.00 Hz)\n",
      "- Upper passband edge: 13.00 Hz\n",
      "- Upper transition bandwidth: 3.25 Hz (-6 dB cutoff frequency: 14.62 Hz)\n",
      "- Filter length: 845 samples (1.650 s)\n",
      "\n"
     ]
    },
    {
     "name": "stderr",
     "output_type": "stream",
     "text": [
      "[Parallel(n_jobs=-1)]: Using backend LokyBackend with 16 concurrent workers.\n",
      "[Parallel(n_jobs=-1)]: Done   2 tasks      | elapsed:    0.3s\n",
      "[Parallel(n_jobs=-1)]: Done  62 out of  64 | elapsed:    0.9s remaining:    0.0s\n",
      "[Parallel(n_jobs=-1)]: Done  64 out of  64 | elapsed:    0.9s finished\n"
     ]
    },
    {
     "name": "stdout",
     "output_type": "stream",
     "text": [
      "Filtering raw data in 1 contiguous segment\n",
      "Setting up band-pass filter from 8 - 13 Hz\n",
      "\n",
      "FIR filter parameters\n",
      "---------------------\n",
      "Designing a one-pass, zero-phase, non-causal bandpass filter:\n",
      "- Windowed time-domain design (firwin) method\n",
      "- Hamming window with 0.0194 passband ripple and 53 dB stopband attenuation\n",
      "- Lower passband edge: 8.00\n",
      "- Lower transition bandwidth: 2.00 Hz (-6 dB cutoff frequency: 7.00 Hz)\n",
      "- Upper passband edge: 13.00 Hz\n",
      "- Upper transition bandwidth: 3.25 Hz (-6 dB cutoff frequency: 14.62 Hz)\n",
      "- Filter length: 845 samples (1.650 s)\n",
      "\n"
     ]
    },
    {
     "name": "stderr",
     "output_type": "stream",
     "text": [
      "[Parallel(n_jobs=-1)]: Using backend LokyBackend with 16 concurrent workers.\n",
      "[Parallel(n_jobs=-1)]: Done   2 tasks      | elapsed:    0.3s\n",
      "[Parallel(n_jobs=-1)]: Done  62 out of  64 | elapsed:    1.0s remaining:    0.0s\n",
      "[Parallel(n_jobs=-1)]: Done  64 out of  64 | elapsed:    1.0s finished\n"
     ]
    },
    {
     "name": "stdout",
     "output_type": "stream",
     "text": [
      "Filtering raw data in 1 contiguous segment\n",
      "Setting up band-pass filter from 8 - 13 Hz\n",
      "\n",
      "FIR filter parameters\n",
      "---------------------\n",
      "Designing a one-pass, zero-phase, non-causal bandpass filter:\n",
      "- Windowed time-domain design (firwin) method\n",
      "- Hamming window with 0.0194 passband ripple and 53 dB stopband attenuation\n",
      "- Lower passband edge: 8.00\n",
      "- Lower transition bandwidth: 2.00 Hz (-6 dB cutoff frequency: 7.00 Hz)\n",
      "- Upper passband edge: 13.00 Hz\n",
      "- Upper transition bandwidth: 3.25 Hz (-6 dB cutoff frequency: 14.62 Hz)\n",
      "- Filter length: 845 samples (1.650 s)\n",
      "\n"
     ]
    },
    {
     "name": "stderr",
     "output_type": "stream",
     "text": [
      "[Parallel(n_jobs=-1)]: Using backend LokyBackend with 16 concurrent workers.\n",
      "[Parallel(n_jobs=-1)]: Done   2 tasks      | elapsed:    0.3s\n",
      "[Parallel(n_jobs=-1)]: Done  62 out of  64 | elapsed:    1.0s remaining:    0.0s\n",
      "[Parallel(n_jobs=-1)]: Done  64 out of  64 | elapsed:    1.0s finished\n"
     ]
    },
    {
     "name": "stdout",
     "output_type": "stream",
     "text": [
      "Filtering raw data in 1 contiguous segment\n",
      "Setting up band-pass filter from 8 - 13 Hz\n",
      "\n",
      "FIR filter parameters\n",
      "---------------------\n",
      "Designing a one-pass, zero-phase, non-causal bandpass filter:\n",
      "- Windowed time-domain design (firwin) method\n",
      "- Hamming window with 0.0194 passband ripple and 53 dB stopband attenuation\n",
      "- Lower passband edge: 8.00\n",
      "- Lower transition bandwidth: 2.00 Hz (-6 dB cutoff frequency: 7.00 Hz)\n",
      "- Upper passband edge: 13.00 Hz\n",
      "- Upper transition bandwidth: 3.25 Hz (-6 dB cutoff frequency: 14.62 Hz)\n",
      "- Filter length: 845 samples (1.650 s)\n",
      "\n"
     ]
    },
    {
     "name": "stderr",
     "output_type": "stream",
     "text": [
      "[Parallel(n_jobs=-1)]: Using backend LokyBackend with 16 concurrent workers.\n",
      "[Parallel(n_jobs=-1)]: Done   2 tasks      | elapsed:    0.3s\n",
      "[Parallel(n_jobs=-1)]: Done  62 out of  64 | elapsed:    0.9s remaining:    0.0s\n",
      "[Parallel(n_jobs=-1)]: Done  64 out of  64 | elapsed:    0.9s finished\n"
     ]
    },
    {
     "name": "stdout",
     "output_type": "stream",
     "text": [
      "Filtering raw data in 1 contiguous segment\n",
      "Setting up band-pass filter from 8 - 13 Hz\n",
      "\n",
      "FIR filter parameters\n",
      "---------------------\n",
      "Designing a one-pass, zero-phase, non-causal bandpass filter:\n",
      "- Windowed time-domain design (firwin) method\n",
      "- Hamming window with 0.0194 passband ripple and 53 dB stopband attenuation\n",
      "- Lower passband edge: 8.00\n",
      "- Lower transition bandwidth: 2.00 Hz (-6 dB cutoff frequency: 7.00 Hz)\n",
      "- Upper passband edge: 13.00 Hz\n",
      "- Upper transition bandwidth: 3.25 Hz (-6 dB cutoff frequency: 14.62 Hz)\n",
      "- Filter length: 845 samples (1.650 s)\n",
      "\n"
     ]
    },
    {
     "name": "stderr",
     "output_type": "stream",
     "text": [
      "[Parallel(n_jobs=-1)]: Using backend LokyBackend with 16 concurrent workers.\n",
      "[Parallel(n_jobs=-1)]: Done   2 tasks      | elapsed:    0.3s\n",
      "[Parallel(n_jobs=-1)]: Done  62 out of  64 | elapsed:    1.1s remaining:    0.0s\n",
      "[Parallel(n_jobs=-1)]: Done  64 out of  64 | elapsed:    1.1s finished\n"
     ]
    },
    {
     "name": "stdout",
     "output_type": "stream",
     "text": [
      "Filtering raw data in 1 contiguous segment\n",
      "Setting up band-pass filter from 8 - 13 Hz\n",
      "\n",
      "FIR filter parameters\n",
      "---------------------\n",
      "Designing a one-pass, zero-phase, non-causal bandpass filter:\n",
      "- Windowed time-domain design (firwin) method\n",
      "- Hamming window with 0.0194 passband ripple and 53 dB stopband attenuation\n",
      "- Lower passband edge: 8.00\n",
      "- Lower transition bandwidth: 2.00 Hz (-6 dB cutoff frequency: 7.00 Hz)\n",
      "- Upper passband edge: 13.00 Hz\n",
      "- Upper transition bandwidth: 3.25 Hz (-6 dB cutoff frequency: 14.62 Hz)\n",
      "- Filter length: 845 samples (1.650 s)\n",
      "\n"
     ]
    },
    {
     "name": "stderr",
     "output_type": "stream",
     "text": [
      "[Parallel(n_jobs=-1)]: Using backend LokyBackend with 16 concurrent workers.\n",
      "[Parallel(n_jobs=-1)]: Done   2 tasks      | elapsed:    0.3s\n",
      "[Parallel(n_jobs=-1)]: Done  62 out of  64 | elapsed:    0.9s remaining:    0.0s\n",
      "[Parallel(n_jobs=-1)]: Done  64 out of  64 | elapsed:    0.9s finished\n"
     ]
    },
    {
     "name": "stdout",
     "output_type": "stream",
     "text": [
      "Filtering raw data in 1 contiguous segment\n",
      "Setting up band-pass filter from 8 - 13 Hz\n",
      "\n",
      "FIR filter parameters\n",
      "---------------------\n",
      "Designing a one-pass, zero-phase, non-causal bandpass filter:\n",
      "- Windowed time-domain design (firwin) method\n",
      "- Hamming window with 0.0194 passband ripple and 53 dB stopband attenuation\n",
      "- Lower passband edge: 8.00\n",
      "- Lower transition bandwidth: 2.00 Hz (-6 dB cutoff frequency: 7.00 Hz)\n",
      "- Upper passband edge: 13.00 Hz\n",
      "- Upper transition bandwidth: 3.25 Hz (-6 dB cutoff frequency: 14.62 Hz)\n",
      "- Filter length: 845 samples (1.650 s)\n",
      "\n"
     ]
    },
    {
     "name": "stderr",
     "output_type": "stream",
     "text": [
      "[Parallel(n_jobs=-1)]: Using backend LokyBackend with 16 concurrent workers.\n",
      "[Parallel(n_jobs=-1)]: Done   2 tasks      | elapsed:    0.3s\n",
      "[Parallel(n_jobs=-1)]: Done  62 out of  64 | elapsed:    1.0s remaining:    0.0s\n",
      "[Parallel(n_jobs=-1)]: Done  64 out of  64 | elapsed:    1.0s finished\n"
     ]
    },
    {
     "name": "stdout",
     "output_type": "stream",
     "text": [
      "Filtering raw data in 1 contiguous segment\n",
      "Setting up band-pass filter from 8 - 13 Hz\n",
      "\n",
      "FIR filter parameters\n",
      "---------------------\n",
      "Designing a one-pass, zero-phase, non-causal bandpass filter:\n",
      "- Windowed time-domain design (firwin) method\n",
      "- Hamming window with 0.0194 passband ripple and 53 dB stopband attenuation\n",
      "- Lower passband edge: 8.00\n",
      "- Lower transition bandwidth: 2.00 Hz (-6 dB cutoff frequency: 7.00 Hz)\n",
      "- Upper passband edge: 13.00 Hz\n",
      "- Upper transition bandwidth: 3.25 Hz (-6 dB cutoff frequency: 14.62 Hz)\n",
      "- Filter length: 845 samples (1.650 s)\n",
      "\n"
     ]
    },
    {
     "name": "stderr",
     "output_type": "stream",
     "text": [
      "[Parallel(n_jobs=-1)]: Using backend LokyBackend with 16 concurrent workers.\n",
      "[Parallel(n_jobs=-1)]: Done   2 tasks      | elapsed:    0.4s\n",
      "[Parallel(n_jobs=-1)]: Done  62 out of  64 | elapsed:    1.4s remaining:    0.0s\n",
      "[Parallel(n_jobs=-1)]: Done  64 out of  64 | elapsed:    1.4s finished\n"
     ]
    },
    {
     "name": "stdout",
     "output_type": "stream",
     "text": [
      "Filtering raw data in 1 contiguous segment\n",
      "Setting up band-pass filter from 8 - 13 Hz\n",
      "\n",
      "FIR filter parameters\n",
      "---------------------\n",
      "Designing a one-pass, zero-phase, non-causal bandpass filter:\n",
      "- Windowed time-domain design (firwin) method\n",
      "- Hamming window with 0.0194 passband ripple and 53 dB stopband attenuation\n",
      "- Lower passband edge: 8.00\n",
      "- Lower transition bandwidth: 2.00 Hz (-6 dB cutoff frequency: 7.00 Hz)\n",
      "- Upper passband edge: 13.00 Hz\n",
      "- Upper transition bandwidth: 3.25 Hz (-6 dB cutoff frequency: 14.62 Hz)\n",
      "- Filter length: 845 samples (1.650 s)\n",
      "\n"
     ]
    },
    {
     "name": "stderr",
     "output_type": "stream",
     "text": [
      "[Parallel(n_jobs=-1)]: Using backend LokyBackend with 16 concurrent workers.\n",
      "[Parallel(n_jobs=-1)]: Done   2 tasks      | elapsed:    0.4s\n",
      "[Parallel(n_jobs=-1)]: Done  62 out of  64 | elapsed:    1.5s remaining:    0.0s\n",
      "[Parallel(n_jobs=-1)]: Done  64 out of  64 | elapsed:    1.8s finished\n"
     ]
    },
    {
     "name": "stdout",
     "output_type": "stream",
     "text": [
      "Filtering raw data in 1 contiguous segment\n",
      "Setting up band-pass filter from 8 - 13 Hz\n",
      "\n",
      "FIR filter parameters\n",
      "---------------------\n",
      "Designing a one-pass, zero-phase, non-causal bandpass filter:\n",
      "- Windowed time-domain design (firwin) method\n",
      "- Hamming window with 0.0194 passband ripple and 53 dB stopband attenuation\n",
      "- Lower passband edge: 8.00\n",
      "- Lower transition bandwidth: 2.00 Hz (-6 dB cutoff frequency: 7.00 Hz)\n",
      "- Upper passband edge: 13.00 Hz\n",
      "- Upper transition bandwidth: 3.25 Hz (-6 dB cutoff frequency: 14.62 Hz)\n",
      "- Filter length: 845 samples (1.650 s)\n",
      "\n"
     ]
    },
    {
     "name": "stderr",
     "output_type": "stream",
     "text": [
      "[Parallel(n_jobs=-1)]: Using backend LokyBackend with 16 concurrent workers.\n",
      "[Parallel(n_jobs=-1)]: Done   2 tasks      | elapsed:    0.4s\n",
      "[Parallel(n_jobs=-1)]: Done  62 out of  64 | elapsed:    1.0s remaining:    0.0s\n",
      "[Parallel(n_jobs=-1)]: Done  64 out of  64 | elapsed:    1.0s finished\n"
     ]
    },
    {
     "name": "stdout",
     "output_type": "stream",
     "text": [
      "Filtering raw data in 1 contiguous segment\n",
      "Setting up band-pass filter from 8 - 13 Hz\n",
      "\n",
      "FIR filter parameters\n",
      "---------------------\n",
      "Designing a one-pass, zero-phase, non-causal bandpass filter:\n",
      "- Windowed time-domain design (firwin) method\n",
      "- Hamming window with 0.0194 passband ripple and 53 dB stopband attenuation\n",
      "- Lower passband edge: 8.00\n",
      "- Lower transition bandwidth: 2.00 Hz (-6 dB cutoff frequency: 7.00 Hz)\n",
      "- Upper passband edge: 13.00 Hz\n",
      "- Upper transition bandwidth: 3.25 Hz (-6 dB cutoff frequency: 14.62 Hz)\n",
      "- Filter length: 845 samples (1.650 s)\n",
      "\n"
     ]
    },
    {
     "name": "stderr",
     "output_type": "stream",
     "text": [
      "[Parallel(n_jobs=-1)]: Using backend LokyBackend with 16 concurrent workers.\n",
      "[Parallel(n_jobs=-1)]: Done   2 tasks      | elapsed:    0.4s\n",
      "[Parallel(n_jobs=-1)]: Done  62 out of  64 | elapsed:    1.0s remaining:    0.0s\n",
      "[Parallel(n_jobs=-1)]: Done  64 out of  64 | elapsed:    1.0s finished\n"
     ]
    },
    {
     "name": "stdout",
     "output_type": "stream",
     "text": [
      "Filtering raw data in 1 contiguous segment\n",
      "Setting up band-pass filter from 8 - 13 Hz\n",
      "\n",
      "FIR filter parameters\n",
      "---------------------\n",
      "Designing a one-pass, zero-phase, non-causal bandpass filter:\n",
      "- Windowed time-domain design (firwin) method\n",
      "- Hamming window with 0.0194 passband ripple and 53 dB stopband attenuation\n",
      "- Lower passband edge: 8.00\n",
      "- Lower transition bandwidth: 2.00 Hz (-6 dB cutoff frequency: 7.00 Hz)\n",
      "- Upper passband edge: 13.00 Hz\n",
      "- Upper transition bandwidth: 3.25 Hz (-6 dB cutoff frequency: 14.62 Hz)\n",
      "- Filter length: 845 samples (1.650 s)\n",
      "\n"
     ]
    },
    {
     "name": "stderr",
     "output_type": "stream",
     "text": [
      "[Parallel(n_jobs=-1)]: Using backend LokyBackend with 16 concurrent workers.\n",
      "[Parallel(n_jobs=-1)]: Done   2 tasks      | elapsed:    0.3s\n",
      "[Parallel(n_jobs=-1)]: Done  62 out of  64 | elapsed:    1.0s remaining:    0.0s\n",
      "[Parallel(n_jobs=-1)]: Done  64 out of  64 | elapsed:    1.0s finished\n"
     ]
    },
    {
     "name": "stdout",
     "output_type": "stream",
     "text": [
      "Filtering raw data in 1 contiguous segment\n",
      "Setting up band-pass filter from 8 - 13 Hz\n",
      "\n",
      "FIR filter parameters\n",
      "---------------------\n",
      "Designing a one-pass, zero-phase, non-causal bandpass filter:\n",
      "- Windowed time-domain design (firwin) method\n",
      "- Hamming window with 0.0194 passband ripple and 53 dB stopband attenuation\n",
      "- Lower passband edge: 8.00\n",
      "- Lower transition bandwidth: 2.00 Hz (-6 dB cutoff frequency: 7.00 Hz)\n",
      "- Upper passband edge: 13.00 Hz\n",
      "- Upper transition bandwidth: 3.25 Hz (-6 dB cutoff frequency: 14.62 Hz)\n",
      "- Filter length: 845 samples (1.650 s)\n",
      "\n"
     ]
    },
    {
     "name": "stderr",
     "output_type": "stream",
     "text": [
      "[Parallel(n_jobs=-1)]: Using backend LokyBackend with 16 concurrent workers.\n",
      "[Parallel(n_jobs=-1)]: Done   2 tasks      | elapsed:    0.3s\n",
      "[Parallel(n_jobs=-1)]: Done  62 out of  64 | elapsed:    1.0s remaining:    0.0s\n",
      "[Parallel(n_jobs=-1)]: Done  64 out of  64 | elapsed:    1.0s finished\n"
     ]
    },
    {
     "name": "stdout",
     "output_type": "stream",
     "text": [
      "Filtering raw data in 1 contiguous segment\n",
      "Setting up band-pass filter from 8 - 13 Hz\n",
      "\n",
      "FIR filter parameters\n",
      "---------------------\n",
      "Designing a one-pass, zero-phase, non-causal bandpass filter:\n",
      "- Windowed time-domain design (firwin) method\n",
      "- Hamming window with 0.0194 passband ripple and 53 dB stopband attenuation\n",
      "- Lower passband edge: 8.00\n",
      "- Lower transition bandwidth: 2.00 Hz (-6 dB cutoff frequency: 7.00 Hz)\n",
      "- Upper passband edge: 13.00 Hz\n",
      "- Upper transition bandwidth: 3.25 Hz (-6 dB cutoff frequency: 14.62 Hz)\n",
      "- Filter length: 845 samples (1.650 s)\n",
      "\n"
     ]
    },
    {
     "name": "stderr",
     "output_type": "stream",
     "text": [
      "[Parallel(n_jobs=-1)]: Using backend LokyBackend with 16 concurrent workers.\n",
      "[Parallel(n_jobs=-1)]: Done   2 tasks      | elapsed:    0.3s\n",
      "[Parallel(n_jobs=-1)]: Done  62 out of  64 | elapsed:    1.0s remaining:    0.0s\n",
      "[Parallel(n_jobs=-1)]: Done  64 out of  64 | elapsed:    1.0s finished\n"
     ]
    },
    {
     "name": "stdout",
     "output_type": "stream",
     "text": [
      "Filtering raw data in 1 contiguous segment\n",
      "Setting up band-pass filter from 8 - 13 Hz\n",
      "\n",
      "FIR filter parameters\n",
      "---------------------\n",
      "Designing a one-pass, zero-phase, non-causal bandpass filter:\n",
      "- Windowed time-domain design (firwin) method\n",
      "- Hamming window with 0.0194 passband ripple and 53 dB stopband attenuation\n",
      "- Lower passband edge: 8.00\n",
      "- Lower transition bandwidth: 2.00 Hz (-6 dB cutoff frequency: 7.00 Hz)\n",
      "- Upper passband edge: 13.00 Hz\n",
      "- Upper transition bandwidth: 3.25 Hz (-6 dB cutoff frequency: 14.62 Hz)\n",
      "- Filter length: 845 samples (1.650 s)\n",
      "\n"
     ]
    },
    {
     "name": "stderr",
     "output_type": "stream",
     "text": [
      "[Parallel(n_jobs=-1)]: Using backend LokyBackend with 16 concurrent workers.\n",
      "[Parallel(n_jobs=-1)]: Done   2 tasks      | elapsed:    0.3s\n",
      "[Parallel(n_jobs=-1)]: Done  62 out of  64 | elapsed:    1.0s remaining:    0.0s\n",
      "[Parallel(n_jobs=-1)]: Done  64 out of  64 | elapsed:    1.0s finished\n"
     ]
    },
    {
     "name": "stdout",
     "output_type": "stream",
     "text": [
      "Filtering raw data in 1 contiguous segment\n",
      "Setting up band-pass filter from 8 - 13 Hz\n",
      "\n",
      "FIR filter parameters\n",
      "---------------------\n",
      "Designing a one-pass, zero-phase, non-causal bandpass filter:\n",
      "- Windowed time-domain design (firwin) method\n",
      "- Hamming window with 0.0194 passband ripple and 53 dB stopband attenuation\n",
      "- Lower passband edge: 8.00\n",
      "- Lower transition bandwidth: 2.00 Hz (-6 dB cutoff frequency: 7.00 Hz)\n",
      "- Upper passband edge: 13.00 Hz\n",
      "- Upper transition bandwidth: 3.25 Hz (-6 dB cutoff frequency: 14.62 Hz)\n",
      "- Filter length: 845 samples (1.650 s)\n",
      "\n"
     ]
    },
    {
     "name": "stderr",
     "output_type": "stream",
     "text": [
      "[Parallel(n_jobs=-1)]: Using backend LokyBackend with 16 concurrent workers.\n",
      "[Parallel(n_jobs=-1)]: Done   2 tasks      | elapsed:    0.3s\n",
      "[Parallel(n_jobs=-1)]: Done  62 out of  64 | elapsed:    0.9s remaining:    0.0s\n",
      "[Parallel(n_jobs=-1)]: Done  64 out of  64 | elapsed:    0.9s finished\n"
     ]
    },
    {
     "name": "stdout",
     "output_type": "stream",
     "text": [
      "Filtering raw data in 1 contiguous segment\n",
      "Setting up band-pass filter from 8 - 13 Hz\n",
      "\n",
      "FIR filter parameters\n",
      "---------------------\n",
      "Designing a one-pass, zero-phase, non-causal bandpass filter:\n",
      "- Windowed time-domain design (firwin) method\n",
      "- Hamming window with 0.0194 passband ripple and 53 dB stopband attenuation\n",
      "- Lower passband edge: 8.00\n",
      "- Lower transition bandwidth: 2.00 Hz (-6 dB cutoff frequency: 7.00 Hz)\n",
      "- Upper passband edge: 13.00 Hz\n",
      "- Upper transition bandwidth: 3.25 Hz (-6 dB cutoff frequency: 14.62 Hz)\n",
      "- Filter length: 845 samples (1.650 s)\n",
      "\n"
     ]
    },
    {
     "name": "stderr",
     "output_type": "stream",
     "text": [
      "[Parallel(n_jobs=-1)]: Using backend LokyBackend with 16 concurrent workers.\n",
      "[Parallel(n_jobs=-1)]: Done   2 tasks      | elapsed:    0.3s\n",
      "[Parallel(n_jobs=-1)]: Done  62 out of  64 | elapsed:    0.9s remaining:    0.0s\n",
      "[Parallel(n_jobs=-1)]: Done  64 out of  64 | elapsed:    0.9s finished\n"
     ]
    },
    {
     "name": "stdout",
     "output_type": "stream",
     "text": [
      "Filtering raw data in 1 contiguous segment\n",
      "Setting up band-pass filter from 8 - 13 Hz\n",
      "\n",
      "FIR filter parameters\n",
      "---------------------\n",
      "Designing a one-pass, zero-phase, non-causal bandpass filter:\n",
      "- Windowed time-domain design (firwin) method\n",
      "- Hamming window with 0.0194 passband ripple and 53 dB stopband attenuation\n",
      "- Lower passband edge: 8.00\n",
      "- Lower transition bandwidth: 2.00 Hz (-6 dB cutoff frequency: 7.00 Hz)\n",
      "- Upper passband edge: 13.00 Hz\n",
      "- Upper transition bandwidth: 3.25 Hz (-6 dB cutoff frequency: 14.62 Hz)\n",
      "- Filter length: 845 samples (1.650 s)\n",
      "\n"
     ]
    },
    {
     "name": "stderr",
     "output_type": "stream",
     "text": [
      "[Parallel(n_jobs=-1)]: Using backend LokyBackend with 16 concurrent workers.\n",
      "[Parallel(n_jobs=-1)]: Done   2 tasks      | elapsed:    0.3s\n",
      "[Parallel(n_jobs=-1)]: Done  62 out of  64 | elapsed:    1.0s remaining:    0.0s\n",
      "[Parallel(n_jobs=-1)]: Done  64 out of  64 | elapsed:    1.0s finished\n"
     ]
    },
    {
     "name": "stdout",
     "output_type": "stream",
     "text": [
      "Filtering raw data in 1 contiguous segment\n",
      "Setting up band-pass filter from 8 - 13 Hz\n",
      "\n",
      "FIR filter parameters\n",
      "---------------------\n",
      "Designing a one-pass, zero-phase, non-causal bandpass filter:\n",
      "- Windowed time-domain design (firwin) method\n",
      "- Hamming window with 0.0194 passband ripple and 53 dB stopband attenuation\n",
      "- Lower passband edge: 8.00\n",
      "- Lower transition bandwidth: 2.00 Hz (-6 dB cutoff frequency: 7.00 Hz)\n",
      "- Upper passband edge: 13.00 Hz\n",
      "- Upper transition bandwidth: 3.25 Hz (-6 dB cutoff frequency: 14.62 Hz)\n",
      "- Filter length: 845 samples (1.650 s)\n",
      "\n"
     ]
    },
    {
     "name": "stderr",
     "output_type": "stream",
     "text": [
      "[Parallel(n_jobs=-1)]: Using backend LokyBackend with 16 concurrent workers.\n",
      "[Parallel(n_jobs=-1)]: Done   2 tasks      | elapsed:    0.4s\n",
      "[Parallel(n_jobs=-1)]: Done  62 out of  64 | elapsed:    1.1s remaining:    0.0s\n",
      "[Parallel(n_jobs=-1)]: Done  64 out of  64 | elapsed:    1.1s finished\n"
     ]
    },
    {
     "name": "stdout",
     "output_type": "stream",
     "text": [
      "Filtering raw data in 1 contiguous segment\n",
      "Setting up band-pass filter from 8 - 13 Hz\n",
      "\n",
      "FIR filter parameters\n",
      "---------------------\n",
      "Designing a one-pass, zero-phase, non-causal bandpass filter:\n",
      "- Windowed time-domain design (firwin) method\n",
      "- Hamming window with 0.0194 passband ripple and 53 dB stopband attenuation\n",
      "- Lower passband edge: 8.00\n",
      "- Lower transition bandwidth: 2.00 Hz (-6 dB cutoff frequency: 7.00 Hz)\n",
      "- Upper passband edge: 13.00 Hz\n",
      "- Upper transition bandwidth: 3.25 Hz (-6 dB cutoff frequency: 14.62 Hz)\n",
      "- Filter length: 845 samples (1.650 s)\n",
      "\n"
     ]
    },
    {
     "name": "stderr",
     "output_type": "stream",
     "text": [
      "[Parallel(n_jobs=-1)]: Using backend LokyBackend with 16 concurrent workers.\n",
      "[Parallel(n_jobs=-1)]: Done   2 tasks      | elapsed:    0.4s\n",
      "[Parallel(n_jobs=-1)]: Done  62 out of  64 | elapsed:    1.1s remaining:    0.0s\n",
      "[Parallel(n_jobs=-1)]: Done  64 out of  64 | elapsed:    1.1s finished\n"
     ]
    },
    {
     "name": "stdout",
     "output_type": "stream",
     "text": [
      "Filtering raw data in 1 contiguous segment\n",
      "Setting up band-pass filter from 8 - 13 Hz\n",
      "\n",
      "FIR filter parameters\n",
      "---------------------\n",
      "Designing a one-pass, zero-phase, non-causal bandpass filter:\n",
      "- Windowed time-domain design (firwin) method\n",
      "- Hamming window with 0.0194 passband ripple and 53 dB stopband attenuation\n",
      "- Lower passband edge: 8.00\n",
      "- Lower transition bandwidth: 2.00 Hz (-6 dB cutoff frequency: 7.00 Hz)\n",
      "- Upper passband edge: 13.00 Hz\n",
      "- Upper transition bandwidth: 3.25 Hz (-6 dB cutoff frequency: 14.62 Hz)\n",
      "- Filter length: 845 samples (1.650 s)\n",
      "\n"
     ]
    },
    {
     "name": "stderr",
     "output_type": "stream",
     "text": [
      "[Parallel(n_jobs=-1)]: Using backend LokyBackend with 16 concurrent workers.\n",
      "[Parallel(n_jobs=-1)]: Done   2 tasks      | elapsed:    0.4s\n",
      "[Parallel(n_jobs=-1)]: Done  62 out of  64 | elapsed:    1.1s remaining:    0.0s\n",
      "[Parallel(n_jobs=-1)]: Done  64 out of  64 | elapsed:    1.1s finished\n"
     ]
    }
   ],
   "source": [
    "for i in range(0, slen):\n",
    "    raw[LEFT][i].filter(l_freq=8, h_freq=13, n_jobs=-1)\n",
    "    raw[RIGHT][i].filter(l_freq=8, h_freq=13, n_jobs=-1)"
   ]
  },
  {
   "cell_type": "markdown",
   "metadata": {},
   "source": [
    "### ✂️-1s ~ 3s Epoching"
   ]
  },
  {
   "cell_type": "code",
   "execution_count": 10,
   "metadata": {},
   "outputs": [
    {
     "name": "stdout",
     "output_type": "stream",
     "text": [
      "100 events found\n",
      "Event IDs: [1]\n",
      "100 events found\n",
      "Event IDs: [1]\n",
      "100 events found\n",
      "Event IDs: [1]\n",
      "100 events found\n",
      "Event IDs: [1]\n",
      "100 events found\n",
      "Event IDs: [1]\n",
      "100 events found\n",
      "Event IDs: [1]\n",
      "100 events found\n",
      "Event IDs: [1]\n",
      "100 events found\n",
      "Event IDs: [1]\n",
      "100 events found\n",
      "Event IDs: [1]\n",
      "100 events found\n",
      "Event IDs: [1]\n",
      "100 events found\n",
      "Event IDs: [1]\n",
      "100 events found\n",
      "Event IDs: [1]\n",
      "120 events found\n",
      "Event IDs: [1]\n",
      "120 events found\n",
      "Event IDs: [1]\n",
      "100 events found\n",
      "Event IDs: [1]\n",
      "100 events found\n",
      "Event IDs: [1]\n",
      "120 events found\n",
      "Event IDs: [1]\n",
      "120 events found\n",
      "Event IDs: [1]\n",
      "100 events found\n",
      "Event IDs: [1]\n",
      "100 events found\n",
      "Event IDs: [1]\n",
      "100 events found\n",
      "Event IDs: [1]\n",
      "100 events found\n",
      "Event IDs: [1]\n",
      "100 events found\n",
      "Event IDs: [1]\n",
      "100 events found\n",
      "Event IDs: [1]\n",
      "100 events found\n",
      "Event IDs: [1]\n",
      "100 events found\n",
      "Event IDs: [1]\n",
      "100 events found\n",
      "Event IDs: [1]\n",
      "100 events found\n",
      "Event IDs: [1]\n",
      "100 events found\n",
      "Event IDs: [1]\n",
      "100 events found\n",
      "Event IDs: [1]\n",
      "100 events found\n",
      "Event IDs: [1]\n",
      "100 events found\n",
      "Event IDs: [1]\n",
      "100 events found\n",
      "Event IDs: [1]\n",
      "100 events found\n",
      "Event IDs: [1]\n",
      "100 events found\n",
      "Event IDs: [1]\n",
      "100 events found\n",
      "Event IDs: [1]\n",
      "100 events found\n",
      "Event IDs: [1]\n",
      "100 events found\n",
      "Event IDs: [1]\n",
      "100 events found\n",
      "Event IDs: [1]\n",
      "100 events found\n",
      "Event IDs: [1]\n",
      "100 events found\n",
      "Event IDs: [1]\n",
      "100 events found\n",
      "Event IDs: [1]\n",
      "100 events found\n",
      "Event IDs: [1]\n",
      "100 events found\n",
      "Event IDs: [1]\n",
      "100 events found\n",
      "Event IDs: [1]\n",
      "100 events found\n",
      "Event IDs: [1]\n",
      "100 events found\n",
      "Event IDs: [1]\n",
      "100 events found\n",
      "Event IDs: [1]\n",
      "100 events found\n",
      "Event IDs: [1]\n",
      "100 events found\n",
      "Event IDs: [1]\n",
      "100 events found\n",
      "Event IDs: [1]\n",
      "100 events found\n",
      "Event IDs: [1]\n",
      "100 events found\n",
      "Event IDs: [1]\n",
      "100 events found\n",
      "Event IDs: [1]\n",
      "100 events found\n",
      "Event IDs: [1]\n",
      "100 events found\n",
      "Event IDs: [1]\n",
      "100 events found\n",
      "Event IDs: [1]\n",
      "100 events found\n",
      "Event IDs: [1]\n",
      "100 events found\n",
      "Event IDs: [1]\n",
      "100 events found\n",
      "Event IDs: [1]\n",
      "100 events found\n",
      "Event IDs: [1]\n",
      "100 events found\n",
      "Event IDs: [1]\n",
      "100 events found\n",
      "Event IDs: [1]\n",
      "100 events found\n",
      "Event IDs: [1]\n",
      "100 events found\n",
      "Event IDs: [1]\n",
      "100 events found\n",
      "Event IDs: [1]\n",
      "100 events found\n",
      "Event IDs: [1]\n",
      "100 events found\n",
      "Event IDs: [1]\n",
      "100 events found\n",
      "Event IDs: [1]\n",
      "100 events found\n",
      "Event IDs: [1]\n",
      "100 events found\n",
      "Event IDs: [1]\n",
      "100 events found\n",
      "Event IDs: [1]\n",
      "100 events found\n",
      "Event IDs: [1]\n",
      "100 events found\n",
      "Event IDs: [1]\n",
      "100 events found\n",
      "Event IDs: [1]\n",
      "100 events found\n",
      "Event IDs: [1]\n",
      "100 events found\n",
      "Event IDs: [1]\n",
      "100 events found\n",
      "Event IDs: [1]\n",
      "100 events found\n",
      "Event IDs: [1]\n",
      "100 events found\n",
      "Event IDs: [1]\n",
      "100 events found\n",
      "Event IDs: [1]\n",
      "100 events found\n",
      "Event IDs: [1]\n",
      "100 events found\n",
      "Event IDs: [1]\n",
      "100 events found\n",
      "Event IDs: [1]\n",
      "100 events found\n",
      "Event IDs: [1]\n",
      "100 events found\n",
      "Event IDs: [1]\n",
      "100 events found\n",
      "Event IDs: [1]\n",
      "100 events found\n",
      "Event IDs: [1]\n",
      "100 events found\n",
      "Event IDs: [1]\n",
      "100 events found\n",
      "Event IDs: [1]\n",
      "120 events found\n",
      "Event IDs: [1]\n",
      "120 events found\n",
      "Event IDs: [1]\n",
      "100 events found\n",
      "Event IDs: [1]\n",
      "100 events found\n",
      "Event IDs: [1]\n",
      "100 events found\n",
      "Event IDs: [1]\n",
      "100 events found\n",
      "Event IDs: [1]\n",
      "100 events found\n",
      "Event IDs: [1]\n",
      "100 events found\n",
      "Event IDs: [1]\n",
      "100 events found\n",
      "Event IDs: [1]\n",
      "100 events found\n",
      "Event IDs: [1]\n",
      "100 events found\n",
      "Event IDs: [1]\n",
      "100 events found\n",
      "Event IDs: [1]\n",
      "100 events found\n",
      "Event IDs: [1]\n",
      "100 events found\n",
      "Event IDs: [1]\n"
     ]
    }
   ],
   "source": [
    "# events 생성\n",
    "le = []\n",
    "re = []\n",
    "for i in range(0, slen):\n",
    "    le.append(mne.find_events(raw[LEFT][i], stim_channel='Stim'))\n",
    "    re.append(mne.find_events(raw[RIGHT][i], stim_channel='Stim'))\n",
    "events = [le, re]"
   ]
  },
  {
   "cell_type": "code",
   "execution_count": 11,
   "metadata": {},
   "outputs": [
    {
     "name": "stdout",
     "output_type": "stream",
     "text": [
      "Not setting metadata\n",
      "100 matching events found\n",
      "Applying baseline correction (mode: mean)\n",
      "0 projection items activated\n",
      "Not setting metadata\n",
      "100 matching events found\n",
      "Applying baseline correction (mode: mean)\n",
      "0 projection items activated\n",
      "Not setting metadata\n",
      "100 matching events found\n",
      "Applying baseline correction (mode: mean)\n",
      "0 projection items activated\n",
      "Not setting metadata\n",
      "100 matching events found\n",
      "Applying baseline correction (mode: mean)\n",
      "0 projection items activated\n",
      "Not setting metadata\n",
      "100 matching events found\n",
      "Applying baseline correction (mode: mean)\n",
      "0 projection items activated\n",
      "Not setting metadata\n",
      "100 matching events found\n",
      "Applying baseline correction (mode: mean)\n",
      "0 projection items activated\n",
      "Not setting metadata\n",
      "100 matching events found\n",
      "Applying baseline correction (mode: mean)\n",
      "0 projection items activated\n",
      "Not setting metadata\n",
      "100 matching events found\n",
      "Applying baseline correction (mode: mean)\n",
      "0 projection items activated\n",
      "Not setting metadata\n",
      "100 matching events found\n",
      "Applying baseline correction (mode: mean)\n",
      "0 projection items activated\n",
      "Not setting metadata\n",
      "100 matching events found\n",
      "Applying baseline correction (mode: mean)\n",
      "0 projection items activated\n",
      "Not setting metadata\n",
      "100 matching events found\n",
      "Applying baseline correction (mode: mean)\n",
      "0 projection items activated\n",
      "Not setting metadata\n",
      "100 matching events found\n",
      "Applying baseline correction (mode: mean)\n",
      "0 projection items activated\n",
      "Not setting metadata\n",
      "120 matching events found\n",
      "Applying baseline correction (mode: mean)\n",
      "0 projection items activated\n",
      "Not setting metadata\n",
      "120 matching events found\n",
      "Applying baseline correction (mode: mean)\n",
      "0 projection items activated\n",
      "Not setting metadata\n",
      "100 matching events found\n",
      "Applying baseline correction (mode: mean)\n",
      "0 projection items activated\n",
      "Not setting metadata\n",
      "100 matching events found\n",
      "Applying baseline correction (mode: mean)\n",
      "0 projection items activated\n",
      "Not setting metadata\n",
      "120 matching events found\n",
      "Applying baseline correction (mode: mean)\n",
      "0 projection items activated\n",
      "Not setting metadata\n",
      "120 matching events found\n",
      "Applying baseline correction (mode: mean)\n",
      "0 projection items activated\n",
      "Not setting metadata\n",
      "100 matching events found\n",
      "Applying baseline correction (mode: mean)\n",
      "0 projection items activated\n",
      "Not setting metadata\n",
      "100 matching events found\n",
      "Applying baseline correction (mode: mean)\n",
      "0 projection items activated\n",
      "Not setting metadata\n",
      "100 matching events found\n",
      "Applying baseline correction (mode: mean)\n",
      "0 projection items activated\n",
      "Not setting metadata\n",
      "100 matching events found\n",
      "Applying baseline correction (mode: mean)\n",
      "0 projection items activated\n",
      "Not setting metadata\n",
      "100 matching events found\n",
      "Applying baseline correction (mode: mean)\n",
      "0 projection items activated\n",
      "Not setting metadata\n",
      "100 matching events found\n",
      "Applying baseline correction (mode: mean)\n",
      "0 projection items activated\n",
      "Not setting metadata\n",
      "100 matching events found\n",
      "Applying baseline correction (mode: mean)\n",
      "0 projection items activated\n",
      "Not setting metadata\n",
      "100 matching events found\n",
      "Applying baseline correction (mode: mean)\n",
      "0 projection items activated\n",
      "Not setting metadata\n",
      "100 matching events found\n",
      "Applying baseline correction (mode: mean)\n",
      "0 projection items activated\n",
      "Not setting metadata\n",
      "100 matching events found\n",
      "Applying baseline correction (mode: mean)\n",
      "0 projection items activated\n",
      "Not setting metadata\n",
      "100 matching events found\n",
      "Applying baseline correction (mode: mean)\n",
      "0 projection items activated\n",
      "Not setting metadata\n",
      "100 matching events found\n",
      "Applying baseline correction (mode: mean)\n",
      "0 projection items activated\n",
      "Not setting metadata\n",
      "100 matching events found\n",
      "Applying baseline correction (mode: mean)\n",
      "0 projection items activated\n",
      "Not setting metadata\n",
      "100 matching events found\n",
      "Applying baseline correction (mode: mean)\n",
      "0 projection items activated\n",
      "Not setting metadata\n",
      "100 matching events found\n",
      "Applying baseline correction (mode: mean)\n",
      "0 projection items activated\n",
      "Not setting metadata\n",
      "100 matching events found\n",
      "Applying baseline correction (mode: mean)\n",
      "0 projection items activated\n",
      "Not setting metadata\n",
      "100 matching events found\n",
      "Applying baseline correction (mode: mean)\n",
      "0 projection items activated\n",
      "Not setting metadata\n",
      "100 matching events found\n",
      "Applying baseline correction (mode: mean)\n",
      "0 projection items activated\n",
      "Not setting metadata\n",
      "100 matching events found\n",
      "Applying baseline correction (mode: mean)\n",
      "0 projection items activated\n",
      "Not setting metadata\n",
      "100 matching events found\n",
      "Applying baseline correction (mode: mean)\n",
      "0 projection items activated\n",
      "Not setting metadata\n",
      "100 matching events found\n",
      "Applying baseline correction (mode: mean)\n",
      "0 projection items activated\n",
      "Not setting metadata\n",
      "100 matching events found\n",
      "Applying baseline correction (mode: mean)\n",
      "0 projection items activated\n",
      "Not setting metadata\n",
      "100 matching events found\n",
      "Applying baseline correction (mode: mean)\n",
      "0 projection items activated\n",
      "Not setting metadata\n",
      "100 matching events found\n",
      "Applying baseline correction (mode: mean)\n",
      "0 projection items activated\n",
      "Not setting metadata\n",
      "100 matching events found\n",
      "Applying baseline correction (mode: mean)\n",
      "0 projection items activated\n",
      "Not setting metadata\n",
      "100 matching events found\n",
      "Applying baseline correction (mode: mean)\n",
      "0 projection items activated\n",
      "Not setting metadata\n",
      "100 matching events found\n",
      "Applying baseline correction (mode: mean)\n",
      "0 projection items activated\n",
      "Not setting metadata\n",
      "100 matching events found\n",
      "Applying baseline correction (mode: mean)\n",
      "0 projection items activated\n",
      "Not setting metadata\n",
      "100 matching events found\n",
      "Applying baseline correction (mode: mean)\n",
      "0 projection items activated\n",
      "Not setting metadata\n",
      "100 matching events found\n",
      "Applying baseline correction (mode: mean)\n",
      "0 projection items activated\n",
      "Not setting metadata\n",
      "100 matching events found\n",
      "Applying baseline correction (mode: mean)\n",
      "0 projection items activated\n",
      "Not setting metadata\n",
      "100 matching events found\n",
      "Applying baseline correction (mode: mean)\n",
      "0 projection items activated\n",
      "Not setting metadata\n",
      "100 matching events found\n",
      "Applying baseline correction (mode: mean)\n",
      "0 projection items activated\n",
      "Not setting metadata\n",
      "100 matching events found\n",
      "Applying baseline correction (mode: mean)\n",
      "0 projection items activated\n",
      "Not setting metadata\n",
      "100 matching events found\n",
      "Applying baseline correction (mode: mean)\n",
      "0 projection items activated\n",
      "Not setting metadata\n",
      "100 matching events found\n",
      "Applying baseline correction (mode: mean)\n",
      "0 projection items activated\n",
      "Not setting metadata\n",
      "100 matching events found\n",
      "Applying baseline correction (mode: mean)\n",
      "0 projection items activated\n",
      "Not setting metadata\n",
      "100 matching events found\n",
      "Applying baseline correction (mode: mean)\n",
      "0 projection items activated\n",
      "Not setting metadata\n",
      "100 matching events found\n",
      "Applying baseline correction (mode: mean)\n",
      "0 projection items activated\n",
      "Not setting metadata\n",
      "100 matching events found\n",
      "Applying baseline correction (mode: mean)\n",
      "0 projection items activated\n",
      "Not setting metadata\n",
      "100 matching events found\n",
      "Applying baseline correction (mode: mean)\n",
      "0 projection items activated\n",
      "Not setting metadata\n",
      "100 matching events found\n",
      "Applying baseline correction (mode: mean)\n",
      "0 projection items activated\n",
      "Not setting metadata\n",
      "100 matching events found\n",
      "Applying baseline correction (mode: mean)\n",
      "0 projection items activated\n",
      "Not setting metadata\n",
      "100 matching events found\n",
      "Applying baseline correction (mode: mean)\n",
      "0 projection items activated\n",
      "Not setting metadata\n",
      "100 matching events found\n",
      "Applying baseline correction (mode: mean)\n",
      "0 projection items activated\n",
      "Not setting metadata\n",
      "100 matching events found\n",
      "Applying baseline correction (mode: mean)\n",
      "0 projection items activated\n",
      "Not setting metadata\n",
      "100 matching events found\n",
      "Applying baseline correction (mode: mean)\n",
      "0 projection items activated\n",
      "Not setting metadata\n",
      "100 matching events found\n",
      "Applying baseline correction (mode: mean)\n",
      "0 projection items activated\n",
      "Not setting metadata\n",
      "100 matching events found\n",
      "Applying baseline correction (mode: mean)\n",
      "0 projection items activated\n",
      "Not setting metadata\n",
      "100 matching events found\n",
      "Applying baseline correction (mode: mean)\n",
      "0 projection items activated\n",
      "Not setting metadata\n",
      "100 matching events found\n",
      "Applying baseline correction (mode: mean)\n",
      "0 projection items activated\n",
      "Not setting metadata\n",
      "100 matching events found\n",
      "Applying baseline correction (mode: mean)\n",
      "0 projection items activated\n",
      "Not setting metadata\n",
      "100 matching events found\n",
      "Applying baseline correction (mode: mean)\n",
      "0 projection items activated\n",
      "Not setting metadata\n",
      "100 matching events found\n",
      "Applying baseline correction (mode: mean)\n",
      "0 projection items activated\n",
      "Not setting metadata\n",
      "100 matching events found\n",
      "Applying baseline correction (mode: mean)\n",
      "0 projection items activated\n",
      "Not setting metadata\n",
      "100 matching events found\n",
      "Applying baseline correction (mode: mean)\n",
      "0 projection items activated\n",
      "Not setting metadata\n",
      "100 matching events found\n",
      "Applying baseline correction (mode: mean)\n",
      "0 projection items activated\n",
      "Not setting metadata\n",
      "100 matching events found\n",
      "Applying baseline correction (mode: mean)\n",
      "0 projection items activated\n",
      "Not setting metadata\n",
      "100 matching events found\n",
      "Applying baseline correction (mode: mean)\n",
      "0 projection items activated\n",
      "Not setting metadata\n",
      "100 matching events found\n",
      "Applying baseline correction (mode: mean)\n",
      "0 projection items activated\n",
      "Not setting metadata\n",
      "100 matching events found\n",
      "Applying baseline correction (mode: mean)\n",
      "0 projection items activated\n",
      "Not setting metadata\n",
      "100 matching events found\n",
      "Applying baseline correction (mode: mean)\n",
      "0 projection items activated\n",
      "Not setting metadata\n",
      "100 matching events found\n",
      "Applying baseline correction (mode: mean)\n",
      "0 projection items activated\n",
      "Not setting metadata\n",
      "100 matching events found\n",
      "Applying baseline correction (mode: mean)\n",
      "0 projection items activated\n",
      "Not setting metadata\n",
      "100 matching events found\n",
      "Applying baseline correction (mode: mean)\n",
      "0 projection items activated\n",
      "Not setting metadata\n",
      "100 matching events found\n",
      "Applying baseline correction (mode: mean)\n",
      "0 projection items activated\n",
      "Not setting metadata\n",
      "100 matching events found\n",
      "Applying baseline correction (mode: mean)\n",
      "0 projection items activated\n",
      "Not setting metadata\n",
      "100 matching events found\n",
      "Applying baseline correction (mode: mean)\n",
      "0 projection items activated\n",
      "Not setting metadata\n",
      "100 matching events found\n",
      "Applying baseline correction (mode: mean)\n",
      "0 projection items activated\n",
      "Not setting metadata\n",
      "100 matching events found\n",
      "Applying baseline correction (mode: mean)\n",
      "0 projection items activated\n",
      "Not setting metadata\n",
      "100 matching events found\n",
      "Applying baseline correction (mode: mean)\n",
      "0 projection items activated\n",
      "Not setting metadata\n",
      "100 matching events found\n",
      "Applying baseline correction (mode: mean)\n",
      "0 projection items activated\n",
      "Not setting metadata\n",
      "120 matching events found\n",
      "Applying baseline correction (mode: mean)\n",
      "0 projection items activated\n",
      "Not setting metadata\n",
      "120 matching events found\n",
      "Applying baseline correction (mode: mean)\n",
      "0 projection items activated\n",
      "Not setting metadata\n",
      "100 matching events found\n",
      "Applying baseline correction (mode: mean)\n",
      "0 projection items activated\n",
      "Not setting metadata\n",
      "100 matching events found\n",
      "Applying baseline correction (mode: mean)\n",
      "0 projection items activated\n",
      "Not setting metadata\n",
      "100 matching events found\n",
      "Applying baseline correction (mode: mean)\n",
      "0 projection items activated\n",
      "Not setting metadata\n",
      "100 matching events found\n",
      "Applying baseline correction (mode: mean)\n",
      "0 projection items activated\n",
      "Not setting metadata\n",
      "100 matching events found\n",
      "Applying baseline correction (mode: mean)\n",
      "0 projection items activated\n",
      "Not setting metadata\n",
      "100 matching events found\n",
      "Applying baseline correction (mode: mean)\n",
      "0 projection items activated\n",
      "Not setting metadata\n",
      "100 matching events found\n",
      "Applying baseline correction (mode: mean)\n",
      "0 projection items activated\n",
      "Not setting metadata\n",
      "100 matching events found\n",
      "Applying baseline correction (mode: mean)\n",
      "0 projection items activated\n",
      "Not setting metadata\n",
      "100 matching events found\n",
      "Applying baseline correction (mode: mean)\n",
      "0 projection items activated\n",
      "Not setting metadata\n",
      "100 matching events found\n",
      "Applying baseline correction (mode: mean)\n",
      "0 projection items activated\n",
      "Not setting metadata\n",
      "100 matching events found\n",
      "Applying baseline correction (mode: mean)\n",
      "0 projection items activated\n",
      "Not setting metadata\n",
      "100 matching events found\n",
      "Applying baseline correction (mode: mean)\n",
      "0 projection items activated\n",
      "Using data from preloaded Raw for 100 events and 2049 original time points ...\n",
      "0 bad epochs dropped\n",
      "Using data from preloaded Raw for 100 events and 2049 original time points ...\n",
      "0 bad epochs dropped\n",
      "Using data from preloaded Raw for 100 events and 2049 original time points ...\n",
      "0 bad epochs dropped\n",
      "Using data from preloaded Raw for 100 events and 2049 original time points ...\n",
      "0 bad epochs dropped\n",
      "Using data from preloaded Raw for 100 events and 2049 original time points ...\n",
      "0 bad epochs dropped\n",
      "Using data from preloaded Raw for 100 events and 2049 original time points ...\n",
      "0 bad epochs dropped\n",
      "Using data from preloaded Raw for 100 events and 2049 original time points ...\n",
      "0 bad epochs dropped\n",
      "Using data from preloaded Raw for 100 events and 2049 original time points ...\n",
      "0 bad epochs dropped\n",
      "Using data from preloaded Raw for 100 events and 2049 original time points ...\n",
      "0 bad epochs dropped\n",
      "Using data from preloaded Raw for 100 events and 2049 original time points ...\n",
      "0 bad epochs dropped\n",
      "Using data from preloaded Raw for 100 events and 2049 original time points ...\n",
      "0 bad epochs dropped\n",
      "Using data from preloaded Raw for 100 events and 2049 original time points ...\n",
      "0 bad epochs dropped\n",
      "Using data from preloaded Raw for 120 events and 2049 original time points ...\n",
      "0 bad epochs dropped\n",
      "Using data from preloaded Raw for 120 events and 2049 original time points ...\n",
      "0 bad epochs dropped\n",
      "Using data from preloaded Raw for 100 events and 2049 original time points ...\n",
      "0 bad epochs dropped\n",
      "Using data from preloaded Raw for 100 events and 2049 original time points ...\n",
      "0 bad epochs dropped\n",
      "Using data from preloaded Raw for 120 events and 2049 original time points ...\n",
      "0 bad epochs dropped\n",
      "Using data from preloaded Raw for 120 events and 2049 original time points ...\n",
      "0 bad epochs dropped\n",
      "Using data from preloaded Raw for 100 events and 2049 original time points ...\n",
      "0 bad epochs dropped\n",
      "Using data from preloaded Raw for 100 events and 2049 original time points ...\n",
      "0 bad epochs dropped\n",
      "Using data from preloaded Raw for 100 events and 2049 original time points ...\n",
      "0 bad epochs dropped\n",
      "Using data from preloaded Raw for 100 events and 2049 original time points ...\n",
      "0 bad epochs dropped\n",
      "Using data from preloaded Raw for 100 events and 2049 original time points ...\n",
      "0 bad epochs dropped\n",
      "Using data from preloaded Raw for 100 events and 2049 original time points ...\n",
      "0 bad epochs dropped\n",
      "Using data from preloaded Raw for 100 events and 2049 original time points ...\n",
      "0 bad epochs dropped\n",
      "Using data from preloaded Raw for 100 events and 2049 original time points ...\n",
      "0 bad epochs dropped\n",
      "Using data from preloaded Raw for 100 events and 2049 original time points ...\n",
      "0 bad epochs dropped\n",
      "Using data from preloaded Raw for 100 events and 2049 original time points ...\n",
      "0 bad epochs dropped\n",
      "Using data from preloaded Raw for 100 events and 2049 original time points ...\n",
      "0 bad epochs dropped\n",
      "Using data from preloaded Raw for 100 events and 2049 original time points ...\n",
      "0 bad epochs dropped\n",
      "Using data from preloaded Raw for 100 events and 2049 original time points ...\n",
      "0 bad epochs dropped\n",
      "Using data from preloaded Raw for 100 events and 2049 original time points ...\n",
      "0 bad epochs dropped\n",
      "Using data from preloaded Raw for 100 events and 2049 original time points ...\n",
      "0 bad epochs dropped\n",
      "Using data from preloaded Raw for 100 events and 2049 original time points ...\n",
      "0 bad epochs dropped\n",
      "Using data from preloaded Raw for 100 events and 2049 original time points ...\n",
      "0 bad epochs dropped\n",
      "Using data from preloaded Raw for 100 events and 2049 original time points ...\n",
      "0 bad epochs dropped\n",
      "Using data from preloaded Raw for 100 events and 2049 original time points ...\n",
      "0 bad epochs dropped\n",
      "Using data from preloaded Raw for 100 events and 2049 original time points ...\n",
      "0 bad epochs dropped\n",
      "Using data from preloaded Raw for 100 events and 2049 original time points ...\n",
      "0 bad epochs dropped\n",
      "Using data from preloaded Raw for 100 events and 2049 original time points ...\n",
      "0 bad epochs dropped\n",
      "Using data from preloaded Raw for 100 events and 2049 original time points ...\n",
      "0 bad epochs dropped\n",
      "Using data from preloaded Raw for 100 events and 2049 original time points ...\n",
      "0 bad epochs dropped\n",
      "Using data from preloaded Raw for 100 events and 2049 original time points ...\n",
      "0 bad epochs dropped\n",
      "Using data from preloaded Raw for 100 events and 2049 original time points ...\n",
      "0 bad epochs dropped\n",
      "Using data from preloaded Raw for 100 events and 2049 original time points ...\n",
      "0 bad epochs dropped\n",
      "Using data from preloaded Raw for 100 events and 2049 original time points ...\n",
      "0 bad epochs dropped\n",
      "Using data from preloaded Raw for 100 events and 2049 original time points ...\n",
      "0 bad epochs dropped\n",
      "Using data from preloaded Raw for 100 events and 2049 original time points ...\n",
      "0 bad epochs dropped\n",
      "Using data from preloaded Raw for 100 events and 2049 original time points ...\n",
      "0 bad epochs dropped\n",
      "Using data from preloaded Raw for 100 events and 2049 original time points ...\n",
      "0 bad epochs dropped\n",
      "Using data from preloaded Raw for 100 events and 2049 original time points ...\n",
      "0 bad epochs dropped\n",
      "Using data from preloaded Raw for 100 events and 2049 original time points ...\n",
      "0 bad epochs dropped\n",
      "Using data from preloaded Raw for 100 events and 2049 original time points ...\n",
      "0 bad epochs dropped\n",
      "Using data from preloaded Raw for 100 events and 2049 original time points ...\n",
      "0 bad epochs dropped\n",
      "Using data from preloaded Raw for 100 events and 2049 original time points ...\n",
      "0 bad epochs dropped\n",
      "Using data from preloaded Raw for 100 events and 2049 original time points ...\n",
      "0 bad epochs dropped\n",
      "Using data from preloaded Raw for 100 events and 2049 original time points ...\n",
      "0 bad epochs dropped\n",
      "Using data from preloaded Raw for 100 events and 2049 original time points ...\n",
      "0 bad epochs dropped\n",
      "Using data from preloaded Raw for 100 events and 2049 original time points ...\n",
      "0 bad epochs dropped\n",
      "Using data from preloaded Raw for 100 events and 2049 original time points ...\n",
      "0 bad epochs dropped\n",
      "Using data from preloaded Raw for 100 events and 2049 original time points ...\n",
      "0 bad epochs dropped\n",
      "Using data from preloaded Raw for 100 events and 2049 original time points ...\n",
      "0 bad epochs dropped\n",
      "Using data from preloaded Raw for 100 events and 2049 original time points ...\n",
      "0 bad epochs dropped\n",
      "Using data from preloaded Raw for 100 events and 2049 original time points ...\n",
      "0 bad epochs dropped\n",
      "Using data from preloaded Raw for 100 events and 2049 original time points ...\n",
      "0 bad epochs dropped\n",
      "Using data from preloaded Raw for 100 events and 2049 original time points ...\n",
      "0 bad epochs dropped\n",
      "Using data from preloaded Raw for 100 events and 2049 original time points ...\n",
      "0 bad epochs dropped\n",
      "Using data from preloaded Raw for 100 events and 2049 original time points ...\n",
      "0 bad epochs dropped\n",
      "Using data from preloaded Raw for 100 events and 2049 original time points ...\n",
      "0 bad epochs dropped\n",
      "Using data from preloaded Raw for 100 events and 2049 original time points ...\n",
      "0 bad epochs dropped\n",
      "Using data from preloaded Raw for 100 events and 2049 original time points ...\n",
      "0 bad epochs dropped\n",
      "Using data from preloaded Raw for 100 events and 2049 original time points ...\n",
      "0 bad epochs dropped\n",
      "Using data from preloaded Raw for 100 events and 2049 original time points ...\n",
      "0 bad epochs dropped\n",
      "Using data from preloaded Raw for 100 events and 2049 original time points ...\n",
      "0 bad epochs dropped\n",
      "Using data from preloaded Raw for 100 events and 2049 original time points ...\n",
      "0 bad epochs dropped\n",
      "Using data from preloaded Raw for 100 events and 2049 original time points ...\n",
      "0 bad epochs dropped\n",
      "Using data from preloaded Raw for 100 events and 2049 original time points ...\n",
      "0 bad epochs dropped\n",
      "Using data from preloaded Raw for 100 events and 2049 original time points ...\n",
      "0 bad epochs dropped\n",
      "Using data from preloaded Raw for 100 events and 2049 original time points ...\n",
      "0 bad epochs dropped\n",
      "Using data from preloaded Raw for 100 events and 2049 original time points ...\n",
      "0 bad epochs dropped\n",
      "Using data from preloaded Raw for 100 events and 2049 original time points ...\n",
      "0 bad epochs dropped\n",
      "Using data from preloaded Raw for 100 events and 2049 original time points ...\n",
      "0 bad epochs dropped\n",
      "Using data from preloaded Raw for 100 events and 2049 original time points ...\n",
      "0 bad epochs dropped\n",
      "Using data from preloaded Raw for 100 events and 2049 original time points ...\n",
      "0 bad epochs dropped\n",
      "Using data from preloaded Raw for 100 events and 2049 original time points ...\n",
      "0 bad epochs dropped\n",
      "Using data from preloaded Raw for 100 events and 2049 original time points ...\n",
      "0 bad epochs dropped\n",
      "Using data from preloaded Raw for 100 events and 2049 original time points ...\n",
      "0 bad epochs dropped\n",
      "Using data from preloaded Raw for 100 events and 2049 original time points ...\n",
      "0 bad epochs dropped\n",
      "Using data from preloaded Raw for 100 events and 2049 original time points ...\n",
      "0 bad epochs dropped\n",
      "Using data from preloaded Raw for 100 events and 2049 original time points ...\n",
      "0 bad epochs dropped\n",
      "Using data from preloaded Raw for 120 events and 2049 original time points ...\n",
      "0 bad epochs dropped\n",
      "Using data from preloaded Raw for 120 events and 2049 original time points ...\n",
      "0 bad epochs dropped\n",
      "Using data from preloaded Raw for 100 events and 2049 original time points ...\n",
      "0 bad epochs dropped\n",
      "Using data from preloaded Raw for 100 events and 2049 original time points ...\n",
      "0 bad epochs dropped\n",
      "Using data from preloaded Raw for 100 events and 2049 original time points ...\n",
      "0 bad epochs dropped\n",
      "Using data from preloaded Raw for 100 events and 2049 original time points ...\n",
      "0 bad epochs dropped\n",
      "Using data from preloaded Raw for 100 events and 2049 original time points ...\n",
      "0 bad epochs dropped\n",
      "Using data from preloaded Raw for 100 events and 2049 original time points ...\n",
      "0 bad epochs dropped\n",
      "Using data from preloaded Raw for 100 events and 2049 original time points ...\n",
      "0 bad epochs dropped\n",
      "Using data from preloaded Raw for 100 events and 2049 original time points ...\n",
      "0 bad epochs dropped\n",
      "Using data from preloaded Raw for 100 events and 2049 original time points ...\n",
      "0 bad epochs dropped\n",
      "Using data from preloaded Raw for 100 events and 2049 original time points ...\n",
      "0 bad epochs dropped\n",
      "Using data from preloaded Raw for 100 events and 2049 original time points ...\n",
      "0 bad epochs dropped\n",
      "Using data from preloaded Raw for 100 events and 2049 original time points ...\n",
      "0 bad epochs dropped\n"
     ]
    }
   ],
   "source": [
    "# Epochs 생성\n",
    "le = []\n",
    "re = []\n",
    "for i in range(0, slen):\n",
    "    le.append(mne.Epochs(raw[LEFT][i], events[LEFT][i], tmin=-1, tmax=3, baseline=(-0.5, 0)))\n",
    "    re.append(mne.Epochs(raw[RIGHT][i], events[RIGHT][i], tmin=-1, tmax=3, baseline=(-0.5, 0)))\n",
    "epochs = [le, re]\n",
    "\n",
    "# Pick C3, C4\n",
    "for i in range(0, slen):\n",
    "    epochs[LEFT][i].load_data()\n",
    "    epochs[RIGHT][i].load_data()\n",
    "    \n",
    "    epochs[LEFT][i].pick(['C3', 'C4'])\n",
    "    epochs[RIGHT][i].pick(['C3', 'C4'])"
   ]
  },
  {
   "cell_type": "markdown",
   "metadata": {},
   "source": [
    "### 🧮```abs()```"
   ]
  },
  {
   "cell_type": "code",
   "execution_count": 12,
   "metadata": {},
   "outputs": [],
   "source": [
    "ld = []\n",
    "rd = []\n",
    "for i in range(0, slen):\n",
    "    ld.append(np.abs(epochs[LEFT][i].get_data()))\n",
    "    rd.append(np.abs(epochs[RIGHT][i].get_data()))\n",
    "data = [ld, rd]"
   ]
  },
  {
   "cell_type": "markdown",
   "metadata": {},
   "source": [
    "### 📈Mean of Left, Right MI"
   ]
  },
  {
   "cell_type": "code",
   "execution_count": 13,
   "metadata": {},
   "outputs": [],
   "source": [
    "# 3차원(2 X 52 X 100)의 데이터를 2차원으로 축소 (2 X 5200)\n",
    "ld = []\n",
    "rd = []\n",
    "\n",
    "for i in range(0, slen):\n",
    "    for j in range(0, len(data[LEFT][i])):\n",
    "        ld.append(data[LEFT][i][j])\n",
    "        rd.append(data[RIGHT][i][j])\n",
    "data = [ld, rd]\n",
    "\n",
    "# 평균 구하기\n",
    "data = [np.mean(data[LEFT], axis=0), np.mean(data[RIGHT], axis=0)]"
   ]
  },
  {
   "cell_type": "code",
   "execution_count": 14,
   "metadata": {},
   "outputs": [],
   "source": [
    "C3 = 0\n",
    "C4 = 1"
   ]
  },
  {
   "cell_type": "code",
   "execution_count": 15,
   "metadata": {},
   "outputs": [
    {
     "data": {
      "image/png": "[encoded data removed]",
      "text/plain": [
       "<Figure size 800x1500 with 3 Axes>"
      ]
     },
     "metadata": {},
     "output_type": "display_data"
    }
   ],
   "source": [
    "# 예시 데이터 plot\n",
    "fig, axes = plt.subplots(nrows=3, ncols=1, figsize=(8, 15))\n",
    "\n",
    "axes[0].plot(data[LEFT][C3], label='C3')\n",
    "axes[0].plot(data[LEFT][C4], label='C4')\n",
    "axes[0].set_title(\"Left\")\n",
    "axes[0].legend()\n",
    "\n",
    "axes[1].plot(data[RIGHT][C3], label='C3')\n",
    "axes[1].plot(data[RIGHT][C4], label='C4')\n",
    "axes[1].set_title(\"Right\")\n",
    "axes[1].legend()\n",
    "\n",
    "axes[2].plot(data[LEFT][C3] - data[RIGHT][C3], label='C3')\n",
    "axes[2].plot(data[LEFT][C4] - data[RIGHT][C4], label='C4')\n",
    "axes[2].set_title(\"Left - Right\")\n",
    "axes[2].legend()\n",
    "\n",
    "plt.show()"
   ]
  }
 ],
 "metadata": {
  "kernelspec": {
   "display_name": "Python 3",
   "language": "python",
   "name": "python3"
  },
  "language_info": {
   "codemirror_mode": {
    "name": "ipython",
    "version": 3
   },
   "file_extension": ".py",
   "mimetype": "text/x-python",
   "name": "python",
   "nbconvert_exporter": "python",
   "pygments_lexer": "ipython3",
   "version": "3.10.11"
  },
  "orig_nbformat": 4
 },
 "nbformat": 4,
 "nbformat_minor": 2
}
