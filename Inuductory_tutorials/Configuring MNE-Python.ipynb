{
 "cells": [
  {
   "cell_type": "markdown",
   "metadata": {},
   "source": [
    "# Configuring MNE-Python\n",
    "---"
   ]
  },
  {
   "cell_type": "markdown",
   "metadata": {},
   "source": [
    "> \"요약하자면, 구성은 소프트웨어의 특성을 정의하고 조정하는 값들을 포함하는 데이터 세트이며, 환경 변수는 운영 체제 또는 실행 환경에서 사용되는 변수로, 소프트웨어가 실행 중에 데이터를 저장하거나 전달하는 데 사용됩니다. 때때로 환경 변수는 구성 값을 설정하는 데 사용되기도 하지만, 구성과 환경 변수는 다른 개념으로 구성은 주로 소프트웨어의 동작을 구체화하고 조정하는 데 사용되며, 환경 변수는 소프트웨어 실행 환경에서 동작하는 데 도움이 되는 데이터를 저장하는 데 사용됩니다.\" - by chatGPT"
   ]
  },
  {
   "cell_type": "code",
   "execution_count": 52,
   "metadata": {},
   "outputs": [],
   "source": [
    "import numpy as np \n",
    "import mne\n",
    "import os"
   ]
  },
  {
   "cell_type": "markdown",
   "metadata": {},
   "source": [
    "#### Getting and setting configuration variables   \n",
    "\n",
    "구성 변수 설정은 ```mne.get_config()```와 ```mne.set_config()```를 통해 일고 쓸 수 있다.\n"
   ]
  },
  {
   "cell_type": "code",
   "execution_count": 53,
   "metadata": {},
   "outputs": [
    {
     "name": "stdout",
     "output_type": "stream",
     "text": [
      "None\n",
      "<class 'NoneType'>\n"
     ]
    }
   ],
   "source": [
    "print(mne.get_config(\"MNE_USE_CUDA\"))\n",
    "print(type(mne.get_config(\"MNE_USE_CUDA\")))"
   ]
  },
  {
   "cell_type": "code",
   "execution_count": 54,
   "metadata": {},
   "outputs": [
    {
     "name": "stdout",
     "output_type": "stream",
     "text": [
      "value must be an instance of str, path-like, or NoneType, got <class 'bool'> instead.\n"
     ]
    }
   ],
   "source": [
    "# JSON 파일에서 읽어오고 설정해주기 때문에 boolean 값이 아닌 str 값으로 해줘야 한다.\n",
    "# 그러므로 아래 코드는 에러를 발생한다. -> \"True\" 로 수정해야 함.\n",
    "try:\n",
    "    mne.set_config(\"MNE_USE_CUDA\", True)\n",
    "except TypeError as err:\n",
    "    print(err)"
   ]
  },
  {
   "cell_type": "code",
   "execution_count": 55,
   "metadata": {},
   "outputs": [
    {
     "name": "stdout",
     "output_type": "stream",
     "text": [
      "fallback value\n"
     ]
    }
   ],
   "source": [
    "# default parameter: 해당하는 key를 찾지 못했을 때 parameter에 대입된 문자열을 반환 (환경변수 설정 확인용)\n",
    "print(mne.get_config(\"missing_config_key\", default=\"fallback value\"))"
   ]
  },
  {
   "cell_type": "code",
   "execution_count": 56,
   "metadata": {},
   "outputs": [
    {
     "name": "stdout",
     "output_type": "stream",
     "text": [
      "{'MNEE_USE_CUUDAA': 'false', 'MNE_BROWSE_RAW_SIZE': '8.0,8.0', 'MNE_DATASETS_SAMPLE_PATH': 'C:\\\\Users\\\\supli\\\\mne_data', 'MNE_LOGGING_LEVEL': 'info'}\n"
     ]
    }
   ],
   "source": [
    "# 시스템에 설정된 구성변수 return\n",
    "print(mne.get_config())  # same as mne.get_config(key=None)"
   ]
  },
  {
   "cell_type": "code",
   "execution_count": 57,
   "metadata": {},
   "outputs": [
    {
     "name": "stdout",
     "output_type": "stream",
     "text": [
      "{'MNE_3D_OPTION_ANTIALIAS': 'bool, whether to use full-screen antialiasing in 3D plots', 'MNE_3D_OPTION_DEPTH_PEELING': 'bool, whether to use depth peeling in 3D plots', 'MNE_3D_OPTION_MULTI_SAMPLES': 'int, number of samples to use for full-screen antialiasing', 'MNE_3D_OPTION_SMOOTH_SHADING': 'bool, whether to use smooth shading in 3D plots', 'MNE_3D_OPTION_THEME': 'str, the color theme (light or dark) to use for 3D plots', 'MNE_BROWSE_RAW_SIZE': 'tuple, width and height of the raw browser window (in inches)', 'MNE_BROWSER_BACKEND': 'str, the backend to use for the MNE Browse Raw window (qt or matplotlib)', 'MNE_BROWSER_OVERVIEW_MODE': 'str, the overview mode to use in the MNE Browse Raw window )(see mne.viz.plot_raw for valid options)', 'MNE_BROWSER_PRECOMPUTE': 'bool, whether to precompute raw data in the MNE Browse Raw window', 'MNE_BROWSER_THEME': 'str, the color theme (light or dark) to use for the browser', 'MNE_BROWSER_USE_OPENGL': 'bool, whether to use OpenGL for rendering in the MNE Browse Raw window', 'MNE_CACHE_DIR': 'str, path to the cache directory for parallel execution', 'MNE_COREG_ADVANCED_RENDERING': 'bool, whether to use advanced OpenGL rendering in mne coreg', 'MNE_COREG_COPY_ANNOT': 'bool, whether to copy the annotation files during warping', 'MNE_COREG_FULLSCREEN': 'bool, whether to use full-screen mode in mne coreg', 'MNE_COREG_GUESS_MRI_SUBJECT': 'bool, whether to guess the MRI subject in mne coreg', 'MNE_COREG_HEAD_HIGH_RES': 'bool, whether to use high-res head surface in mne coreg', 'MNE_COREG_HEAD_OPACITY': 'bool, the head surface opacity to use in mne coreg', 'MNE_COREG_HEAD_INSIDE': 'bool, whether to add an opaque inner scalp head surface to help occlude points behind the head in mne coreg', 'MNE_COREG_INTERACTION': 'str, interaction style in mne coreg (trackball or terrain)', 'MNE_COREG_MARK_INSIDE': 'bool, whether to mark points inside the head surface in mne coreg', 'MNE_COREG_PREPARE_BEM': 'bool, whether to prepare the BEM solution after warping in mne coreg', 'MNE_COREG_ORIENT_TO_SURFACE': 'bool, whether to orient the digitization markers to the head surface in mne coreg', 'MNE_COREG_SCALE_LABELS': 'bool, whether to scale the MRI labels during warping in mne coreg', 'MNE_COREG_SCALE_BY_DISTANCE': 'bool, whether to scale the digitization markers by their distance from the scalp in mne coreg', 'MNE_COREG_SCENE_SCALE': 'float, the scale factor of the 3D scene in mne coreg (default 0.16)', 'MNE_COREG_WINDOW_HEIGHT': 'int, window height for mne coreg', 'MNE_COREG_WINDOW_WIDTH': 'int, window width for mne coreg', 'MNE_COREG_SUBJECTS_DIR': 'str, path to the subjects directory for mne coreg', 'MNE_CUDA_DEVICE': 'int, CUDA device to use for GPU processing', 'MNE_DATA': 'str, default data directory', 'MNE_DATASETS_BRAINSTORM_PATH': 'str, path for brainstorm data', 'MNE_DATASETS_EEGBCI_PATH': 'str, path for EEGBCI data', 'MNE_DATASETS_EPILEPSY_ECOG_PATH': 'str, path for epilepsy_ecog data', 'MNE_DATASETS_HF_SEF_PATH': 'str, path for HF_SEF data', 'MNE_DATASETS_MEGSIM_PATH': 'str, path for MEGSIM data', 'MNE_DATASETS_MISC_PATH': 'str, path for misc data', 'MNE_DATASETS_MTRF_PATH': 'str, path for MTRF data', 'MNE_DATASETS_SAMPLE_PATH': 'str, path for sample data', 'MNE_DATASETS_SOMATO_PATH': 'str, path for somato data', 'MNE_DATASETS_MULTIMODAL_PATH': 'str, path for multimodal data', 'MNE_DATASETS_FNIRS_MOTOR_PATH': 'str, path for fnirs_motor data', 'MNE_DATASETS_OPM_PATH': 'str, path for OPM data', 'MNE_DATASETS_SPM_FACE_DATASETS_TESTS': 'str, path for spm_face data', 'MNE_DATASETS_SPM_FACE_PATH': 'str, path for spm_face data', 'MNE_DATASETS_TESTING_PATH': 'str, path for testing data', 'MNE_DATASETS_VISUAL_92_CATEGORIES_PATH': 'str, path for visual_92_categories data', 'MNE_DATASETS_KILOWORD_PATH': 'str, path for kiloword data', 'MNE_DATASETS_FIELDTRIP_CMC_PATH': 'str, path for fieldtrip_cmc data', 'MNE_DATASETS_PHANTOM_4DBTI_PATH': 'str, path for phantom_4dbti data', 'MNE_DATASETS_LIMO_PATH': 'str, path for limo data', 'MNE_DATASETS_REFMEG_NOISE_PATH': 'str, path for refmeg_noise data', 'MNE_DATASETS_SSVEP_PATH': 'str, path for ssvep data', 'MNE_DATASETS_ERP_CORE_PATH': 'str, path for erp_core data', 'MNE_FORCE_SERIAL': 'bool, force serial rather than parallel execution', 'MNE_LOGGING_LEVEL': 'str or int, controls the level of verbosity of any function decorated with @verbose. See https://mne.tools/stable/auto_tutorials/intro/50_configure_mne.html#logging', 'MNE_MEMMAP_MIN_SIZE': 'str, threshold on the minimum size of arrays passed to the workers that triggers automated memory mapping, e.g., 1M or 0.5G', 'MNE_REPR_HTML': 'bool, represent some of our objects with rich HTML in a notebook environment', 'MNE_SKIP_NETWORK_TESTS': 'bool, used in a test decorator (@requires_good_network) to skip tests that include large downloads', 'MNE_SKIP_TESTING_DATASET_TESTS': 'bool, used in test decorators (@requires_spm_data, @requires_bstraw_data) to skip tests that require specific datasets', 'MNE_STIM_CHANNEL': 'string, the default channel name for mne.find_events', 'MNE_TQDM': 'str, either \"tqdm\", \"tqdm.auto\", or \"off\". Controls presence/absence of progress bars', 'MNE_USE_CUDA': 'bool, use GPU for filtering/resampling', 'MNE_USE_NUMBA': 'bool, use Numba just-in-time compiler for some of our intensive computations', 'SUBJECTS_DIR': 'path-like, directory of freesurfer MRI files for each subject'}\n"
     ]
    }
   ],
   "source": [
    "# MNE-Python이 사용하는 구성변수 return\n",
    "print(mne.get_config(key=\"\"))"
   ]
  },
  {
   "cell_type": "code",
   "execution_count": 58,
   "metadata": {},
   "outputs": [
    {
     "name": "stderr",
     "output_type": "stream",
     "text": [
      "C:\\Users\\supli\\AppData\\Local\\Temp\\ipykernel_91808\\3400628601.py:2: RuntimeWarning: Setting non-standard config type: \"MNEE_USE_CUUDAA\"\n",
      "  mne.set_config(\"MNEE_USE_CUUDAA\", \"false\")\n"
     ]
    }
   ],
   "source": [
    "# key에 잘못된 값(false가 아닌 False)을 대입하는 경우 warning을 출력하며 작동하지 않는다\n",
    "mne.set_config(\"MNEE_USE_CUUDAA\", \"false\")"
   ]
  },
  {
   "cell_type": "code",
   "execution_count": 59,
   "metadata": {},
   "outputs": [
    {
     "name": "stdout",
     "output_type": "stream",
     "text": [
      "{'MNEE_USE_CUUDAA': 'false', 'MNE_BROWSE_RAW_SIZE': '8.0,8.0', 'MNE_DATASETS_SAMPLE_PATH': 'C:\\\\Users\\\\supli\\\\mne_data', 'MNE_LOGGING_LEVEL': 'info'}\n"
     ]
    }
   ],
   "source": [
    "# 설정한 구성변수 지우기 \n",
    "mne.set_config(\"MNE_USE_CUDA\", None)\n",
    "print(mne.get_config())"
   ]
  },
  {
   "cell_type": "markdown",
   "metadata": {},
   "source": [
    "#### Where configurations are stored   \n",
    "\n",
    "구성변수는 기본적으로 ```JSON``` 파일에 저장되어 있다."
   ]
  },
  {
   "cell_type": "code",
   "execution_count": 60,
   "metadata": {},
   "outputs": [
    {
     "name": "stdout",
     "output_type": "stream",
     "text": [
      "C:\\Users\\supli\\.mne\\mne-python.json\n"
     ]
    }
   ],
   "source": [
    "print(mne.get_config_path())"
   ]
  },
  {
   "cell_type": "markdown",
   "metadata": {},
   "source": [
    "위의 ```get_config_path()``` 와 같이 바로 ```JSON``` 파일에 접근할 수 있지만 그것보다는 위에서 배운 함수를 사용하여 접근하는 것이 더 안전하다."
   ]
  },
  {
   "cell_type": "markdown",
   "metadata": {},
   "source": [
    "#### Using environment variables   \n",
    "\n",
    "```get_config()```의 ```use_env``` 와 ```set_env``` parmeter를 통해 환경변수에 접근할 수 있다.   \n",
    "기본적으로 ```get_config()```를 호출하면 ```JSON``` 파일을 체크하기 전에 ```os.environ```을 체크하는데 ```use_env=False``` 하면 이를 생략한다."
   ]
  },
  {
   "cell_type": "code",
   "execution_count": 61,
   "metadata": {},
   "outputs": [
    {
     "name": "stdout",
     "output_type": "stream",
     "text": [
      "c:\\Users\\supli\\mne-python\\1.4.2_0;C:\\MinGW\\bin;C:\\Program Files\\MATLAB\\R2023a\\bin;C:\\Program Files\\Git\\cmd;C:\\Users\\supli\\AppData\\Local\\Programs\\Python\\Python311\\Scripts\\;C:\\Users\\supli\\AppData\\Local\\Programs\\Python\\Python311\\;C:\\Users\\supli\\AppData\\Local\\Microsoft\\WindowsApps;C:\\Users\\supli\\AppData\\Local\\Programs\\Microsoft VS Code\\bin;C:\\Users\\supli\\anaconda3\\Scripts;;C:\\MinGW\\bin;C:\\Program Files\\MATLAB\\R2023a\\bin;C:\\Program Files\\Git\\cmd;C:\\Users\\supli\\AppData\\Local\\Programs\\Python\\Python311\\Scripts\\;C:\\Users\\supli\\AppData\\Local\\Programs\\Python\\Python311\\;C:\\Users\\supli\\AppData\\Local\\Microsoft\\WindowsApps;C:\\Users\\supli\\AppData\\Local\\Programs\\Microsoft VS Code\\bin;C:\\Users\\supli\\anaconda3\\Scripts;\n"
     ]
    }
   ],
   "source": [
    "# make sure it's not in the JSON file (no error means our assertion held):\n",
    "assert mne.get_config(\"PATH\", use_env=False) is None\n",
    "# but it *is* in the environment:\n",
    "print(mne.get_config(\"PATH\"))"
   ]
  },
  {
   "cell_type": "markdown",
   "metadata": {},
   "source": [
    "```set_config()```에서도 마찬가지이다."
   ]
  },
  {
   "cell_type": "code",
   "execution_count": 62,
   "metadata": {},
   "outputs": [
    {
     "name": "stdout",
     "output_type": "stream",
     "text": [
      "False\n",
      "True\n",
      "False\n"
     ]
    },
    {
     "name": "stderr",
     "output_type": "stream",
     "text": [
      "C:\\Users\\supli\\AppData\\Local\\Temp\\ipykernel_91808\\2731098602.py:1: RuntimeWarning: Setting non-standard config type: \"foo\"\n",
      "  mne.set_config(\"foo\", \"bar\", set_env=False)\n",
      "C:\\Users\\supli\\AppData\\Local\\Temp\\ipykernel_91808\\2731098602.py:3: RuntimeWarning: Setting non-standard config type: \"foo\"\n",
      "  mne.set_config(\"foo\", \"bar\")\n",
      "C:\\Users\\supli\\AppData\\Local\\Temp\\ipykernel_91808\\2731098602.py:5: RuntimeWarning: Setting non-standard config type: \"foo\"\n",
      "  mne.set_config(\"foo\", None)  # unsetting a key deletes var from environment\n"
     ]
    }
   ],
   "source": [
    "mne.set_config(\"foo\", \"bar\", set_env=False)\n",
    "print(\"foo\" in os.environ.keys())\n",
    "mne.set_config(\"foo\", \"bar\")\n",
    "print(\"foo\" in os.environ.keys())\n",
    "mne.set_config(\"foo\", None)  # unsetting a key deletes var from environment\n",
    "print(\"foo\" in os.environ.keys())"
   ]
  },
  {
   "cell_type": "markdown",
   "metadata": {},
   "source": [
    "#### Logging   \n",
    "\n",
    "```MNE_LOGGING_LEVEL``` 구성 변수를 통해 MNE-Python의 작업 수행 정보를 알 수 있다.   \n",
    "기본적으로는 ```info```를 볼 수 있다."
   ]
  },
  {
   "cell_type": "code",
   "execution_count": 63,
   "metadata": {},
   "outputs": [
    {
     "name": "stdout",
     "output_type": "stream",
     "text": [
      "info\n"
     ]
    }
   ],
   "source": [
    "print(mne.get_config(\"MNE_LOGGING_LEVEL\"))"
   ]
  },
  {
   "cell_type": "markdown",
   "metadata": {},
   "source": [
    "```mne.set_log_level()```을 통해 ```MNE_LOGGING_LEVEL```을 변환시킬 수 있다.   \n",
    "\n",
    "\n",
    "|String|Integer|Boolean|\n",
    "|------|---|---|\n",
    "|DEBUG|10| |\n",
    "|INFO|20|True|\n",
    "|WARNING|30|False|\n",
    "|ERROR|40| |\n",
    "|CRITICAL|50| |"
   ]
  },
  {
   "cell_type": "markdown",
   "metadata": {},
   "source": [
    "또한 MNE-Python의 많은 함수들은 ```verbose``` parameter를 통해 일시적으로 logging level을 변환시킬 수 있다."
   ]
  },
  {
   "cell_type": "code",
   "execution_count": null,
   "metadata": {},
   "outputs": [],
   "source": [
    "# 오류 발생 (해당 파일 없음)\n",
    "# verbose=warning\n",
    "kit_data_path = os.path.join(\n",
    "    os.path.abspath(os.path.dirname(mne.__file__)),\n",
    "    \"io\",\n",
    "    \"kit\",\n",
    "    \"tests\",\n",
    "    \"data\",\n",
    "    \"test.sqd\",\n",
    ")\n",
    "raw = mne.io.read_raw_kit(kit_data_path, verbose=\"warning\")\n",
    "# 아무 메시지도 출력되지 않는다."
   ]
  },
  {
   "cell_type": "code",
   "execution_count": null,
   "metadata": {},
   "outputs": [],
   "source": [
    "# 오류 발생 (해당 파일 없음)\n",
    "# verbose=info\n",
    "raw = mne.io.read_raw_kit(kit_data_path, verbose=\"info\")"
   ]
  },
  {
   "cell_type": "markdown",
   "metadata": {},
   "source": [
    "결과:   \n",
    "```\n",
    "Extracting SQD Parameters from /home/circleci/project/mne/io/kit/tests/data/test.sqd...\n",
    "Creating Raw.info structure...\n",
    "Setting channel info structure...\n",
    "Creating Info structure...\n",
    "Ready.\n",
    "```"
   ]
  },
  {
   "cell_type": "code",
   "execution_count": null,
   "metadata": {},
   "outputs": [],
   "source": [
    "# 오류 발생 (해당 파일 없음)\n",
    "# verbose=debug\n",
    "with mne.use_log_level(\"debug\"):\n",
    "    raw = mne.io.read_raw_kit(kit_data_path)"
   ]
  },
  {
   "cell_type": "markdown",
   "metadata": {},
   "source": [
    "```\n",
    "Extracting SQD Parameters from /home/circleci/project/mne/io/kit/tests/data/test.sqd...\n",
    "Creating Raw.info structure...\n",
    "    KIT dir entry 0 @ 16\n",
    "    KIT dir entry 1 @ 32\n",
    "    KIT dir entry 2 @ 48\n",
    "    KIT dir entry 3 @ 64\n",
    "    KIT dir entry 4 @ 80\n",
    "    KIT dir entry 5 @ 96\n",
    "    KIT dir entry 6 @ 112\n",
    "    KIT dir entry 7 @ 128\n",
    "    KIT dir entry 8 @ 144\n",
    "    KIT dir entry 9 @ 160\n",
    "    KIT dir entry 10 @ 176\n",
    "    KIT dir entry 11 @ 192\n",
    "    KIT dir entry 12 @ 208\n",
    "    KIT dir entry 13 @ 224\n",
    "    KIT dir entry 14 @ 240\n",
    "    KIT dir entry 15 @ 256\n",
    "    KIT dir entry 16 @ 272\n",
    "    KIT dir entry 17 @ 288\n",
    "    KIT dir entry 18 @ 304\n",
    "    KIT dir entry 19 @ 320\n",
    "    KIT dir entry 20 @ 336\n",
    "    KIT dir entry 21 @ 352\n",
    "    KIT dir entry 22 @ 368\n",
    "    KIT dir entry 23 @ 384\n",
    "    KIT dir entry 24 @ 400\n",
    "    KIT dir entry 25 @ 416\n",
    "    KIT dir entry 26 @ 432\n",
    "    KIT dir entry 27 @ 448\n",
    "    KIT dir entry 28 @ 464\n",
    "    KIT dir entry 29 @ 480\n",
    "    KIT dir entry 30 @ 496\n",
    "SQD file basic information:\n",
    "Meg160 version = V2R004\n",
    "System ID      = 34\n",
    "System name    = NYU 160ch System since Jan24 2009\n",
    "Model name     = EQ1160C\n",
    "Channel count  = 192\n",
    "Comment        =\n",
    "Dewar style    = 2\n",
    "FLL type       = 10\n",
    "Trigger type   = 21\n",
    "A/D board type = 12\n",
    "ADC range      = +/-5.0[V]\n",
    "ADC allocate   = 16[bit]\n",
    "ADC bit        = 12[bit]\n",
    "Setting channel info structure...\n",
    "Creating Info structure...\n",
    "Ready.\n",
    "```"
   ]
  },
  {
   "cell_type": "markdown",
   "metadata": {},
   "source": [
    "#### Getting information about your system\n",
    "\n",
    "system에서 MNE 정보를 알 수 있다.\n",
    "\n",
    "```\n",
    "$ mne sys_info\n",
    "```   \n",
    "\n",
    "<img src=\"../img/Configuring MNE-Python/mne_sys_info.png\" width=1000>"
   ]
  }
 ],
 "metadata": {
  "kernelspec": {
   "display_name": "Python 3",
   "language": "python",
   "name": "python3"
  },
  "language_info": {
   "codemirror_mode": {
    "name": "ipython",
    "version": 3
   },
   "file_extension": ".py",
   "mimetype": "text/x-python",
   "name": "python",
   "nbconvert_exporter": "python",
   "pygments_lexer": "ipython3",
   "version": "3.10.10"
  },
  "orig_nbformat": 4
 },
 "nbformat": 4,
 "nbformat_minor": 2
}
