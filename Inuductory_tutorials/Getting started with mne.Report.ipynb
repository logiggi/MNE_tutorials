{
 "cells": [
  {
   "cell_type": "markdown",
   "metadata": {},
   "source": [
    "# Getting started with mne.Report\n",
    "---\n",
    "\n",
    "```mne.Report```는 데이터에 대한 HTML 문서를 만들 때 사용된다.   \n",
    "```mne.Report``` 는 ```Jupyter notebook``` 과 다르게 파이썬 환경이 필요하지 않다."
   ]
  },
  {
   "cell_type": "code",
   "execution_count": null,
   "metadata": {},
   "outputs": [],
   "source": [
    "# 예시 데이터\n",
    "from pathlib import Path\n",
    "import tempfile\n",
    "import numpy as np\n",
    "import scipy.ndimage\n",
    "import matplotlib.pyplot as plt\n",
    "import mne\n",
    "\n",
    "data_path = Path(mne.datasets.sample.data_path(verbose=False))\n",
    "sample_dir = data_path / \"MEG\" / \"sample\"\n",
    "subjects_dir = data_path / \"subjects\""
   ]
  },
  {
   "cell_type": "markdown",
   "metadata": {},
   "source": [
    "* MNE filename conventions\n",
    "\n",
    "<table class=\"table-bordered midvalign table\">\n",
    "<thead>\n",
    "<tr class=\"row-odd\"><th class=\"head\"><p>Data object</p></th>\n",
    "<th class=\"head\"><p>Filename convention (ends with)</p></th>\n",
    "</tr>\n",
    "</thead>\n",
    "<tbody>\n",
    "<tr class=\"row-even\"><td><p><a class=\"reference internal\" href=\"../../generated/mne.io.Raw.html#mne.io.Raw\" title=\"mne.io.Raw\"><code class=\"xref py py-obj docutils literal notranslate\"><span class=\"pre\">Raw</span></code></a></p></td>\n",
    "<td><p><code class=\"docutils literal notranslate\"><span class=\"pre\">-raw.fif(.gz)</span></code>, <code class=\"docutils literal notranslate\"><span class=\"pre\">-raw_sss.fif(.gz)</span></code>,\n",
    "<code class=\"docutils literal notranslate\"><span class=\"pre\">-raw_tsss.fif(.gz)</span></code>,\n",
    "<code class=\"docutils literal notranslate\"><span class=\"pre\">_meg.fif(.gz)</span></code>, <code class=\"docutils literal notranslate\"><span class=\"pre\">_eeg.fif(.gz)</span></code>,\n",
    "<code class=\"docutils literal notranslate\"><span class=\"pre\">_ieeg.fif(.gz)</span></code></p></td>\n",
    "</tr>\n",
    "<tr class=\"row-odd\"><td><p>events</p></td>\n",
    "<td><p><code class=\"docutils literal notranslate\"><span class=\"pre\">-eve.fif(.gz)</span></code></p></td>\n",
    "</tr>\n",
    "<tr class=\"row-even\"><td><p><a class=\"reference internal\" href=\"../../generated/mne.Epochs.html#mne.Epochs\" title=\"mne.Epochs\"><code class=\"xref py py-obj docutils literal notranslate\"><span class=\"pre\">Epochs</span></code></a></p></td>\n",
    "<td><p><code class=\"docutils literal notranslate\"><span class=\"pre\">-epo.fif(.gz)</span></code></p></td>\n",
    "</tr>\n",
    "<tr class=\"row-odd\"><td><p><a class=\"reference internal\" href=\"../../generated/mne.Evoked.html#mne.Evoked\" title=\"mne.Evoked\"><code class=\"xref py py-obj docutils literal notranslate\"><span class=\"pre\">Evoked</span></code></a></p></td>\n",
    "<td><p><code class=\"docutils literal notranslate\"><span class=\"pre\">-ave.fif(.gz)</span></code></p></td>\n",
    "</tr>\n",
    "<tr class=\"row-even\"><td><p><a class=\"reference internal\" href=\"../../generated/mne.Covariance.html#mne.Covariance\" title=\"mne.Covariance\"><code class=\"xref py py-obj docutils literal notranslate\"><span class=\"pre\">Covariance</span></code></a></p></td>\n",
    "<td><p><code class=\"docutils literal notranslate\"><span class=\"pre\">-cov.fif(.gz)</span></code></p></td>\n",
    "</tr>\n",
    "<tr class=\"row-odd\"><td><p><a class=\"reference internal\" href=\"../../generated/mne.Projection.html#mne.Projection\" title=\"mne.Projection\"><code class=\"xref py py-obj docutils literal notranslate\"><span class=\"pre\">Projection</span></code></a></p></td>\n",
    "<td><p><code class=\"docutils literal notranslate\"><span class=\"pre\">-proj.fif(.gz)</span></code></p></td>\n",
    "</tr>\n",
    "<tr class=\"row-even\"><td><p><a class=\"reference internal\" href=\"../../generated/mne.transforms.Transform.html#mne.transforms.Transform\" title=\"mne.transforms.Transform\"><code class=\"xref py py-obj docutils literal notranslate\"><span class=\"pre\">Transform</span></code></a></p></td>\n",
    "<td><p><code class=\"docutils literal notranslate\"><span class=\"pre\">-trans.fif(.gz)</span></code></p></td>\n",
    "</tr>\n",
    "<tr class=\"row-odd\"><td><p><a class=\"reference internal\" href=\"../../generated/mne.Forward.html#mne.Forward\" title=\"mne.Forward\"><code class=\"xref py py-obj docutils literal notranslate\"><span class=\"pre\">Forward</span></code></a></p></td>\n",
    "<td><p><code class=\"docutils literal notranslate\"><span class=\"pre\">-fwd.fif(.gz)</span></code></p></td>\n",
    "</tr>\n",
    "<tr class=\"row-even\"><td><p><a class=\"reference internal\" href=\"../../generated/mne.minimum_norm.InverseOperator.html#mne.minimum_norm.InverseOperator\" title=\"mne.minimum_norm.InverseOperator\"><code class=\"xref py py-obj docutils literal notranslate\"><span class=\"pre\">InverseOperator</span></code></a></p></td>\n",
    "<td><p><code class=\"docutils literal notranslate\"><span class=\"pre\">-inv.fif(.gz)</span></code></p></td>\n",
    "</tr>\n",
    "</tbody>\n",
    "</table>"
   ]
  },
  {
   "cell_type": "markdown",
   "metadata": {},
   "source": [
    "#### Adding Raw data   \n",
    "\n",
    "Raw data는 ```mne.Report.add_raw()``` method를 통해 추가할 수 있다."
   ]
  },
  {
   "cell_type": "code",
   "execution_count": null,
   "metadata": {},
   "outputs": [],
   "source": [
    "raw_path = sample_dir / \"sample_audvis_filt-0-40_raw.fif\"\n",
    "raw = mne.io.read_raw(raw_path)\n",
    "raw.pick_types(eeg=True, eog=True, stim=True).crop(tmax=60).load_data()\n",
    "\n",
    "report = mne.Report(title=\"Raw example\")\n",
    "# This method also accepts a path, e.g., raw=raw_path\n",
    "report.add_raw(raw=raw, title=\"Raw\", psd=False)  # omit PSD plot\n",
    "report.save(\"report_raw.html\", overwrite=True)"
   ]
  },
  {
   "cell_type": "markdown",
   "metadata": {},
   "source": [
    "```mne.Report.add_raw()```를 통해 생성된 ```Raw``` HTML 문서\n",
    "\n",
    "<img src=\"../img/Getting started with mne.Report/Raw_Report_example.png\" width=600>"
   ]
  },
  {
   "cell_type": "markdown",
   "metadata": {},
   "source": [
    "#### Adding events"
   ]
  },
  {
   "cell_type": "code",
   "execution_count": null,
   "metadata": {},
   "outputs": [],
   "source": [
    "events_path = sample_dir / \"sample_audvis_filt-0-40_raw-eve.fif\"\n",
    "events = mne.find_events(raw=raw)\n",
    "sfreq = raw.info[\"sfreq\"]\n",
    "\n",
    "report = mne.Report(title=\"Events example\")\n",
    "report.add_events(events=events_path, title=\"Events from Path\", sfreq=sfreq)\n",
    "report.add_events(events=events, title='Events from \"events\"', sfreq=sfreq)\n",
    "report.save(\"report_events.html\", overwrite=True)"
   ]
  },
  {
   "cell_type": "markdown",
   "metadata": {},
   "source": [
    "```mne.Report.add_events()```로 생성된 ```events```에 관한 HTML 문서   \n",
    "\n",
    "<img src=\"../img/Getting started with mne.Report/events_Report_example.png\" width=600>"
   ]
  },
  {
   "cell_type": "markdown",
   "metadata": {},
   "source": [
    "#### Adding Epochs\n"
   ]
  },
  {
   "cell_type": "code",
   "execution_count": null,
   "metadata": {},
   "outputs": [],
   "source": [
    "event_id = {\n",
    "    \"auditory/left\": 1,\n",
    "    \"auditory/right\": 2,\n",
    "    \"visual/left\": 3,\n",
    "    \"visual/right\": 4,\n",
    "    \"face\": 5,\n",
    "    \"buttonpress\": 32,\n",
    "}\n",
    "\n",
    "metadata, _, _ = mne.epochs.make_metadata(\n",
    "    events=events, event_id=event_id, tmin=-0.2, tmax=0.5, sfreq=raw.info[\"sfreq\"]\n",
    ")\n",
    "epochs = mne.Epochs(raw=raw, events=events, event_id=event_id, metadata=metadata)\n",
    "\n",
    "report = mne.Report(title=\"Epochs example\")\n",
    "report.add_epochs(epochs=epochs, title='Epochs from \"epochs\"')\n",
    "report.save(\"report_epochs.html\", overwrite=True)"
   ]
  },
  {
   "cell_type": "markdown",
   "metadata": {},
   "source": [
    "```mne.Report.add_epochs()```로 생성된 ```Epochs``` HTML 문서   \n",
    "```event_id```는 metadata를 생성하기 위해 필요한 파라미터이다.\n",
    "\n",
    "<img src=\"../img/Getting started with mne.Report/Epochs_Report_example.png\" width=600>"
   ]
  },
  {
   "cell_type": "markdown",
   "metadata": {},
   "source": [
    "#### Adding Evoked\n"
   ]
  },
  {
   "cell_type": "code",
   "execution_count": null,
   "metadata": {},
   "outputs": [],
   "source": [
    "evoked_path = sample_dir / \"sample_audvis-ave.fif\"\n",
    "cov_path = sample_dir / \"sample_audvis-cov.fif\"\n",
    "\n",
    "evokeds = mne.read_evokeds(evoked_path, baseline=(None, 0))\n",
    "evokeds_subset = evokeds[:2]  # The first two\n",
    "for evoked in evokeds_subset:\n",
    "    evoked.pick(\"eeg\")  # just for speed of plotting\n",
    "\n",
    "report = mne.Report(title=\"Evoked example\")\n",
    "report.add_evokeds(\n",
    "    evokeds=evokeds_subset,\n",
    "    titles=[\"evoked 1\", \"evoked 2\"],  # Manually specify titles\n",
    "    noise_cov=cov_path,\n",
    "    n_time_points=21,\n",
    ")\n",
    "report.save(\"report_evoked.html\", overwrite=True)"
   ]
  },
  {
   "cell_type": "markdown",
   "metadata": {},
   "source": [
    "```mne.Report.add_evokeds()```로 생성된 ```Evoked``` HTML 문서   \n",
    "```n_time_points``` parameter를 통해 snapshot 간격을 최대 21조각으로 나눌 수 있다.   \n",
    "\n",
    "<img src=\"../img/Getting started with mne.Report/Evoked_Report_example.png\" width=600>"
   ]
  },
  {
   "cell_type": "markdown",
   "metadata": {},
   "source": [
    "#### Adding Covariance"
   ]
  },
  {
   "cell_type": "code",
   "execution_count": null,
   "metadata": {},
   "outputs": [],
   "source": [
    "cov_path = sample_dir / \"sample_audvis-cov.fif\"\n",
    "\n",
    "report = mne.Report(title=\"Covariance example\")\n",
    "report.add_covariance(cov=cov_path, info=raw_path, title=\"Covariance\")\n",
    "report.save(\"report_cov.html\", overwrite=True)"
   ]
  },
  {
   "cell_type": "markdown",
   "metadata": {},
   "source": [
    "```mne.Report.add_covariance()```로 생성된 ```covariance``` HTML 문서\n",
    "\n",
    "<img src=\"../img/Getting started with mne.Report/Covariance_Report_example.png\" width=600>"
   ]
  },
  {
   "cell_type": "markdown",
   "metadata": {},
   "source": [
    "#### Adding Projection vectors\n"
   ]
  },
  {
   "cell_type": "code",
   "execution_count": null,
   "metadata": {},
   "outputs": [],
   "source": [
    "ecg_proj_path = sample_dir / \"sample_audvis_ecg-proj.fif\"\n",
    "eog_proj_path = sample_dir / \"sample_audvis_eog-proj.fif\"\n",
    "\n",
    "report = mne.Report(title=\"Projectors example\")\n",
    "report.add_projs(info=raw_path, title=\"Projs from info\")\n",
    "report.add_projs(info=raw_path, projs=ecg_proj_path, title=\"ECG projs from path\")\n",
    "report.add_projs(info=raw_path, projs=eog_proj_path, title=\"EOG projs from path\")\n",
    "report.save(\"report_projs.html\", overwrite=True)"
   ]
  },
  {
   "cell_type": "markdown",
   "metadata": {},
   "source": [
    "```mne.Report.add_projs()```로 생성된 ```projection vectors``` HTML 문서\n",
    "\n",
    "<img src=\"../img/Getting started with mne.Report/Projectors_Report_example.png\" width=600>"
   ]
  },
  {
   "cell_type": "markdown",
   "metadata": {},
   "source": [
    "#### Adding ICA"
   ]
  },
  {
   "cell_type": "code",
   "execution_count": null,
   "metadata": {},
   "outputs": [],
   "source": [
    "ica = mne.preprocessing.ICA(\n",
    "    n_components=5,  # fit 5 ICA components\n",
    "    fit_params=dict(tol=0.01),  # assume very early on that ICA has converged\n",
    ")\n",
    "\n",
    "ica.fit(inst=raw)\n",
    "\n",
    "# create epochs based on EOG events, find EOG artifacts in the data via pattern\n",
    "# matching, and exclude the EOG-related ICA components\n",
    "eog_epochs = mne.preprocessing.create_eog_epochs(raw=raw)\n",
    "eog_components, eog_scores = ica.find_bads_eog(\n",
    "    inst=eog_epochs,\n",
    "    ch_name=\"EEG 001\",  # a channel close to the eye\n",
    "    threshold=1,  # lower than the default threshold\n",
    ")\n",
    "ica.exclude = eog_components\n",
    "\n",
    "report = mne.Report(title=\"ICA example\")\n",
    "report.add_ica(\n",
    "    ica=ica,\n",
    "    title=\"ICA cleaning\",\n",
    "    picks=[0, 1],  # only plot the first two components\n",
    "    inst=raw,\n",
    "    eog_evoked=eog_epochs.average(),\n",
    "    eog_scores=eog_scores,\n",
    "    n_jobs=None,  # could be increased!\n",
    ")\n",
    "report.save(\"report_ica.html\", overwrite=True)"
   ]
  },
  {
   "cell_type": "markdown",
   "metadata": {},
   "source": [
    "```mne.Report.add_ica```로 생성된 ```ICA``` HTML 문서   \n",
    "```inst``` parameter에 따라 ```ICA``` data를 ```raw`` data 등 여러 데이터와 함께 띄울 지 혼자 띄울 지 결정할 수 있다.   \n",
    "\n",
    "\n",
    "<img src=\"../img/Getting started with mne.Report/ICA_Report_example.png\" width=600>"
   ]
  },
  {
   "cell_type": "markdown",
   "metadata": {},
   "source": [
    "#### Adding MRI with BEM"
   ]
  },
  {
   "cell_type": "code",
   "execution_count": null,
   "metadata": {},
   "outputs": [],
   "source": [
    "report = mne.Report(title=\"BEM example\")\n",
    "report.add_bem(\n",
    "    subject=\"sample\", subjects_dir=subjects_dir, title=\"MRI & BEM\", decim=20, width=256\n",
    ")\n",
    "report.save(\"report_mri_and_bem.html\", overwrite=True)"
   ]
  },
  {
   "cell_type": "markdown",
   "metadata": {},
   "source": [
    "```mne.Report.add_bem()```로 생성된 MRI BEM(단면)에 관한 HTML 문서   \n",
    "\n",
    "```decim```, ```width``` parameter를 조절하여 용량을 줄일 수 있다.   \n",
    "\n",
    "<img src=\"../img/Getting started with mne.Report/BEM_Report_example.png\" width=600>"
   ]
  },
  {
   "cell_type": "markdown",
   "metadata": {},
   "source": [
    "#### Adding coregistration\n"
   ]
  },
  {
   "cell_type": "code",
   "execution_count": null,
   "metadata": {},
   "outputs": [],
   "source": [
    "trans_path = sample_dir / \"sample_audvis_raw-trans.fif\"\n",
    "\n",
    "report = mne.Report(title=\"Coregistration example\")\n",
    "report.add_trans(\n",
    "    trans=trans_path,\n",
    "    info=raw_path,\n",
    "    subject=\"sample\",\n",
    "    subjects_dir=subjects_dir,\n",
    "    alpha=1.0,\n",
    "    title=\"Coregistration\",\n",
    ")\n",
    "report.save(\"report_coregistration.html\", overwrite=True)"
   ]
  },
  {
   "cell_type": "markdown",
   "metadata": {},
   "source": [
    "```mne.Reoirt.add_trans()```로 생성된 ```Coregistration``` HTML 문서   \n",
    "\n",
    "<img src=\"../img/Getting started with mne.Report/Coregistration_Report_exmaple.png\" width=600>"
   ]
  },
  {
   "cell_type": "markdown",
   "metadata": {},
   "source": [
    "#### Adding a Forward solution"
   ]
  },
  {
   "cell_type": "code",
   "execution_count": null,
   "metadata": {},
   "outputs": [],
   "source": [
    "fwd_path = sample_dir / \"sample_audvis-meg-oct-6-fwd.fif\"\n",
    "\n",
    "report = mne.Report(title=\"Forward solution example\")\n",
    "report.add_forward(forward=fwd_path, title=\"Forward solution\")\n",
    "report.save(\"report_forward_sol.html\", overwrite=True)"
   ]
  },
  {
   "cell_type": "markdown",
   "metadata": {},
   "source": [
    "```mne.Report.add_forward()```로 생성된 ```Forward solution``` HTML 문서\n",
    "\n",
    "<img src=\"../img/Getting started with mne.Report/Forward_Report_example.png\" width=600>"
   ]
  },
  {
   "cell_type": "markdown",
   "metadata": {},
   "source": [
    "#### Adding an InverseOperator\n"
   ]
  },
  {
   "cell_type": "code",
   "execution_count": null,
   "metadata": {},
   "outputs": [],
   "source": [
    "inverse_op_path = sample_dir / \"sample_audvis-meg-oct-6-meg-inv.fif\"\n",
    "\n",
    "report = mne.Report(title=\"Inverse operator example\")\n",
    "report.add_inverse_operator(inverse_operator=inverse_op_path, title=\"Inverse operator\")\n",
    "report.save(\"report_inverse_op.html\", overwrite=True)"
   ]
  },
  {
   "cell_type": "markdown",
   "metadata": {},
   "source": [
    "```mne.Report.add_inverse_operator()```로 생성된 ```Inverse operator``` HTML 문서\n",
    "\n",
    "<img src=\"../img/Getting started with mne.Report/Inverse_Report_example.png\" width=600>"
   ]
  },
  {
   "cell_type": "markdown",
   "metadata": {},
   "source": [
    "#### Adding a SourceEstimate\n"
   ]
  },
  {
   "cell_type": "code",
   "execution_count": null,
   "metadata": {},
   "outputs": [],
   "source": [
    "stc_path = sample_dir / \"sample_audvis-meg\"\n",
    "\n",
    "report = mne.Report(title=\"Source estimate example\")\n",
    "report.add_stc(\n",
    "    stc=stc_path,\n",
    "    subject=\"sample\",\n",
    "    subjects_dir=subjects_dir,\n",
    "    title=\"Source estimate\",\n",
    "    n_time_points=25,  # few for speed\n",
    ")\n",
    "report.save(\"report_inverse_sol.html\", overwrite=True)"
   ]
  },
  {
   "cell_type": "markdown",
   "metadata": {},
   "source": [
    "```mne.Report.add_stc()```로 생성된 ```Source estimate``` HTML 문서\n",
    "\n",
    "<img src=\"../img/Getting started with mne.Report/STC_Report_example.png\" width=600>"
   ]
  },
  {
   "cell_type": "markdown",
   "metadata": {},
   "source": [
    "#### Adding source code (e.g., a Python script)"
   ]
  },
  {
   "cell_type": "code",
   "execution_count": null,
   "metadata": {},
   "outputs": [],
   "source": [
    "mne_init_py_path = Path(mne.__file__)  # __init__.py in the MNE-Python root\n",
    "mne_init_py_content = mne_init_py_path.read_text(encoding=\"utf-8\")\n",
    "\n",
    "report = mne.Report(title=\"Code example\")\n",
    "report.add_code(code=mne_init_py_path, title=\"Code from Path\")\n",
    "report.add_code(code=mne_init_py_content, title=\"Code from string\")\n",
    "\n",
    "report.save(\"report_code.html\", overwrite=True)"
   ]
  },
  {
   "cell_type": "markdown",
   "metadata": {},
   "source": [
    "```mne.Report.add_code()```로 생성된 ```Code``` HTML 문서\n",
    "\n",
    "<img src=\"../img/Getting started with mne.Report/Code_Report_example.png\" width=600>"
   ]
  },
  {
   "cell_type": "markdown",
   "metadata": {},
   "source": [
    "#### Adding custom figures"
   ]
  },
  {
   "cell_type": "code",
   "execution_count": null,
   "metadata": {},
   "outputs": [],
   "source": [
    "x = np.linspace(start=0, stop=10, num=100)\n",
    "y = x**2\n",
    "\n",
    "fig, ax = plt.subplots()\n",
    "ax.plot(x, y, ls=\"--\", lw=2, color=\"blue\", label=\"my function\")\n",
    "ax.set_xlabel(\"x\")\n",
    "ax.set_ylabel(\"f(x)\")\n",
    "ax.legend()\n",
    "\n",
    "report = mne.Report(title=\"Figure example\")\n",
    "report.add_figure(\n",
    "    fig=fig,\n",
    "    title=\"A custom figure\",\n",
    "    caption=\"A blue dashed line reaches up into the sky …\",\n",
    "    image_format=\"PNG\",\n",
    ")\n",
    "report.save(\"report_custom_figure.html\", overwrite=True)\n",
    "plt.close(fig)"
   ]
  },
  {
   "cell_type": "markdown",
   "metadata": {},
   "source": [
    "```mne.Report.add_figure()```를 통해 ```matplotlib``` 결과도 HTML 문서로 생성할 수 있다.\n",
    "\n",
    "<img src=\"../img/Getting started with mne.Report/Figure_Report_example.png\" width=600>"
   ]
  },
  {
   "cell_type": "code",
   "execution_count": null,
   "metadata": {},
   "outputs": [],
   "source": [
    "# 여러 개의 plot을 한 section 안에 띄우기\n",
    "fig_1, ax_1 = plt.subplots()\n",
    "ax_1.plot([1, 2, 3])\n",
    "\n",
    "fig_2, ax_2 = plt.subplots()\n",
    "ax_2.plot([3, 2, 1])\n",
    "\n",
    "section = \"Section example\"\n",
    "\n",
    "report = mne.Report(title=\"Figure section example\")\n",
    "report.add_figure(fig=fig_1, title=\"Figure 1\", section=section, tags=\"fig-1\")\n",
    "report.add_figure(fig=fig_2, title=\"Figure 2\", section=section, tags=\"fig-2\")\n",
    "report.save(\"report_custom_figure_sections.html\", overwrite=True)\n",
    "plt.close(fig_1)\n",
    "plt.close(fig_2)"
   ]
  },
  {
   "cell_type": "markdown",
   "metadata": {},
   "source": [
    "<img src=\"../img/Getting started with mne.Report/Figure2_Report_example.png\" width=600>"
   ]
  },
  {
   "cell_type": "code",
   "execution_count": null,
   "metadata": {},
   "outputs": [],
   "source": [
    "mne_logo_path = Path(mne.__file__).parent / \"icons\" / \"mne_icon-cropped.png\"\n",
    "fig_array = plt.imread(mne_logo_path)\n",
    "rotation_angles = np.linspace(start=0, stop=360, num=17)\n",
    "\n",
    "figs = []\n",
    "captions = []\n",
    "for angle in rotation_angles:\n",
    "    # Rotate and remove some rounding errors to avoid Matplotlib warnings\n",
    "    fig_array_rotated = scipy.ndimage.rotate(input=fig_array, angle=angle)\n",
    "    fig_array_rotated = fig_array_rotated.clip(min=0, max=1)\n",
    "\n",
    "    # Create the figure\n",
    "    fig, ax = plt.subplots()\n",
    "    ax.imshow(fig_array_rotated)\n",
    "    ax.set_axis_off()\n",
    "\n",
    "    # Store figure and caption\n",
    "    figs.append(fig)\n",
    "    captions.append(f\"Rotation angle: {round(angle, 1)}°\")\n",
    "\n",
    "# can also be a MNEQtBrowser instance\n",
    "figs.append(raw.plot())\n",
    "captions.append(\"... plus a raw data plot\")\n",
    "\n",
    "report = mne.Report(title=\"Multiple figures example\")\n",
    "report.add_figure(fig=figs, title=\"Fun with figures! 🥳\", caption=captions)\n",
    "report.save(\"report_custom_figures.html\", overwrite=True)\n",
    "for fig in figs[:-1]:\n",
    "    plt.close(fig)\n",
    "figs[-1].close()\n",
    "del figs"
   ]
  },
  {
   "cell_type": "markdown",
   "metadata": {},
   "source": [
    "여러 개의 plot을 slider 요소를 통해서 띄울 수 있다.   \n",
    "위 코드는 MNE 로고를 360도 회전하는 plot 여러 개를 slider를 통해 한 번에 나타낸 것이다.\n",
    "\n",
    "<img src=\"../img/Getting started with mne.Report/Figure3_Report_example.png\" width=600>"
   ]
  },
  {
   "cell_type": "markdown",
   "metadata": {},
   "source": [
    "#### Adding image files\n"
   ]
  },
  {
   "cell_type": "code",
   "execution_count": 21,
   "metadata": {},
   "outputs": [
    {
     "name": "stdout",
     "output_type": "stream",
     "text": [
      "Embedding : jquery-3.6.0.min.js\n",
      "Embedding : bootstrap.bundle.min.js\n",
      "Embedding : bootstrap.min.css\n",
      "Embedding : bootstrap-table/bootstrap-table.min.js\n",
      "Embedding : bootstrap-table/bootstrap-table.min.css\n",
      "Embedding : bootstrap-table/bootstrap-table-copy-rows.min.js\n",
      "Embedding : bootstrap-table/bootstrap-table-export.min.js\n",
      "Embedding : bootstrap-table/tableExport.min.js\n",
      "Embedding : bootstrap-icons/bootstrap-icons.mne.min.css\n",
      "Embedding : highlightjs/highlight.min.js\n",
      "Embedding : highlightjs/atom-one-dark-reasonable.min.css\n",
      "Saving report to : C:\\Users\\supli\\Documents\\Repo\\MNE_tutorials\\Inuductory_tutorials\\report_custom_image.html\n"
     ]
    },
    {
     "data": {
      "text/plain": [
       "'C:\\\\Users\\\\supli\\\\Documents\\\\Repo\\\\MNE_tutorials\\\\Inuductory_tutorials\\\\report_custom_image.html'"
      ]
     },
     "execution_count": 21,
     "metadata": {},
     "output_type": "execute_result"
    }
   ],
   "source": [
    "report = mne.Report(title=\"Image example\")\n",
    "report.add_image(\n",
    "    image=mne_logo_path, title=\"MNE\", caption=\"Powered by 🧠 🧠 🧠 around the world!\"\n",
    ")\n",
    "report.save(\"report_custom_image.html\", overwrite=True)"
   ]
  },
  {
   "cell_type": "markdown",
   "metadata": {},
   "source": [
    "```mne.Report.add_image()```를 통해 HTML 문서에 이미지를 추가할 수 있다.\n",
    "\n",
    "<img src=\"../img/Getting started with mne.Report/Image_Report_example.png\" width=600>"
   ]
  },
  {
   "cell_type": "markdown",
   "metadata": {},
   "source": [
    "#### Working with tags"
   ]
  },
  {
   "cell_type": "code",
   "execution_count": 22,
   "metadata": {},
   "outputs": [
    {
     "name": "stdout",
     "output_type": "stream",
     "text": [
      "Embedding : jquery-3.6.0.min.js\n",
      "Embedding : bootstrap.bundle.min.js\n",
      "Embedding : bootstrap.min.css\n",
      "Embedding : bootstrap-table/bootstrap-table.min.js\n",
      "Embedding : bootstrap-table/bootstrap-table.min.css\n",
      "Embedding : bootstrap-table/bootstrap-table-copy-rows.min.js\n",
      "Embedding : bootstrap-table/bootstrap-table-export.min.js\n",
      "Embedding : bootstrap-table/tableExport.min.js\n",
      "Embedding : bootstrap-icons/bootstrap-icons.mne.min.css\n",
      "Embedding : highlightjs/highlight.min.js\n",
      "Embedding : highlightjs/atom-one-dark-reasonable.min.css\n",
      "Saving report to : C:\\Users\\supli\\Documents\\Repo\\MNE_tutorials\\Inuductory_tutorials\\report_tags.html\n"
     ]
    },
    {
     "data": {
      "text/plain": [
       "'C:\\\\Users\\\\supli\\\\Documents\\\\Repo\\\\MNE_tutorials\\\\Inuductory_tutorials\\\\report_tags.html'"
      ]
     },
     "execution_count": 22,
     "metadata": {},
     "output_type": "execute_result"
    }
   ],
   "source": [
    "report = mne.Report(title=\"Tags example\")\n",
    "report.add_image(\n",
    "    image=mne_logo_path, title=\"MNE Logo\", tags=(\"image\", \"mne\", \"logo\", \"open-source\")\n",
    ")\n",
    "report.save(\"report_tags.html\", overwrite=True)"
   ]
  },
  {
   "cell_type": "markdown",
   "metadata": {},
   "source": [
    "모든 ```mne.Report.add_*()``` 함수의 ```tag``` parameter를 통해 키워드 태깅을 할 수 있다.\n",
    "\n",
    "<img src=\"../img/Getting started with mne.Report/Tags_Report_example.png\" width=600>"
   ]
  },
  {
   "cell_type": "markdown",
   "metadata": {},
   "source": [
    "#### Editing a saved report   \n",
    "HTML 파일을 다시 ```Report``` 객체로 읽어들이는 것은 불가능하기에 이를 위해서는 HDF5 파일로 저장해야 된다."
   ]
  },
  {
   "cell_type": "code",
   "execution_count": 23,
   "metadata": {},
   "outputs": [
    {
     "name": "stdout",
     "output_type": "stream",
     "text": [
      "Embedding : jquery-3.6.0.min.js\n",
      "Embedding : bootstrap.bundle.min.js\n",
      "Embedding : bootstrap.min.css\n",
      "Embedding : bootstrap-table/bootstrap-table.min.js\n",
      "Embedding : bootstrap-table/bootstrap-table.min.css\n",
      "Embedding : bootstrap-table/bootstrap-table-copy-rows.min.js\n",
      "Embedding : bootstrap-table/bootstrap-table-export.min.js\n",
      "Embedding : bootstrap-table/tableExport.min.js\n",
      "Embedding : bootstrap-icons/bootstrap-icons.mne.min.css\n",
      "Embedding : highlightjs/highlight.min.js\n",
      "Embedding : highlightjs/atom-one-dark-reasonable.min.css\n",
      "Saving report to : C:\\Users\\supli\\Documents\\Repo\\MNE_tutorials\\Inuductory_tutorials\\report_partial.hdf5\n"
     ]
    },
    {
     "data": {
      "text/plain": [
       "'C:\\\\Users\\\\supli\\\\Documents\\\\Repo\\\\MNE_tutorials\\\\Inuductory_tutorials\\\\report_partial.hdf5'"
      ]
     },
     "execution_count": 23,
     "metadata": {},
     "output_type": "execute_result"
    }
   ],
   "source": [
    "report = mne.Report(title=\"Saved report example\", verbose=True)\n",
    "report.add_image(image=mne_logo_path, title=\"MNE 1\")\n",
    "report.save(\"report_partial.hdf5\", overwrite=True)"
   ]
  },
  {
   "cell_type": "code",
   "execution_count": 24,
   "metadata": {},
   "outputs": [
    {
     "name": "stdout",
     "output_type": "stream",
     "text": [
      "Embedding : jquery-3.6.0.min.js\n",
      "Embedding : bootstrap.bundle.min.js\n",
      "Embedding : bootstrap.min.css\n",
      "Embedding : bootstrap-table/bootstrap-table.min.js\n",
      "Embedding : bootstrap-table/bootstrap-table.min.css\n",
      "Embedding : bootstrap-table/bootstrap-table-copy-rows.min.js\n",
      "Embedding : bootstrap-table/bootstrap-table-export.min.js\n",
      "Embedding : bootstrap-table/tableExport.min.js\n",
      "Embedding : bootstrap-icons/bootstrap-icons.mne.min.css\n",
      "Embedding : highlightjs/highlight.min.js\n",
      "Embedding : highlightjs/atom-one-dark-reasonable.min.css\n",
      "Overwriting existing file.\n",
      "Saving report to : C:\\Users\\supli\\Documents\\Repo\\MNE_tutorials\\Inuductory_tutorials\\report_partial.hdf5\n"
     ]
    },
    {
     "data": {
      "text/plain": [
       "'C:\\\\Users\\\\supli\\\\Documents\\\\Repo\\\\MNE_tutorials\\\\Inuductory_tutorials\\\\report_partial.hdf5'"
      ]
     },
     "execution_count": 24,
     "metadata": {},
     "output_type": "execute_result"
    }
   ],
   "source": [
    "# report 객체 읽어들어 수정\n",
    "report_from_disk = mne.open_report(\"report_partial.hdf5\")\n",
    "report_from_disk.add_image(image=mne_logo_path, title=\"MNE 2\")\n",
    "report_from_disk.save(\"report_partial.hdf5\", overwrite=True)"
   ]
  },
  {
   "cell_type": "code",
   "execution_count": 25,
   "metadata": {},
   "outputs": [
    {
     "name": "stdout",
     "output_type": "stream",
     "text": [
      "Embedding : jquery-3.6.0.min.js\n",
      "Embedding : bootstrap.bundle.min.js\n",
      "Embedding : bootstrap.min.css\n",
      "Embedding : bootstrap-table/bootstrap-table.min.js\n",
      "Embedding : bootstrap-table/bootstrap-table.min.css\n",
      "Embedding : bootstrap-table/bootstrap-table-copy-rows.min.js\n",
      "Embedding : bootstrap-table/bootstrap-table-export.min.js\n",
      "Embedding : bootstrap-table/tableExport.min.js\n",
      "Embedding : bootstrap-icons/bootstrap-icons.mne.min.css\n",
      "Embedding : highlightjs/highlight.min.js\n",
      "Embedding : highlightjs/atom-one-dark-reasonable.min.css\n",
      "Saving report to : C:\\Users\\supli\\Documents\\Repo\\MNE_tutorials\\Inuductory_tutorials\\report_final.html\n",
      "Overwriting existing file.\n",
      "Saving report to : C:\\Users\\supli\\Documents\\Repo\\MNE_tutorials\\Inuductory_tutorials\\report_partial.hdf5\n"
     ]
    }
   ],
   "source": [
    "# 최종적으로 html 파일로 저장\n",
    "with mne.open_report(\"report_partial.hdf5\") as report:\n",
    "    report.add_image(image=mne_logo_path, title=\"MNE 3\")\n",
    "    report.save(\"report_final.html\", overwrite=True)"
   ]
  },
  {
   "cell_type": "markdown",
   "metadata": {},
   "source": [
    "<img src=\"../img/Getting started with mne.Report/HDF5_Report_example.png\" width=600>"
   ]
  },
  {
   "cell_type": "markdown",
   "metadata": {},
   "source": [
    "#### Adding an entire folder of files\n",
    "\n",
    "```mne.Report.parse_folder()```를 통해 여러 파일이 저장된 폴더를 한 번에 추가할 수 있다.   \n",
    "더 자세한 내용은 [여기](https://mne.tools/stable/auto_tutorials/intro/70_report.html#adding-an-entire-folder-of-files)를 참고."
   ]
  },
  {
   "cell_type": "code",
   "execution_count": 28,
   "metadata": {},
   "outputs": [
    {
     "name": "stdout",
     "output_type": "stream",
     "text": [
      "Embedding : jquery-3.6.0.min.js\n",
      "Embedding : bootstrap.bundle.min.js\n",
      "Embedding : bootstrap.min.css\n",
      "Embedding : bootstrap-table/bootstrap-table.min.js\n",
      "Embedding : bootstrap-table/bootstrap-table.min.css\n",
      "Embedding : bootstrap-table/bootstrap-table-copy-rows.min.js\n",
      "Embedding : bootstrap-table/bootstrap-table-export.min.js\n",
      "Embedding : bootstrap-table/tableExport.min.js\n",
      "Embedding : bootstrap-icons/bootstrap-icons.mne.min.css\n",
      "Embedding : highlightjs/highlight.min.js\n",
      "Embedding : highlightjs/atom-one-dark-reasonable.min.css\n",
      "Opening raw data file C:\\Users\\supli\\mne_data\\MNE-sample-data\\MEG\\sample\\ernoise_raw.fif...\n",
      "Isotrak not found\n",
      "    Read a total of 3 projection items:\n",
      "        PCA-v1 (1 x 102)  idle\n",
      "        PCA-v2 (1 x 102)  idle\n",
      "        PCA-v3 (1 x 102)  idle\n",
      "    Range : 19800 ... 85867 =     32.966 ...   142.965 secs\n",
      "Ready.\n",
      "Opening raw data file C:\\Users\\supli\\mne_data\\MNE-sample-data\\MEG\\sample\\sample_audvis_filt-0-40_raw.fif...\n",
      "    Read a total of 4 projection items:\n",
      "        PCA-v1 (1 x 102)  idle\n",
      "        PCA-v2 (1 x 102)  idle\n",
      "        PCA-v3 (1 x 102)  idle\n",
      "        Average EEG reference (1 x 60)  idle\n",
      "    Range : 6450 ... 48149 =     42.956 ...   320.665 secs\n",
      "Ready.\n",
      "Opening raw data file C:\\Users\\supli\\mne_data\\MNE-sample-data\\MEG\\sample\\sample_audvis_raw.fif...\n",
      "    Read a total of 3 projection items:\n",
      "        PCA-v1 (1 x 102)  idle\n",
      "        PCA-v2 (1 x 102)  idle\n",
      "        PCA-v3 (1 x 102)  idle\n",
      "    Range : 25800 ... 192599 =     42.956 ...   320.670 secs\n",
      "Ready.\n",
      "Iterating over 3 potential files (this may take some \n",
      "Rendering : C:\\Users\\supli\\mne_data\\MNE-sample-data\\MEG\\sample\\ernoise_raw.fif\n",
      "Opening raw data file C:\\Users\\supli\\mne_data\\MNE-sample-data\\MEG\\sample\\ernoise_raw.fif...\n",
      "Isotrak not found\n",
      "    Read a total of 3 projection items:\n",
      "        PCA-v1 (1 x 102)  idle\n",
      "        PCA-v2 (1 x 102)  idle\n",
      "        PCA-v3 (1 x 102)  idle\n",
      "    Range : 19800 ... 85867 =     32.966 ...   142.965 secs\n",
      "Ready.\n",
      "Rendering : C:\\Users\\supli\\mne_data\\MNE-sample-data\\MEG\\sample\\sample_audvis_filt-0-40_raw.fif\n",
      "Opening raw data file C:\\Users\\supli\\mne_data\\MNE-sample-data\\MEG\\sample\\sample_audvis_filt-0-40_raw.fif...\n",
      "    Read a total of 4 projection items:\n",
      "        PCA-v1 (1 x 102)  idle\n",
      "        PCA-v2 (1 x 102)  idle\n",
      "        PCA-v3 (1 x 102)  idle\n",
      "        Average EEG reference (1 x 60)  idle\n",
      "    Range : 6450 ... 48149 =     42.956 ...   320.665 secs\n",
      "Ready.\n",
      "Rendering : C:\\Users\\supli\\mne_data\\MNE-sample-data\\MEG\\sample\\sample_audvis_raw.fif\n",
      "Opening raw data file C:\\Users\\supli\\mne_data\\MNE-sample-data\\MEG\\sample\\sample_audvis_raw.fif...\n",
      "    Read a total of 3 projection items:\n",
      "        PCA-v1 (1 x 102)  idle\n",
      "        PCA-v2 (1 x 102)  idle\n",
      "        PCA-v3 (1 x 102)  idle\n",
      "    Range : 25800 ... 192599 =     42.956 ...   320.670 secs\n",
      "Ready.\n",
      "Overwriting existing file.\n",
      "Saving report to : C:\\Users\\supli\\Documents\\Repo\\MNE_tutorials\\Inuductory_tutorials\\report_parse_folder_basic.html\n"
     ]
    },
    {
     "name": "stderr",
     "output_type": "stream",
     "text": [
      "[Parallel(n_jobs=1)]: Using backend SequentialBackend with 1 concurrent workers.\n",
      "[Parallel(n_jobs=1)]: Done   1 out of   1 | elapsed:    0.0s remaining:    0.0s\n",
      "[Parallel(n_jobs=1)]: Done   1 out of   1 | elapsed:    0.0s finished\n"
     ]
    },
    {
     "data": {
      "text/plain": [
       "'C:\\\\Users\\\\supli\\\\Documents\\\\Repo\\\\MNE_tutorials\\\\Inuductory_tutorials\\\\report_parse_folder_basic.html'"
      ]
     },
     "execution_count": 28,
     "metadata": {},
     "output_type": "execute_result"
    }
   ],
   "source": [
    "report = mne.Report(title=\"parse_folder example\")\n",
    "report.parse_folder(\n",
    "    data_path=data_path, pattern=\"*raw.fif\", render_bem=False, raw_butterfly=False\n",
    ")\n",
    "report.save(\"report_parse_folder_basic.html\", overwrite=True)"
   ]
  },
  {
   "cell_type": "markdown",
   "metadata": {},
   "source": [
    "<img src=\"../img/Getting started with mne.Report/Folder_Report_example.png\" width=600>"
   ]
  },
  {
   "cell_type": "markdown",
   "metadata": {},
   "source": [
    "#### Adding custom HTML (e.g., a description text)"
   ]
  },
  {
   "cell_type": "code",
   "execution_count": 30,
   "metadata": {},
   "outputs": [
    {
     "name": "stdout",
     "output_type": "stream",
     "text": [
      "Embedding : jquery-3.6.0.min.js\n",
      "Embedding : bootstrap.bundle.min.js\n",
      "Embedding : bootstrap.min.css\n",
      "Embedding : bootstrap-table/bootstrap-table.min.js\n",
      "Embedding : bootstrap-table/bootstrap-table.min.css\n",
      "Embedding : bootstrap-table/bootstrap-table-copy-rows.min.js\n",
      "Embedding : bootstrap-table/bootstrap-table-export.min.js\n",
      "Embedding : bootstrap-table/tableExport.min.js\n",
      "Embedding : bootstrap-icons/bootstrap-icons.mne.min.css\n",
      "Embedding : highlightjs/highlight.min.js\n",
      "Embedding : highlightjs/atom-one-dark-reasonable.min.css\n",
      "Saving report to : C:\\Users\\supli\\Documents\\Repo\\MNE_tutorials\\Inuductory_tutorials\\report_add_html.html\n"
     ]
    },
    {
     "data": {
      "text/plain": [
       "'C:\\\\Users\\\\supli\\\\Documents\\\\Repo\\\\MNE_tutorials\\\\Inuductory_tutorials\\\\report_add_html.html'"
      ]
     },
     "execution_count": 30,
     "metadata": {},
     "output_type": "execute_result"
    }
   ],
   "source": [
    "report = mne.Report(title=\"Report on hypothesis 1\")\n",
    "\n",
    "my_html = \"\"\"\n",
    "<p>We have the following hypothesis:</p>\n",
    "<ol>\n",
    "<li>There is a difference between images showing man-made vs. natural\n",
    "environments</li>\n",
    "<li>This difference manifests itself most strongly in the amplitude of the\n",
    "N1 ERP component</li>\n",
    "</ol>\n",
    "<p>Below we show several plots and tests of the data.</p>\n",
    "\"\"\"\n",
    "\n",
    "report.add_html(title=\"Hypothesis\", html=my_html)\n",
    "report.save(\"report_add_html.html\", overwrite=True)"
   ]
  },
  {
   "cell_type": "markdown",
   "metadata": {},
   "source": [
    "```mne.Report.add_html()```을 통해 HTML 문서를 직접 작성할 수 있다.\n",
    "\n",
    "<img src=\"../img/Getting started with mne.Report/HTML_Report_example.png\" width=600>"
   ]
  }
 ],
 "metadata": {
  "kernelspec": {
   "display_name": "Python 3",
   "language": "python",
   "name": "python3"
  },
  "language_info": {
   "codemirror_mode": {
    "name": "ipython",
    "version": 3
   },
   "file_extension": ".py",
   "mimetype": "text/x-python",
   "name": "python",
   "nbconvert_exporter": "python",
   "pygments_lexer": "ipython3",
   "version": "3.10.10"
  },
  "orig_nbformat": 4
 },
 "nbformat": 4,
 "nbformat_minor": 2
}
